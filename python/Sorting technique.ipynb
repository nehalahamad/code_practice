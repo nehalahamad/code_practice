{
 "cells": [
  {
   "cell_type": "code",
   "execution_count": 11,
   "id": "4a3463db",
   "metadata": {},
   "outputs": [
    {
     "name": "stdout",
     "output_type": "stream",
     "text": [
      "[1, 2, 3, 4, 4, 5, 6, 8, 9, 32]\n"
     ]
    }
   ],
   "source": [
    "# Insertion Sort\n",
    "def insert(arr, j):\n",
    "    key = arr[j]\n",
    "    i = j-1\n",
    "    while i>=0 and arr[i]>key:\n",
    "        arr[i+1] = arr[i]\n",
    "        i -= 1\n",
    "    arr[i+1] = key\n",
    "    return arr\n",
    "\n",
    "def insertion_sort(arr):\n",
    "    for j in range(1, len(arr)):\n",
    "        arr = insert(arr, j)\n",
    "    return arr\n",
    "\n",
    "arr = [4,5,6,1,2,4,32, 3,9,8]\n",
    "s_arr = insertion_sort(arr)\n",
    "print(s_arr)\n",
    "            "
   ]
  },
  {
   "cell_type": "code",
   "execution_count": 1,
   "id": "f1bcd1d9",
   "metadata": {},
   "outputs": [
    {
     "name": "stdout",
     "output_type": "stream",
     "text": [
      "[2, 3]\n"
     ]
    }
   ],
   "source": [
    "# Merge Sort  \n",
    "def merge(arr, p, q, r):\n",
    "    n1 = q - p + 1\n",
    "    n2 = r - q\n",
    "    L = arr[p:q+1]+[float('inf')]\n",
    "    R = arr[q+1:r+1]+[float('inf')]\n",
    "    i, j = 0, 0\n",
    "    for k in range(p, r+1):\n",
    "        if L[i] <= R[j]:\n",
    "            arr[k] = L[i]\n",
    "            i += 1\n",
    "        else:\n",
    "            arr[k] = R[j]\n",
    "            j += 1\n",
    "#     return arr\n",
    "\n",
    "arr = [1,5,7,8, 2,4,6,9]\n",
    "arr = [3,2]\n",
    "p, r = 0, len(arr)-1\n",
    "q = (p+r)//2\n",
    "merge(arr, p, q, r)\n",
    "print(arr)"
   ]
  },
  {
   "cell_type": "code",
   "execution_count": 16,
   "id": "0ee8ee24",
   "metadata": {},
   "outputs": [
    {
     "name": "stdout",
     "output_type": "stream",
     "text": [
      "[1, 2, 3, 4, 4, 5, 6, 8, 9, 32]\n"
     ]
    }
   ],
   "source": [
    "def merge_sort(arr, p, r):\n",
    "    if p < r:\n",
    "        q = (p+r)//2\n",
    "        merge_sort(arr, p, q)\n",
    "        merge_sort(arr, q+1, r)\n",
    "        merge(arr, p, q, r)\n",
    "    return arr\n",
    "\n",
    "arr = [4,5,6,1,2,4,32,3,9,8]\n",
    "p, r = 0, len(arr)-1\n",
    "merge_sort(arr, p, r)\n",
    "print(arr)"
   ]
  },
  {
   "cell_type": "code",
   "execution_count": 4,
   "id": "cba22a4e",
   "metadata": {},
   "outputs": [
    {
     "name": "stdout",
     "output_type": "stream",
     "text": [
      "[1, 2, 3, 4, 4, 5, 6, 8, 9, 32]\n"
     ]
    }
   ],
   "source": [
    "# Quick Sort\n",
    "def partition(arr, p, r):\n",
    "    pivot = arr[r]\n",
    "    i = p-1\n",
    "    for j in range(p, r):\n",
    "        if arr[j] <= pivot:\n",
    "            i += 1\n",
    "            arr[i], arr[j] = arr[j], arr[i]\n",
    "    arr[i+1], arr[r] = arr[r], arr[i+1]\n",
    "    return i+1\n",
    "# -------------------------------\n",
    "def quick_sort(arr, p, r):\n",
    "    if p<r:\n",
    "        q = partition(arr, p, r)\n",
    "        quick_sort(arr, p, q-1)\n",
    "        quick_sort(arr, q+1, r)\n",
    "\n",
    "arr = [4,5,6,1,2,4,32,3,9,8]\n",
    "p, r = 0, len(arr)-1\n",
    "# partition(arr, p, r)\n",
    "quick_sort(arr, p, r)\n",
    "print(arr)"
   ]
  },
  {
   "cell_type": "code",
   "execution_count": 16,
   "id": "b86103a0",
   "metadata": {},
   "outputs": [
    {
     "data": {
      "text/plain": [
       "-1"
      ]
     },
     "execution_count": 16,
     "metadata": {},
     "output_type": "execute_result"
    }
   ],
   "source": [
    "# Binary Search\n",
    "def binary_search(arr, low, high, target):\n",
    "    if low <= high:\n",
    "        mid = (low+high)//2\n",
    "        if arr[mid]==target:\n",
    "            return mid\n",
    "        elif arr[mid]>target:\n",
    "            return binary_search(arr, low, mid-1, target)\n",
    "        else:\n",
    "            return binary_search(arr, mid+1, high, target)\n",
    "    else:\n",
    "        return -1\n",
    "\n",
    "arr = [1, 2, 3, 4, 4, 5, 6, 8, 9, 32]\n",
    "target = 33\n",
    "low, high = 0, len(arr)-1\n",
    "binary_search(arr, low, high, target)"
   ]
  },
  {
   "cell_type": "code",
   "execution_count": 24,
   "id": "25b8796d",
   "metadata": {},
   "outputs": [
    {
     "name": "stdout",
     "output_type": "stream",
     "text": [
      "[1, 2, 3, 4, 4, 5, 6, 8, 9, 32]\n"
     ]
    }
   ],
   "source": [
    "# Max heap\n",
    "def max_heapify(arr, i, heap_size):\n",
    "#     l, r, heap_size = 2*i+1, 2*i+2, len(arr)-1\n",
    "    l, r = 2*i+1, 2*i+2\n",
    "    largest = i\n",
    "    if l<=heap_size and arr[l]>arr[largest]:\n",
    "        largest = l\n",
    "    if r<=heap_size and arr[r]>arr[largest]:\n",
    "        largest = r\n",
    "    if largest != i:\n",
    "        arr[i], arr[largest] = arr[largest], arr[i]\n",
    "        max_heapify(arr, largest, heap_size)\n",
    "    return arr\n",
    "        \n",
    "def build_max_heap(arr, heap_size):\n",
    "    for i in range((heap_size-1)//2, -1, -1):\n",
    "        max_heapify(arr, i, heap_size)\n",
    "\n",
    "def heap_extract_max(arr):\n",
    "    if len(arr)<1:\n",
    "        raise Exception('heap underflow')\n",
    "    maxx = arr[0]\n",
    "    arr[0] = a.pop()\n",
    "    build_max_heap(arr)\n",
    "    return maxx\n",
    "\n",
    "def heap_sort(arr, heap_size):\n",
    "    build_max_heap(arr, heap_size)\n",
    "    \n",
    "    for i in range(heap_size, 0, -1):\n",
    "        arr[0], arr[i] = arr[i], arr[0]\n",
    "        heap_size -= 1\n",
    "        max_heapify(arr, 0, heap_size)\n",
    "\n",
    "# ===========================================\n",
    "\n",
    "arr = [4,5,6,1,2,4,32,3,9,8]\n",
    "# arr = [1,2,3,4,5,6,7,8,9,10]\n",
    "# arr = [32, 9, 6, 5, 8, 4, 4, 3, 1, 2]\n",
    "# maxx = heap_extract_max(arr)\n",
    "heap_size = len(arr)-1\n",
    "heap_sort(arr, heap_size)\n",
    "print(arr)"
   ]
  },
  {
   "cell_type": "code",
   "execution_count": null,
   "id": "bc682ac6",
   "metadata": {},
   "outputs": [],
   "source": [
    "def shell_sort(target):\n",
    "\n",
    "    gap = len(target) // 2\n",
    "    while gap > 0:\n",
    "#         print(gap)\n",
    "        for pos in range(gap, len(target)):\n",
    "            tmp = target[pos]\n",
    "            k = pos\n",
    "            while tmp < target[k-gap] and k >= gap:\n",
    "                target[k] = target[k-gap]\n",
    "                k -= gap\n",
    "            target[k] = tmp\n",
    "        gap //= 2"
   ]
  }
 ],
 "metadata": {
  "kernelspec": {
   "display_name": "Python 3 (ipykernel)",
   "language": "python",
   "name": "python3"
  },
  "language_info": {
   "codemirror_mode": {
    "name": "ipython",
    "version": 3
   },
   "file_extension": ".py",
   "mimetype": "text/x-python",
   "name": "python",
   "nbconvert_exporter": "python",
   "pygments_lexer": "ipython3",
   "version": "3.10.1"
  }
 },
 "nbformat": 4,
 "nbformat_minor": 5
}

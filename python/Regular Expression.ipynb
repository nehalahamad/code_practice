{
 "cells": [
  {
   "cell_type": "markdown",
   "metadata": {},
   "source": [
    "### Main important application area of Regular Expression\n",
    "#### 1- Validation\n",
    "#### 2- Pattern Matching\n",
    "#### 3- Translator like compilers, interpreters, assemblers\n",
    "#### 4- To develop digital circuits\n",
    "#### 5- Communication Protocol TCP/IP etc"
   ]
  },
  {
   "cell_type": "code",
   "execution_count": 1,
   "metadata": {},
   "outputs": [
    {
     "name": "stdout",
     "output_type": "stream",
     "text": [
      "<class 're.Pattern'>\n"
     ]
    }
   ],
   "source": [
    "import re\n",
    "pattern = re.compile('Python')\n",
    "print(type(pattern))"
   ]
  },
  {
   "cell_type": "markdown",
   "metadata": {},
   "source": [
    "**match()**- to check the given pattern at beginning of the target string match, if matches then returns Match object,\n",
    "         otherwise None\n",
    "         \n",
    "**re.fullmatch(pattern, string)**\n",
    "\n",
    "**re.finditer(pattern, string)**  {start(), end(), group()}  it returns iterator of mached object\n",
    "\n",
    "**re.findall(pattern, string)** - it returns a list of all matches\n",
    "\n",
    "**re.search(pattern, string)** - returns Match object of the first occurence else returns None\n",
    "\n",
    "**compile()** - it is used to create pattern object\n",
    "\n",
    "**split()**\n",
    "\n",
    "**sub(regex, replacement, targetstring)** - it replaces 'regex' with 'replacement', in the targetstring and return it\n",
    "\n",
    "**subn(regex, replacement, targetstring)** - it replaces 'regex' with 'replacement', in the targetstring and return a tuple of two element in which first\n",
    "        element is string and second element is count number of replacement"
   ]
  },
  {
   "cell_type": "code",
   "execution_count": 4,
   "metadata": {},
   "outputs": [
    {
     "name": "stdout",
     "output_type": "stream",
     "text": [
      "match is available at start index:  0\n",
      "match is available at start index:  3\n",
      "match is available at start index:  5\n",
      "The number of occurence of ab is 3\n"
     ]
    }
   ],
   "source": [
    "import re\n",
    "pattern = re.compile('ab')\n",
    "matcher = pattern.finditer('abaababa')\n",
    "count = 0\n",
    "for match in matcher:\n",
    "    print('match is available at start index: ', match.start())\n",
    "    count+=1\n",
    "print('The number of occurence of {} is {}'.format('ab', count))"
   ]
  },
  {
   "cell_type": "code",
   "execution_count": null,
   "metadata": {},
   "outputs": [],
   "source": []
  },
  {
   "cell_type": "code",
   "execution_count": 4,
   "metadata": {},
   "outputs": [
    {
     "name": "stdout",
     "output_type": "stream",
     "text": [
      "start:0, end:2, group:ab\n",
      "start:3, end:5, group:ab\n",
      "start:5, end:7, group:ab\n",
      "The number of occurences: 3\n"
     ]
    }
   ],
   "source": [
    "pattern = re.compile('ab')\n",
    "matcher = pattern.finditer('abaababa')\n",
    "\n",
    "for m in matcher:\n",
    "    print('start:{}, end:{}, group:{}'.format(m.start(), m.end(), m.group()))\n",
    "print('The number of occurences:', count)"
   ]
  },
  {
   "cell_type": "code",
   "execution_count": 5,
   "metadata": {},
   "outputs": [
    {
     "name": "stdout",
     "output_type": "stream",
     "text": [
      "start:0, end:2, group:ab\n",
      "start:3, end:5, group:ab\n",
      "start:5, end:7, group:ab\n",
      "The number of occurences: 3\n"
     ]
    }
   ],
   "source": [
    "matcher=re.finditer('ab', 'abaababa')\n",
    "\n",
    "for m in matcher:\n",
    "    print('start:{}, end:{}, group:{}'.format(m.start(), m.end(), m.group()))\n",
    "print('The number of occurences:', count)"
   ]
  },
  {
   "cell_type": "markdown",
   "metadata": {},
   "source": [
    "**[abc]**   either a or b or c<br>\n",
    "**[^abc]**  except a or b or c<br>\n",
    "**[a-z]**   any lower case alphabet symbols<br>\n",
    "**[A-Z]**   any upper case alphabet symbols<br>\n",
    "**[a-zA-Z]** any alpha bet symbols<br>\n",
    "**[0-9]**   any digits<br>\n",
    "**[a-zA-Z0-9]** any alphanumeric character<br>\n",
    "**[^a-zA-Z0-9]** any character except alphanumeric character"
   ]
  },
  {
   "cell_type": "code",
   "execution_count": 7,
   "metadata": {},
   "outputs": [
    {
     "name": "stdout",
     "output_type": "stream",
     "text": [
      "3 .... @\n"
     ]
    }
   ],
   "source": [
    "# matcher = re.finditer('b', 'a7b@k9z')\n",
    "# matcher = re.finditer('[abc]', 'a7b@k9z')\n",
    "# matcher = re.finditer('[a-z]', 'a7b@k9z')\n",
    "# matcher = re.finditer('[^a-z]', 'a7b@k9z')\n",
    "matcher = re.finditer('[^a-zA-Z0-9]', 'a7b@k9z')\n",
    "\n",
    "\n",
    "for m in matcher:\n",
    "    print(m.start(),'....', m.group())"
   ]
  },
  {
   "cell_type": "markdown",
   "metadata": {},
   "source": [
    "**PREDEFINED CHARACTER CLASSES**\n",
    "\n",
    "**\\s** - space character<br>\n",
    "**\\S** - except space character<br>\n",
    "**\\d** - any digits<br>\n",
    "**\\D** - except digits<br>\n",
    "**\\w** - any word character (alphanumeric character)<br>\n",
    "**\\W** - any character except word (special characters)<br>\n",
    "**dot(.)** - every character<br>"
   ]
  },
  {
   "cell_type": "code",
   "execution_count": 9,
   "metadata": {},
   "outputs": [
    {
     "name": "stdout",
     "output_type": "stream",
     "text": [
      "3 ....  \n",
      "4 .... @\n"
     ]
    }
   ],
   "source": [
    "import re\n",
    "# matcher=re.finditer('\\s', 'a7b @k9z')\n",
    "# matcher=re.finditer('\\S', 'a7b @k9z')\n",
    "# matcher=re.finditer('\\d', 'a7b@k9z')\n",
    "# matcher=re.finditer('\\D', 'a7b@k9z')\n",
    "# matcher=re.finditer('\\w', 'a7b @k9z')\n",
    "matcher=re.finditer('\\W', 'a7b @k9z')\n",
    "\n",
    "\n",
    "for m in matcher:\n",
    "    print(m.start(),'....', m.group())"
   ]
  },
  {
   "cell_type": "code",
   "execution_count": 10,
   "metadata": {},
   "outputs": [],
   "source": [
    "# QUANTIFIER\n",
    "# a    exactely one 'a'\n",
    "# a+   atleast one 'a'\n",
    "# a*   any number of 'a' including zero\n",
    "# a?   atmost one 'a'\n",
    "# a{n} exactely n number of 'a'\n",
    "# a{m,n}  minimum m 'a' and maximum n 'a'\n",
    "# a{9}a*  minimum 9 a's\n",
    "# [^a]  except a's\n",
    "# ^a   it will check weather target string starts with a\n",
    "# a$   it will check weather target string ends with a"
   ]
  },
  {
   "cell_type": "code",
   "execution_count": 11,
   "metadata": {},
   "outputs": [
    {
     "name": "stdout",
     "output_type": "stream",
     "text": [
      "5 .... aaa\n"
     ]
    }
   ],
   "source": [
    "matcher = re.finditer('a{3}a*', 'abaabaaab')\n",
    "\n",
    "for m in matcher:\n",
    "    print(m.start(), '....', m.group())"
   ]
  },
  {
   "cell_type": "code",
   "execution_count": 12,
   "metadata": {},
   "outputs": [
    {
     "name": "stdout",
     "output_type": "stream",
     "text": [
      "1 .... b\n",
      "4 .... b\n",
      "8 .... b\n"
     ]
    }
   ],
   "source": [
    "matcher = re.finditer('[^a]', 'abaabaaab')\n",
    "\n",
    "for m in matcher:\n",
    "    print(m.start(), '....', m.group())"
   ]
  },
  {
   "cell_type": "code",
   "execution_count": 13,
   "metadata": {},
   "outputs": [
    {
     "name": "stdout",
     "output_type": "stream",
     "text": [
      "8 .... b\n"
     ]
    }
   ],
   "source": [
    "# matcher = re.finditer('^a', 'abaabaaab')  # starting with a\n",
    "# matcher = re.finditer('a$', 'abaabaaab')  # ending with a\n",
    "matcher = re.finditer('b$', 'abaabaaab')  # ending with b\n",
    "\n",
    "\n",
    "for m in matcher:\n",
    "    print(m.start(), '....', m.group())"
   ]
  },
  {
   "cell_type": "code",
   "execution_count": 6,
   "metadata": {},
   "outputs": [
    {
     "name": "stdout",
     "output_type": "stream",
     "text": [
      "Enter pattern to check: abc\n",
      "<re.Match object; span=(0, 3), match='abc'>\n",
      "match is available at the beginning of the string\n",
      "start_index:0 and end_index:3\n"
     ]
    }
   ],
   "source": [
    "import re\n",
    "s = input('Enter pattern to check: ')\n",
    "m = re.match(s, 'abcdefg')\n",
    "print(str(m))\n",
    "if m:\n",
    "    print('match is available at the beginning of the string')\n",
    "    print('start_index:{} and end_index:{}'.format(m.start(), m.end()))\n",
    "else:\n",
    "    print('no match abailable at the beginning of the string')"
   ]
  },
  {
   "cell_type": "code",
   "execution_count": 15,
   "metadata": {},
   "outputs": [
    {
     "name": "stdout",
     "output_type": "stream",
     "text": [
      "Enter pattern to check: abcdefg\n",
      "full match is abailable\n"
     ]
    }
   ],
   "source": [
    "s = input('Enter pattern to check: ')\n",
    "m = re.fullmatch(s, 'abcdefg')\n",
    "if m:\n",
    "    print('full match is abailable')\n",
    "else:\n",
    "    print('no full match')"
   ]
  },
  {
   "cell_type": "code",
   "execution_count": 16,
   "metadata": {},
   "outputs": [
    {
     "name": "stdout",
     "output_type": "stream",
     "text": [
      "Enter pattern to check: baa\n",
      "match is abailable\n",
      "first occurence with start_index:1 and end_index:4\n"
     ]
    }
   ],
   "source": [
    "s = input('Enter pattern to check: ')\n",
    "m = re.search(s, 'abaabaaab')\n",
    "if m:\n",
    "    print('match is abailable')\n",
    "    print('first occurence with start_index:{} and end_index:{}'.format(m.start(), m.end()))\n",
    "else:\n",
    "    print('no match abailable')"
   ]
  },
  {
   "cell_type": "code",
   "execution_count": 3,
   "metadata": {},
   "outputs": [
    {
     "name": "stdout",
     "output_type": "stream",
     "text": [
      "['a', 'c', 'b', 'k', 'z']\n"
     ]
    }
   ],
   "source": [
    "import re\n",
    "# l=re.findall('[0-9]', 'a7b9k6z')\n",
    "# l=re.findall('\\W', 'a7#b9k@ 6z')\n",
    "l = re.findall('[a-z]', 'ac7#b9k@ 6z')\n",
    "\n",
    "print(l)"
   ]
  },
  {
   "cell_type": "code",
   "execution_count": 5,
   "metadata": {},
   "outputs": [
    {
     "name": "stdout",
     "output_type": "stream",
     "text": [
      "start 0 , end 1 , item a\n",
      "start 3 , end 4 , item b\n",
      "start 4 , end 5 , item k\n",
      "start 6 , end 7 , item z\n"
     ]
    }
   ],
   "source": [
    "# matcher = re.finditer('\\d', 'a7bk9z6')\n",
    "matcher = re.finditer('\\D', 'a74bk9z6')\n",
    "\n",
    "for m in matcher:\n",
    "    print('start',m.start(),', end', m.end(),', item', m.group())"
   ]
  },
  {
   "cell_type": "code",
   "execution_count": 7,
   "metadata": {},
   "outputs": [
    {
     "name": "stdout",
     "output_type": "stream",
     "text": [
      "a#b#k#t#k\n",
      "axxxxbxxxxkxxxxtxxxxk\n"
     ]
    }
   ],
   "source": [
    "s = re.sub('\\d', '#', 'a7b9k5t9k')\n",
    "print(s)\n",
    "\n",
    "s = re.sub('\\d', 'xxxx', 'a7b9k5t9k')\n",
    "print(s)"
   ]
  },
  {
   "cell_type": "code",
   "execution_count": 20,
   "metadata": {},
   "outputs": [
    {
     "name": "stdout",
     "output_type": "stream",
     "text": [
      "('a#b#k#t#k', 4)\n"
     ]
    }
   ],
   "source": [
    "t = re.subn('\\d', '#', 'a7b9k5t9k')\n",
    "print(t)"
   ]
  },
  {
   "cell_type": "code",
   "execution_count": 8,
   "metadata": {},
   "outputs": [
    {
     "name": "stdout",
     "output_type": "stream",
     "text": [
      "['10', '20', '30', '40', '50']\n"
     ]
    }
   ],
   "source": [
    "l = re.split('-', '10-20-30-40-50')\n",
    "print(l)"
   ]
  },
  {
   "cell_type": "code",
   "execution_count": 22,
   "metadata": {},
   "outputs": [
    {
     "name": "stdout",
     "output_type": "stream",
     "text": [
      "['www', 'nehalahamd', 'com']\n"
     ]
    }
   ],
   "source": [
    "# l = re.split('\\.', 'www.nehalahamadl.com') # here we need '\\', because dot(.) is predefined in regex, ie - everything\n",
    "l = re.split('[.]', \"www.nehalahamd.com\")  # or we can write dot(.) in square bracket\n",
    "print(l)"
   ]
  },
  {
   "cell_type": "code",
   "execution_count": 23,
   "metadata": {},
   "outputs": [
    {
     "name": "stdout",
     "output_type": "stream",
     "text": [
      "target string starts with Learn\n"
     ]
    }
   ],
   "source": [
    "s = 'Learning Python is very easy'\n",
    "res = re.search('^Learn', s, re.IGNORECASE)\n",
    "if res:\n",
    "    print('target string starts with Learn')\n",
    "else:\n",
    "    print('target string not starts with Learn')"
   ]
  },
  {
   "cell_type": "code",
   "execution_count": 24,
   "metadata": {},
   "outputs": [
    {
     "name": "stdout",
     "output_type": "stream",
     "text": [
      "target string ends with easy\n"
     ]
    }
   ],
   "source": [
    "s = 'Learning Python is very easy'\n",
    "res = re.search('Easy$', s, re.IGNORECASE)\n",
    "if res:\n",
    "    print('target string ends with easy')\n",
    "else:\n",
    "    print('target string does not ends with easy')"
   ]
  },
  {
   "cell_type": "markdown",
   "metadata": {},
   "source": [
    "### All Yava language identifier"
   ]
  },
  {
   "cell_type": "code",
   "execution_count": 25,
   "metadata": {},
   "outputs": [
    {
     "name": "stdout",
     "output_type": "stream",
     "text": [
      "Enter identifier to validateb3jds\n",
      "b3jds is valid Yava identifier\n"
     ]
    }
   ],
   "source": [
    "# 1- The allowed characters are (alphabets, digits, #)\n",
    "# 2- first character should be lower case alphabet from a to k\n",
    "# 3- The second character should be any digit divisible by 3\n",
    "# 4- The length of identifier should be atleast 2\n",
    "\n",
    "s = input('Enter identifier to validate')\n",
    "m = re.fullmatch('[a-k][0369][a-zA-Z0-9#]*', s)\n",
    "if m:\n",
    "    print(s, 'is valid Yava identifier')\n",
    "else:\n",
    "    print(s, 'invalid')"
   ]
  },
  {
   "cell_type": "markdown",
   "metadata": {},
   "source": [
    "### Identifying 10 digit mobile number"
   ]
  },
  {
   "cell_type": "code",
   "execution_count": 26,
   "metadata": {},
   "outputs": [
    {
     "name": "stdout",
     "output_type": "stream",
     "text": [
      "Enter mobile number to validate:9140847084\n",
      "9140847084 is valid\n"
     ]
    }
   ],
   "source": [
    "s =input('Enter mobile number to validate:')\n",
    "# m = re.fullmatch('[6-9][0-9][0-9][0-9][0-9][0-9][0-9][0-9][0-9][0-9]', s)\n",
    "# m = re.fullmatch('[6-9][0-9]{9}', s)\n",
    "m = re.fullmatch('[6-9]\\d{9}', s)\n",
    "if m:\n",
    "    print(s, 'is valid')\n",
    "else:\n",
    "    print(s, 'is not valid')"
   ]
  },
  {
   "cell_type": "code",
   "execution_count": 27,
   "metadata": {},
   "outputs": [
    {
     "name": "stdout",
     "output_type": "stream",
     "text": [
      "Extracted all mobile number into output.txt\n"
     ]
    }
   ],
   "source": [
    "# this code extract mobile number of 10 or more than 10 digit\n",
    "import re\n",
    "f1 = open('input.txt', 'r')\n",
    "f2 = open('output.txt', 'w')\n",
    "for line in f1:\n",
    "    list=re.findall('[6-9]\\d{9}', line)\n",
    "    for number in list:\n",
    "        f2.write(number+'\\n')\n",
    "print('Extracted all mobile number into output.txt')\n",
    "f1.close()\n",
    "f2.close()"
   ]
  },
  {
   "cell_type": "code",
   "execution_count": 28,
   "metadata": {},
   "outputs": [
    {
     "name": "stdout",
     "output_type": "stream",
     "text": [
      "Extracted all mobile number into output.txt\n"
     ]
    }
   ],
   "source": [
    "# this code extract those number, which has 10 digit only\n",
    "import re\n",
    "f1=open('input.txt', 'r')\n",
    "f2=open('output.txt', 'w')\n",
    "for line in f1:\n",
    "    list=re.findall('\\d*', line)\n",
    "    for number in list:\n",
    "        if re.fullmatch('[6-9]\\d{9}', number):\n",
    "            f2.write(number+'\\n')\n",
    "print('Extracted all mobile number into output.txt')\n",
    "f1.close()\n",
    "f2.close()"
   ]
  },
  {
   "cell_type": "markdown",
   "metadata": {},
   "source": [
    "### Web Scrapping using RegEx"
   ]
  },
  {
   "cell_type": "code",
   "execution_count": 29,
   "metadata": {},
   "outputs": [
    {
     "name": "stdout",
     "output_type": "stream",
     "text": [
      "Searching..... http://google.com\n",
      "<title>Google</title>\n",
      "Searching..... http://rediff.com\n",
      "<title>Rediff.com: News | Rediffmail | Stock Quotes | Shopping</title>\n"
     ]
    }
   ],
   "source": [
    "import re\n",
    "import urllib\n",
    "import urllib.request\n",
    "\n",
    "sites=['http://google.com', 'http://rediff.com']\n",
    "for s in sites:\n",
    "    print('Searching.....', s)\n",
    "    u = urllib.request.urlopen(s)\n",
    "    text = u.read()  # type of text is 'byte', so we neet to convert it to 'string'\n",
    "    title = re.findall(\"<title>.*</title>\", str(text), re.IGNORECASE)\n",
    "    print(title[0])"
   ]
  },
  {
   "cell_type": "markdown",
   "metadata": {},
   "source": [
    "### Read all mobile numbers present in redbus.in"
   ]
  },
  {
   "cell_type": "code",
   "execution_count": 2,
   "metadata": {},
   "outputs": [],
   "source": [
    "import re, urllib\n",
    "import urllib.request\n",
    "\n",
    "u = urllib.request.urlopen('https://www.redbus.in/info/contactus')\n",
    "text = u.read()\n",
    "\n",
    "numbers = re.findall('[0-9]{3}[-][0-9]{8}', str(text))\n",
    "\n",
    "for n in numbers:\n",
    "    print(n)"
   ]
  },
  {
   "cell_type": "markdown",
   "metadata": {},
   "source": [
    "### mail is valid gmail id or not"
   ]
  },
  {
   "cell_type": "code",
   "execution_count": null,
   "metadata": {},
   "outputs": [],
   "source": [
    "import re\n",
    "s = input('Enter mail id: ')\n",
    "# m = re.fullmatch('\\w[a-zA-z0-9._]*@gmail[.]com', s)\n",
    "m = re.fullmatch('\\w[a-zA-z0-9._]*@[a-zA-z0-9]+[.]com', s)\n",
    "\n",
    "if m:\n",
    "    print('valid')\n",
    "else:\n",
    "    print('invalid')"
   ]
  },
  {
   "cell_type": "markdown",
   "metadata": {},
   "source": [
    "### Car registration number"
   ]
  },
  {
   "cell_type": "code",
   "execution_count": null,
   "metadata": {},
   "outputs": [],
   "source": [
    "import re\n",
    "s=input('Enter Registration Number')\n",
    "m=re.fullmatch('TS[012][0-9][A-Z]{2}\\d{4}', s)\n",
    "if m:\n",
    "    print('valid')\n",
    "else:\n",
    "    print('invalid')"
   ]
  },
  {
   "cell_type": "code",
   "execution_count": null,
   "metadata": {},
   "outputs": [],
   "source": [
    "# 10, 11 12 or 13 digit mobile number\n",
    "# (0|91|\\+91)?[6789]\\d{9}"
   ]
  },
  {
   "cell_type": "code",
   "execution_count": 7,
   "metadata": {},
   "outputs": [
    {
     "name": "stdout",
     "output_type": "stream",
     "text": [
      "<re.Match object; span=(0, 17), match='The rain in Spain'>\n"
     ]
    }
   ],
   "source": [
    "import re\n",
    "\n",
    "txt = \"The rain in Spain\"\n",
    "x = re.search(\"^The.*Spain$\", txt)\n",
    "print(x)"
   ]
  },
  {
   "cell_type": "code",
   "execution_count": 16,
   "metadata": {},
   "outputs": [
    {
     "name": "stdout",
     "output_type": "stream",
     "text": [
      "['The rain in Spain']\n"
     ]
    }
   ],
   "source": [
    "import re\n",
    "\n",
    "txt = \"The rain in Spain\"\n",
    "x = re.findall(\"^T.*n$\", txt)\n",
    "print(x)"
   ]
  }
 ],
 "metadata": {
  "kernelspec": {
   "display_name": "Python 3",
   "language": "python",
   "name": "python3"
  },
  "language_info": {
   "codemirror_mode": {
    "name": "ipython",
    "version": 3
   },
   "file_extension": ".py",
   "mimetype": "text/x-python",
   "name": "python",
   "nbconvert_exporter": "python",
   "pygments_lexer": "ipython3",
   "version": "3.7.1"
  },
  "latex_envs": {
   "LaTeX_envs_menu_present": true,
   "autoclose": false,
   "autocomplete": true,
   "bibliofile": "biblio.bib",
   "cite_by": "apalike",
   "current_citInitial": 1,
   "eqLabelWithNumbers": true,
   "eqNumInitial": 1,
   "hotkeys": {
    "equation": "Ctrl-E",
    "itemize": "Ctrl-I"
   },
   "labels_anchors": false,
   "latex_user_defs": false,
   "report_style_numbering": false,
   "user_envs_cfg": false
  },
  "toc": {
   "base_numbering": 1,
   "nav_menu": {},
   "number_sections": true,
   "sideBar": true,
   "skip_h1_title": false,
   "title_cell": "Table of Contents",
   "title_sidebar": "Contents",
   "toc_cell": false,
   "toc_position": {},
   "toc_section_display": true,
   "toc_window_display": false
  }
 },
 "nbformat": 4,
 "nbformat_minor": 2
}

{
 "cells": [
  {
   "cell_type": "code",
   "execution_count": null,
   "id": "da8665e5",
   "metadata": {},
   "outputs": [],
   "source": []
  },
  {
   "cell_type": "markdown",
   "id": "0688c515",
   "metadata": {},
   "source": [
    "##### [Undirected Graph Cycle - GFG](https://www.geeksforgeeks.org/problems/detect-cycle-in-an-undirected-graph/1)\n",
    "\n",
    "[DFS ▶️](https://youtu.be/UrQv5YMC060?list=PLpIkg8OmuX-LZB9jYzbbZchk277H5CbdY)"
   ]
  },
  {
   "cell_type": "code",
   "execution_count": null,
   "id": "ce6045d2",
   "metadata": {},
   "outputs": [
    {
     "name": "stdout",
     "output_type": "stream",
     "text": [
      "Cycle exists: True\n",
      "Cycle exists: False\n",
      "Cycle exists: False\n"
     ]
    }
   ],
   "source": [
    "from collections import defaultdict\n",
    "class Solution:\n",
    "    def isCycle(self, V, edges):\n",
    "        def is_cycle_dfs(u, parent):\n",
    "            if visited[u]:\n",
    "                return True\n",
    "\n",
    "            visited[u] = True\n",
    "            for v in adj[u]:\n",
    "                if v == parent:\n",
    "                    continue                # Don't go back to the immediate parent\n",
    "                if is_cycle_dfs(v, u):\n",
    "                    return True             # Cycle found in a deeper recursion\n",
    "            return False\n",
    "        # ----------------------------------------------\n",
    "        adj = defaultdict(list)             # Adjacency list to represent the graph\n",
    "        for u, v in edges:\n",
    "            adj[u].append(v)\n",
    "            adj[v].append(u)\n",
    "        # ----------------------------------------------\n",
    "        visited = [False]*V                 # Visited array to keep track of visited nodes during DFS\n",
    "        # ----------------------------------------------\n",
    "        for i in range(V):                  # Iterate through all vertices to handle disconnected components\n",
    "            if not visited[i]:\n",
    "                if is_cycle_dfs(i, -1):     # -1 indicates no parent for the starting node\n",
    "                    return True             # If a cycle is found in any component, return True\n",
    "        return False                        # No cycle found in any component\n",
    "\n",
    "# ============================================\n",
    "# Test cases\n",
    "V = 4\n",
    "edges = [[0, 1], [0, 2], [1, 2], [2, 3]]\n",
    "ss = Solution()\n",
    "print(f\"Cycle exists: {ss.isCycle(V, edges)}\")                                          # Expected: True (due to 0-1-2-0)\n",
    "\n",
    "V_no_cycle = 4\n",
    "edges_no_cycle = [[0, 1], [0, 2], [2, 3]]\n",
    "ss_no_cycle = Solution()\n",
    "print(f\"Cycle exists: {ss_no_cycle.isCycle(V_no_cycle, edges_no_cycle)}\")               # Expected: False\n",
    "\n",
    "V_disconnected = 5\n",
    "edges_disconnected = [[0, 1], [2, 3]]\n",
    "ss_disconnected = Solution()\n",
    "print(f\"Cycle exists: {ss_disconnected.isCycle(V_disconnected, edges_disconnected)}\")   # Expected: False"
   ]
  },
  {
   "cell_type": "markdown",
   "id": "7c7d4706",
   "metadata": {},
   "source": [
    "[BFS ▶️](https://youtu.be/HqIQmKKo5_I?list=PLpIkg8OmuX-LZB9jYzbbZchk277H5CbdY)"
   ]
  },
  {
   "cell_type": "code",
   "execution_count": 9,
   "id": "98b9613b",
   "metadata": {},
   "outputs": [
    {
     "name": "stdout",
     "output_type": "stream",
     "text": [
      "Cycle exists: True\n",
      "Cycle exists: False\n",
      "Cycle exists: False\n"
     ]
    }
   ],
   "source": [
    "from collections import defaultdict, deque\n",
    "\n",
    "class Solution1:\n",
    "    def isCycle(self, V, edges):\n",
    "        def is_cycle_bfs(u):\n",
    "            que = deque([[u, -1]])\n",
    "            visited[u] = True\n",
    "            while que:\n",
    "                source, parent = que.popleft()\n",
    "                for v in adj[source]:\n",
    "                    if visited[v] == False:\n",
    "                        visited[v] = True\n",
    "                        que.append([v, source])\n",
    "                    elif v != parent:\n",
    "                        return True\n",
    "            return False\n",
    "            \n",
    "        # ----------------------------------------------\n",
    "        adj = defaultdict(list)             # Adjacency list to represent the graph\n",
    "        for u, v in edges:\n",
    "            adj[u].append(v)\n",
    "            adj[v].append(u)\n",
    "        # ----------------------------------------------\n",
    "        visited = [False]*V                 # Visited array to keep track of visited nodes during DFS\n",
    "        # ----------------------------------------------\n",
    "        for i in range(V):                  # Iterate through all vertices to handle disconnected components\n",
    "            if not visited[i]:\n",
    "                if is_cycle_bfs(i):         # -1 indicates no parent for the starting node\n",
    "                    return True             # If a cycle is found in any component, return True\n",
    "        return False                        # No cycle found in any component\n",
    "\n",
    "# ============================================\n",
    "# Test cases\n",
    "V = 4\n",
    "edges = [[0, 1], [0, 2], [1, 2], [2, 3]]\n",
    "ss = Solution1()\n",
    "print(f\"Cycle exists: {ss.isCycle(V, edges)}\")                                          # Expected: True (due to 0-1-2-0)\n",
    "\n",
    "V_no_cycle = 4\n",
    "edges_no_cycle = [[0, 1], [0, 2], [2, 3]]\n",
    "ss_no_cycle = Solution1()\n",
    "print(f\"Cycle exists: {ss_no_cycle.isCycle(V_no_cycle, edges_no_cycle)}\")               # Expected: False\n",
    "\n",
    "V_disconnected = 5\n",
    "edges_disconnected = [[0, 1], [2, 3]]\n",
    "ss_disconnected = Solution1()\n",
    "print(f\"Cycle exists: {ss_disconnected.isCycle(V_disconnected, edges_disconnected)}\")   # Expected: False"
   ]
  },
  {
   "cell_type": "markdown",
   "id": "4d8c05a6",
   "metadata": {},
   "source": [
    "##### [Directed Graph Cycle - GFG](https://www.geeksforgeeks.org/problems/detect-cycle-in-a-directed-graph/1)\n",
    "\n",
    "[DFS ▶️](https://youtu.be/K_LamGUvwUc?list=PLpIkg8OmuX-LZB9jYzbbZchk277H5CbdY)"
   ]
  },
  {
   "cell_type": "code",
   "execution_count": null,
   "id": "8b016b36",
   "metadata": {},
   "outputs": [
    {
     "name": "stdout",
     "output_type": "stream",
     "text": [
      "True\n",
      "False\n"
     ]
    }
   ],
   "source": [
    "from collections import defaultdict\n",
    "class Solution:\n",
    "    def isCycle(self, V, edges):\n",
    "        \n",
    "        def is_cycle_dfs(u):\n",
    "            if in_recursion[u]:\n",
    "                return True\n",
    "            if visited[u]:\n",
    "                return False\n",
    "            # ---------------------\n",
    "            visited[u] = True\n",
    "            in_recursion[u] = True\n",
    "            # ---------------------\n",
    "            for v in adj[u]:\n",
    "                if is_cycle_dfs(v):\n",
    "                    return True\n",
    "            # ---------------------\n",
    "            in_recursion[u] = False\n",
    "            return False\n",
    "                    \n",
    "            \n",
    "        # ------------------------------------------------\n",
    "        adj = defaultdict(list)\n",
    "        for u, v in edges:\n",
    "            adj[u].append(v)\n",
    "        # ---------\n",
    "        visited = [False]*V\n",
    "        in_recursion = [False]*V\n",
    "        # ---------\n",
    "        for i in range(V):\n",
    "            if not visited[i] and is_cycle_dfs(i):\n",
    "                return True\n",
    "        return False\n",
    "    \n",
    "# ===============================================================\n",
    "V = 4\n",
    "edges = [[0, 1], [0, 2], [1, 2], [2, 0], [2, 3]]\n",
    "ss = Solution()\n",
    "print(ss.isCycle(V, edges))     # Expected: True\n",
    "\n",
    "V = 4\n",
    "edges = [[0, 1], [0, 2], [1, 2], [2, 3]]\n",
    "ss = Solution()\n",
    "print(ss.isCycle(V, edges))     # Expected: False"
   ]
  },
  {
   "cell_type": "markdown",
   "id": "51ed474e",
   "metadata": {},
   "source": [
    "[DFS ▶️](https://youtu.be/74suJP4bwf0?list=PLpIkg8OmuX-LZB9jYzbbZchk277H5CbdY)"
   ]
  },
  {
   "cell_type": "code",
   "execution_count": null,
   "id": "53498adb",
   "metadata": {},
   "outputs": [
    {
     "name": "stdout",
     "output_type": "stream",
     "text": [
      "True\n",
      "False\n"
     ]
    }
   ],
   "source": [
    "from collections import defaultdict, deque\n",
    "\n",
    "# BFS (Kahn's algo)\n",
    "class Solution:\n",
    "    \"\"\"\n",
    "    Detects if a directed graph contains a cycle using Kahn's algorithm (topological sort).\n",
    "    \"\"\"\n",
    "    def isCycle(self, V: int, edges: list[list[int]]) -> bool:\n",
    "        \"\"\"\n",
    "        Checks for cycles in a directed graph.\n",
    "\n",
    "        Args:\n",
    "            V: The number of vertices in the graph.\n",
    "            edges: A list of edges, where each edge is represented as [u, v]\n",
    "                   indicating a directed edge from u to v.\n",
    "\n",
    "        Returns:\n",
    "            True if a cycle is detected, False otherwise.\n",
    "        \"\"\"\n",
    "        # Create an adjacency list to represent the graph. adj[u] will store a list of all vertices v such that there is a directed edge from u to v.\n",
    "        adj = defaultdict(list)\n",
    "        for u, v in edges:\n",
    "            adj[u].append(v)\n",
    "\n",
    "        # Calculate the in-degree for each vertex. indegree[i] will store the number of incoming edges for vertex i.\n",
    "        indegree = [0] * V\n",
    "        for u in range(V):\n",
    "            for v in adj[u]:\n",
    "                indegree[v] += 1\n",
    "\n",
    "        # Initialize a queue for BFS and a counter for visited nodes. The queue will store all vertices with an in-degree of 0.\n",
    "        count = 0                       # To count the number of nodes included in the topological sort\n",
    "        que = deque([])\n",
    "\n",
    "        # Add all vertices with an in-degree of 0 to the queue. These are the starting points for the topological sort.\n",
    "        for i in range(V):\n",
    "            if indegree[i] == 0:\n",
    "                que.append(i)\n",
    "                count += 1\n",
    "\n",
    "        # Perform BFS (Kahn's algorithm)\n",
    "        while que:\n",
    "            u = que.popleft()           # Dequeue a vertex with an in-degree of 0\n",
    "\n",
    "            # For each neighbor v of the current vertex u\n",
    "            for v in adj[u]:\n",
    "                indegree[v] -= 1        # Decrement the in-degree of v. This simulates removing the edge (u, v).\n",
    "                if indegree[v] == 0:    # If the in-degree of v becomes 0, it means all its prerequisites (incoming edges) have been processed. Add v to the queue.\n",
    "                    que.append(v)\n",
    "                    count += 1\n",
    "\n",
    "        # If the number of nodes included in the topological sort (count) is equal to the total number of vertices (V), it means a topological sort was possible, and thus no cycle exists.\n",
    "        if count == V:\n",
    "            return False\n",
    "        # If count is less than V, it means there are still nodes with non-zero in-degrees that could not be processed, indicating the presence of a cycle.\n",
    "        return True\n",
    "    \n",
    "# ===============================================================\n",
    "V = 4\n",
    "edges = [[0, 1], [0, 2], [1, 2], [2, 0], [2, 3]]\n",
    "ss = Solution()\n",
    "print(ss.isCycle(V, edges))     # Expected: True\n",
    "\n",
    "V = 4\n",
    "edges = [[0, 1], [0, 2], [1, 2], [2, 3]]\n",
    "ss = Solution()\n",
    "print(ss.isCycle(V, edges))     # Expected: False"
   ]
  },
  {
   "cell_type": "markdown",
   "id": "d9634ed8",
   "metadata": {},
   "source": [
    "##### [Topological sort - GFG](https://www.geeksforgeeks.org/problems/topological-sort/1)\n",
    "\n",
    "[DFS ▶️](https://youtu.be/WbbYZRr4arw?list=PLpIkg8OmuX-LZB9jYzbbZchk277H5CbdY)"
   ]
  },
  {
   "cell_type": "code",
   "execution_count": 19,
   "id": "ded4a016",
   "metadata": {},
   "outputs": [
    {
     "name": "stdout",
     "output_type": "stream",
     "text": [
      "[5, 4, 2, 1, 3, 0]\n",
      "[3, 2, 1, 0]\n"
     ]
    }
   ],
   "source": [
    "from collections import defaultdict\n",
    "class Solution:\n",
    "    \n",
    "    def topoSort(self, V, edges):\n",
    "        \n",
    "        def dfs(u):\n",
    "            visited[u] = True\n",
    "            for v in adj[u]:\n",
    "                if not visited[v]:\n",
    "                    dfs(v)\n",
    "            st.append(u)\n",
    "                    \n",
    "        \n",
    "        # --------------------------------------\n",
    "        adj = defaultdict(list)\n",
    "        for u, v in edges:\n",
    "            adj[u].append(v)\n",
    "        # --------------------------------------\n",
    "        visited = [False]*V\n",
    "        st = []\n",
    "        # --------------------------------------\n",
    "        for i in range(V):\n",
    "            if not visited[i]:\n",
    "                dfs(i)\n",
    "        \n",
    "        return st[::-1]\n",
    "\n",
    "# =================================================\n",
    "V = 6\n",
    "edges = [[1, 3], [2, 3], [4, 1], [4, 0], [5, 0], [5,2]]\n",
    "ss = Solution()\n",
    "print(ss.topoSort(V, edges))\n",
    "\n",
    "V = 4\n",
    "edges = [[3, 0], [1, 0], [2, 0]]\n",
    "ss = Solution()\n",
    "print(ss.topoSort(V, edges))"
   ]
  },
  {
   "cell_type": "markdown",
   "id": "11495fd7",
   "metadata": {},
   "source": [
    "[BFS (Kahn's Algorithm) ▶️ ](https://youtu.be/uVl4ftleTes?list=PLpIkg8OmuX-LZB9jYzbbZchk277H5CbdY)\n"
   ]
  },
  {
   "cell_type": "code",
   "execution_count": 20,
   "id": "4f8a7196",
   "metadata": {},
   "outputs": [
    {
     "name": "stdout",
     "output_type": "stream",
     "text": [
      "[4, 5, 1, 0, 2, 3]\n",
      "[1, 2, 3, 0]\n"
     ]
    }
   ],
   "source": [
    "from collections import defaultdict, deque\n",
    "\n",
    "class Solution:\n",
    "    # Kahn's algorithm\n",
    "    def topoSort(self, V, edges):\n",
    "        # --------------------------------------\n",
    "        adj = defaultdict(list)\n",
    "        for u, v in edges:\n",
    "            adj[u].append(v)\n",
    "        # --------------------------------------\n",
    "        indegree = [0]*V\n",
    "        for u in range(V):\n",
    "            for v in adj[u]:\n",
    "                indegree[v]+=1\n",
    "        # --------------------------------------\n",
    "        que = deque([])\n",
    "        for i in range(V):\n",
    "            if indegree[i] == 0:\n",
    "                que.append(i)\n",
    "        # --------------------------------------\n",
    "        res = []\n",
    "        while que:\n",
    "            u = que.popleft()\n",
    "            res.append(u)\n",
    "            for v in adj[u]:\n",
    "                indegree[v]-=1\n",
    "                if indegree[v] == 0:\n",
    "                    que.append(v)\n",
    "        return res\n",
    "    \n",
    "# =================================================\n",
    "V = 6\n",
    "edges = [[1, 3], [2, 3], [4, 1], [4, 0], [5, 0], [5,2]]\n",
    "ss = Solution()\n",
    "print(ss.topoSort(V, edges))\n",
    "\n",
    "V = 4\n",
    "edges = [[3, 0], [1, 0], [2, 0]]\n",
    "ss = Solution()\n",
    "print(ss.topoSort(V, edges))"
   ]
  },
  {
   "cell_type": "code",
   "execution_count": null,
   "id": "723d7025",
   "metadata": {},
   "outputs": [],
   "source": []
  }
 ],
 "metadata": {
  "kernelspec": {
   "display_name": "Python 3",
   "language": "python",
   "name": "python3"
  },
  "language_info": {
   "codemirror_mode": {
    "name": "ipython",
    "version": 3
   },
   "file_extension": ".py",
   "mimetype": "text/x-python",
   "name": "python",
   "nbconvert_exporter": "python",
   "pygments_lexer": "ipython3",
   "version": "3.11.1"
  }
 },
 "nbformat": 4,
 "nbformat_minor": 5
}

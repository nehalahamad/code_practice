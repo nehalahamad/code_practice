{
 "cells": [
  {
   "cell_type": "code",
   "execution_count": null,
   "id": "da8665e5",
   "metadata": {},
   "outputs": [],
   "source": []
  },
  {
   "cell_type": "markdown",
   "id": "0688c515",
   "metadata": {},
   "source": [
    "[Undirected Graph Cycle - GFG](https://www.geeksforgeeks.org/problems/detect-cycle-in-an-undirected-graph/1)\n",
    "\n",
    "[▶️](https://youtu.be/UrQv5YMC060?list=PLpIkg8OmuX-LZB9jYzbbZchk277H5CbdY)"
   ]
  },
  {
   "cell_type": "code",
   "execution_count": 6,
   "id": "ce6045d2",
   "metadata": {},
   "outputs": [
    {
     "name": "stdout",
     "output_type": "stream",
     "text": [
      "Cycle exists: True\n",
      "Cycle exists: False\n",
      "Cycle exists: False\n"
     ]
    }
   ],
   "source": [
    "from collections import defaultdict\n",
    "\n",
    "class Solution:\n",
    "    def isCycle(self, V, edges):\n",
    "        # Adjacency list to represent the graph\n",
    "        adj = defaultdict(list)\n",
    "        for u, v in edges:\n",
    "            adj[u].append(v)\n",
    "            adj[v].append(u)\n",
    "\n",
    "        # Visited array to keep track of visited nodes during DFS\n",
    "        visited = [False for _ in range(V)]\n",
    "\n",
    "        def is_cycle_dfs(u, parent):\n",
    "            visited[u] = True\n",
    "            for v in adj[u]:\n",
    "                if v == parent:\n",
    "                    continue  # Don't go back to the immediate parent\n",
    "                if visited[v]:\n",
    "                    return True  # Found a visited node that is not the parent, so a cycle exists\n",
    "                if is_cycle_dfs(v, u):\n",
    "                    return True  # Cycle found in a deeper recursion\n",
    "\n",
    "            return False\n",
    "\n",
    "        # Iterate through all vertices to handle disconnected components\n",
    "        for i in range(V):\n",
    "            if not visited[i]:\n",
    "                # If a cycle is found in any component, return True\n",
    "                if is_cycle_dfs(i, -1):  # -1 indicates no parent for the starting node\n",
    "                    return True\n",
    "        \n",
    "        # No cycle found in any component\n",
    "        return False\n",
    "\n",
    "# ============================================\n",
    "# Test cases\n",
    "V = 4\n",
    "edges = [[0, 1], [0, 2], [1, 2], [2, 3]]\n",
    "ss = Solution()\n",
    "print(f\"Cycle exists: {ss.isCycle(V, edges)}\") # Expected: True (due to 0-1-2-0)\n",
    "\n",
    "V_no_cycle = 4\n",
    "edges_no_cycle = [[0, 1], [0, 2], [2, 3]]\n",
    "ss_no_cycle = Solution()\n",
    "print(f\"Cycle exists: {ss_no_cycle.isCycle(V_no_cycle, edges_no_cycle)}\") # Expected: False\n",
    "\n",
    "V_disconnected = 5\n",
    "edges_disconnected = [[0, 1], [2, 3]]\n",
    "ss_disconnected = Solution()\n",
    "print(f\"Cycle exists: {ss_disconnected.isCycle(V_disconnected, edges_disconnected)}\") # Expected: False"
   ]
  },
  {
   "cell_type": "code",
   "execution_count": null,
   "id": "98b9613b",
   "metadata": {},
   "outputs": [
    {
     "data": {
      "text/plain": [
       "-1"
      ]
     },
     "execution_count": 10,
     "metadata": {},
     "output_type": "execute_result"
    }
   ],
   "source": []
  },
  {
   "cell_type": "code",
   "execution_count": null,
   "id": "8b016b36",
   "metadata": {},
   "outputs": [],
   "source": []
  },
  {
   "cell_type": "code",
   "execution_count": null,
   "id": "53498adb",
   "metadata": {},
   "outputs": [],
   "source": []
  },
  {
   "cell_type": "code",
   "execution_count": null,
   "id": "ded4a016",
   "metadata": {},
   "outputs": [],
   "source": []
  },
  {
   "cell_type": "code",
   "execution_count": null,
   "id": "4f8a7196",
   "metadata": {},
   "outputs": [],
   "source": []
  },
  {
   "cell_type": "code",
   "execution_count": null,
   "id": "723d7025",
   "metadata": {},
   "outputs": [],
   "source": []
  }
 ],
 "metadata": {
  "kernelspec": {
   "display_name": "Python 3",
   "language": "python",
   "name": "python3"
  },
  "language_info": {
   "codemirror_mode": {
    "name": "ipython",
    "version": 3
   },
   "file_extension": ".py",
   "mimetype": "text/x-python",
   "name": "python",
   "nbconvert_exporter": "python",
   "pygments_lexer": "ipython3",
   "version": "3.11.1"
  }
 },
 "nbformat": 4,
 "nbformat_minor": 5
}

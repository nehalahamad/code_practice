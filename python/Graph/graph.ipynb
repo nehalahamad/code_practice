{
 "cells": [
  {
   "cell_type": "code",
   "execution_count": null,
   "id": "da8665e5",
   "metadata": {},
   "outputs": [],
   "source": []
  },
  {
   "cell_type": "markdown",
   "id": "0688c515",
   "metadata": {},
   "source": [
    "### [Undirected Graph Cycle - GFG](https://www.geeksforgeeks.org/problems/detect-cycle-in-an-undirected-graph/1)\n"
   ]
  },
  {
   "cell_type": "markdown",
   "id": "ef6cd122",
   "metadata": {},
   "source": [
    "##### [DFS ▶️](https://youtu.be/UrQv5YMC060?list=PLpIkg8OmuX-LZB9jYzbbZchk277H5CbdY)"
   ]
  },
  {
   "cell_type": "code",
   "execution_count": 7,
   "id": "ce6045d2",
   "metadata": {},
   "outputs": [
    {
     "name": "stdout",
     "output_type": "stream",
     "text": [
      "Cycle exists: True\n",
      "Cycle exists: False\n",
      "Cycle exists: False\n"
     ]
    }
   ],
   "source": [
    "from collections import defaultdict\n",
    "class Solution:\n",
    "    def isCycle(self, V, edges):\n",
    "        def is_cycle_dfs(u, parent):\n",
    "            if visited[u]:\n",
    "                return True\n",
    "\n",
    "            visited[u] = True\n",
    "            for v in adj[u]:\n",
    "                if v == parent:\n",
    "                    continue                # Don't go back to the immediate parent\n",
    "                if is_cycle_dfs(v, u):\n",
    "                    return True             # Cycle found in a deeper recursion\n",
    "            return False\n",
    "        # ----------------------------------------------\n",
    "        adj = defaultdict(list)             # Adjacency list to represent the graph\n",
    "        for u, v in edges:\n",
    "            adj[u].append(v)\n",
    "            adj[v].append(u)\n",
    "        # ----------------------------------------------\n",
    "        visited = [False]*V                 # Visited array to keep track of visited nodes during DFS\n",
    "        # ----------------------------------------------\n",
    "        for i in range(V):                  # Iterate through all vertices to handle disconnected components\n",
    "            if not visited[i]:\n",
    "                if is_cycle_dfs(i, -1):     # -1 indicates no parent for the starting node\n",
    "                    return True             # If a cycle is found in any component, return True\n",
    "        return False                        # No cycle found in any component\n",
    "\n",
    "# ============================================\n",
    "# Test cases\n",
    "V = 4\n",
    "edges = [[0, 1], [0, 2], [1, 2], [2, 3]]\n",
    "ss = Solution()\n",
    "print(f\"Cycle exists: {ss.isCycle(V, edges)}\")                                          # Expected: True (due to 0-1-2-0)\n",
    "\n",
    "V_no_cycle = 4\n",
    "edges_no_cycle = [[0, 1], [0, 2], [2, 3]]\n",
    "ss_no_cycle = Solution()\n",
    "print(f\"Cycle exists: {ss_no_cycle.isCycle(V_no_cycle, edges_no_cycle)}\")               # Expected: False\n",
    "\n",
    "V_disconnected = 5\n",
    "edges_disconnected = [[0, 1], [2, 3]]\n",
    "ss_disconnected = Solution()\n",
    "print(f\"Cycle exists: {ss_disconnected.isCycle(V_disconnected, edges_disconnected)}\")   # Expected: False"
   ]
  },
  {
   "cell_type": "markdown",
   "id": "7c7d4706",
   "metadata": {},
   "source": [
    "##### [BFS ▶️](https://youtu.be/HqIQmKKo5_I?list=PLpIkg8OmuX-LZB9jYzbbZchk277H5CbdY)"
   ]
  },
  {
   "cell_type": "code",
   "execution_count": 8,
   "id": "98b9613b",
   "metadata": {},
   "outputs": [
    {
     "name": "stdout",
     "output_type": "stream",
     "text": [
      "Cycle exists: True\n",
      "Cycle exists: False\n",
      "Cycle exists: False\n"
     ]
    }
   ],
   "source": [
    "from collections import defaultdict, deque\n",
    "\n",
    "class Solution1:\n",
    "    def isCycle(self, V, edges):\n",
    "        def is_cycle_bfs(u):\n",
    "            que = deque([[u, -1]])\n",
    "            visited[u] = True\n",
    "            while que:\n",
    "                source, parent = que.popleft()\n",
    "                for v in adj[source]:\n",
    "                    if visited[v] == False:\n",
    "                        visited[v] = True\n",
    "                        que.append([v, source])\n",
    "                    elif v != parent:\n",
    "                        return True\n",
    "            return False\n",
    "            \n",
    "        # ----------------------------------------------\n",
    "        adj = defaultdict(list)             # Adjacency list to represent the graph\n",
    "        for u, v in edges:\n",
    "            adj[u].append(v)\n",
    "            adj[v].append(u)\n",
    "        # ----------------------------------------------\n",
    "        visited = [False]*V                 # Visited array to keep track of visited nodes during DFS\n",
    "        # ----------------------------------------------\n",
    "        for i in range(V):                  # Iterate through all vertices to handle disconnected components\n",
    "            if not visited[i]:\n",
    "                if is_cycle_bfs(i):         # -1 indicates no parent for the starting node\n",
    "                    return True             # If a cycle is found in any component, return True\n",
    "        return False                        # No cycle found in any component\n",
    "\n",
    "# ============================================\n",
    "# Test cases\n",
    "V = 4\n",
    "edges = [[0, 1], [0, 2], [1, 2], [2, 3]]\n",
    "ss = Solution1()\n",
    "print(f\"Cycle exists: {ss.isCycle(V, edges)}\")                                          # Expected: True (due to 0-1-2-0)\n",
    "\n",
    "V_no_cycle = 4\n",
    "edges_no_cycle = [[0, 1], [0, 2], [2, 3]]\n",
    "ss_no_cycle = Solution1()\n",
    "print(f\"Cycle exists: {ss_no_cycle.isCycle(V_no_cycle, edges_no_cycle)}\")               # Expected: False\n",
    "\n",
    "V_disconnected = 5\n",
    "edges_disconnected = [[0, 1], [2, 3]]\n",
    "ss_disconnected = Solution1()\n",
    "print(f\"Cycle exists: {ss_disconnected.isCycle(V_disconnected, edges_disconnected)}\")   # Expected: False"
   ]
  },
  {
   "cell_type": "markdown",
   "id": "4d8c05a6",
   "metadata": {},
   "source": [
    "### [Directed Graph Cycle - GFG](https://www.geeksforgeeks.org/problems/detect-cycle-in-a-directed-graph/1)"
   ]
  },
  {
   "cell_type": "markdown",
   "id": "46601dc0",
   "metadata": {},
   "source": [
    "##### [DFS ▶️](https://youtu.be/K_LamGUvwUc?list=PLpIkg8OmuX-LZB9jYzbbZchk277H5CbdY)"
   ]
  },
  {
   "cell_type": "code",
   "execution_count": 9,
   "id": "8b016b36",
   "metadata": {},
   "outputs": [
    {
     "name": "stdout",
     "output_type": "stream",
     "text": [
      "True\n",
      "False\n"
     ]
    }
   ],
   "source": [
    "from collections import defaultdict\n",
    "class Solution:\n",
    "    def isCycle(self, V, edges):\n",
    "        \n",
    "        def is_cycle_dfs(u):\n",
    "            if in_recursion[u]:\n",
    "                return True\n",
    "            if visited[u]:\n",
    "                return False\n",
    "            # ---------------------\n",
    "            visited[u] = True\n",
    "            in_recursion[u] = True\n",
    "            # ---------------------\n",
    "            for v in adj[u]:\n",
    "                if is_cycle_dfs(v):\n",
    "                    return True\n",
    "            # ---------------------\n",
    "            in_recursion[u] = False\n",
    "            return False\n",
    "                    \n",
    "            \n",
    "        # ------------------------------------------------\n",
    "        adj = defaultdict(list)\n",
    "        for u, v in edges:\n",
    "            adj[u].append(v)\n",
    "        # ---------\n",
    "        visited = [False]*V\n",
    "        in_recursion = [False]*V\n",
    "        # ---------\n",
    "        for i in range(V):\n",
    "            if not visited[i] and is_cycle_dfs(i):\n",
    "                return True\n",
    "        return False\n",
    "    \n",
    "# ===============================================================\n",
    "V = 4\n",
    "edges = [[0, 1], [0, 2], [1, 2], [2, 0], [2, 3]]\n",
    "ss = Solution()\n",
    "print(ss.isCycle(V, edges))     # Expected: True\n",
    "\n",
    "V = 4\n",
    "edges = [[0, 1], [0, 2], [1, 2], [2, 3]]\n",
    "ss = Solution()\n",
    "print(ss.isCycle(V, edges))     # Expected: False"
   ]
  },
  {
   "cell_type": "markdown",
   "id": "51ed474e",
   "metadata": {},
   "source": [
    "##### [BFS ▶️](https://youtu.be/74suJP4bwf0?list=PLpIkg8OmuX-LZB9jYzbbZchk277H5CbdY)"
   ]
  },
  {
   "cell_type": "code",
   "execution_count": 10,
   "id": "53498adb",
   "metadata": {},
   "outputs": [
    {
     "name": "stdout",
     "output_type": "stream",
     "text": [
      "True\n",
      "False\n"
     ]
    }
   ],
   "source": [
    "from collections import defaultdict, deque\n",
    "\n",
    "# BFS (Kahn's algo)\n",
    "class Solution:\n",
    "    \"\"\"\n",
    "    Detects if a directed graph contains a cycle using Kahn's algorithm (topological sort).\n",
    "    \"\"\"\n",
    "    def isCycle(self, V: int, edges: list[list[int]]) -> bool:\n",
    "        \"\"\"\n",
    "        Checks for cycles in a directed graph.\n",
    "\n",
    "        Args:\n",
    "            V: The number of vertices in the graph.\n",
    "            edges: A list of edges, where each edge is represented as [u, v]\n",
    "                   indicating a directed edge from u to v.\n",
    "\n",
    "        Returns:\n",
    "            True if a cycle is detected, False otherwise.\n",
    "        \"\"\"\n",
    "        # Create an adjacency list to represent the graph. adj[u] will store a list of all vertices v such that there is a directed edge from u to v.\n",
    "        adj = defaultdict(list)\n",
    "        for u, v in edges:\n",
    "            adj[u].append(v)\n",
    "\n",
    "        # Calculate the in-degree for each vertex. indegree[i] will store the number of incoming edges for vertex i.\n",
    "        indegree = [0] * V\n",
    "        for u in range(V):\n",
    "            for v in adj[u]:\n",
    "                indegree[v] += 1\n",
    "\n",
    "        # Initialize a queue for BFS and a counter for visited nodes. The queue will store all vertices with an in-degree of 0.\n",
    "        count = 0                       # To count the number of nodes included in the topological sort\n",
    "        que = deque([])\n",
    "\n",
    "        # Add all vertices with an in-degree of 0 to the queue. These are the starting points for the topological sort.\n",
    "        for i in range(V):\n",
    "            if indegree[i] == 0:\n",
    "                que.append(i)\n",
    "                count += 1\n",
    "\n",
    "        # Perform BFS (Kahn's algorithm)\n",
    "        while que:\n",
    "            u = que.popleft()           # Dequeue a vertex with an in-degree of 0\n",
    "\n",
    "            # For each neighbor v of the current vertex u\n",
    "            for v in adj[u]:\n",
    "                indegree[v] -= 1        # Decrement the in-degree of v. This simulates removing the edge (u, v).\n",
    "                if indegree[v] == 0:    # If the in-degree of v becomes 0, it means all its prerequisites (incoming edges) have been processed. Add v to the queue.\n",
    "                    que.append(v)\n",
    "                    count += 1\n",
    "\n",
    "        # If the number of nodes included in the topological sort (count) is equal to the total number of vertices (V), it means a topological sort was possible, and thus no cycle exists.\n",
    "        if count == V:\n",
    "            return False\n",
    "        # If count is less than V, it means there are still nodes with non-zero in-degrees that could not be processed, indicating the presence of a cycle.\n",
    "        return True\n",
    "    \n",
    "# ===============================================================\n",
    "V = 4\n",
    "edges = [[0, 1], [0, 2], [1, 2], [2, 0], [2, 3]]\n",
    "ss = Solution()\n",
    "print(ss.isCycle(V, edges))     # Expected: True\n",
    "\n",
    "V = 4\n",
    "edges = [[0, 1], [0, 2], [1, 2], [2, 3]]\n",
    "ss = Solution()\n",
    "print(ss.isCycle(V, edges))     # Expected: False"
   ]
  },
  {
   "cell_type": "markdown",
   "id": "d9634ed8",
   "metadata": {},
   "source": [
    "### [Topological sort - GFG](https://www.geeksforgeeks.org/problems/topological-sort/1)\n"
   ]
  },
  {
   "cell_type": "markdown",
   "id": "dcfc4728",
   "metadata": {},
   "source": [
    "##### [DFS ▶️](https://youtu.be/WbbYZRr4arw?list=PLpIkg8OmuX-LZB9jYzbbZchk277H5CbdY)"
   ]
  },
  {
   "cell_type": "code",
   "execution_count": 11,
   "id": "ded4a016",
   "metadata": {},
   "outputs": [
    {
     "name": "stdout",
     "output_type": "stream",
     "text": [
      "[5, 4, 2, 1, 3, 0]\n",
      "[3, 2, 1, 0]\n"
     ]
    }
   ],
   "source": [
    "from collections import defaultdict\n",
    "class Solution:\n",
    "    \n",
    "    def topoSort(self, V, edges):\n",
    "        \n",
    "        def dfs(u):\n",
    "            visited[u] = True\n",
    "            for v in adj[u]:\n",
    "                if not visited[v]:\n",
    "                    dfs(v)\n",
    "            st.append(u)\n",
    "                    \n",
    "        \n",
    "        # --------------------------------------\n",
    "        adj = defaultdict(list)\n",
    "        for u, v in edges:\n",
    "            adj[u].append(v)\n",
    "        # --------------------------------------\n",
    "        visited = [False]*V\n",
    "        st = []\n",
    "        # --------------------------------------\n",
    "        for i in range(V):\n",
    "            if not visited[i]:\n",
    "                dfs(i)\n",
    "        \n",
    "        return st[::-1]\n",
    "\n",
    "# =================================================\n",
    "V = 6\n",
    "edges = [[1, 3], [2, 3], [4, 1], [4, 0], [5, 0], [5,2]]\n",
    "ss = Solution()\n",
    "print(ss.topoSort(V, edges))\n",
    "\n",
    "V = 4\n",
    "edges = [[3, 0], [1, 0], [2, 0]]\n",
    "ss = Solution()\n",
    "print(ss.topoSort(V, edges))"
   ]
  },
  {
   "cell_type": "markdown",
   "id": "11495fd7",
   "metadata": {},
   "source": [
    "##### [BFS (Kahn's Algorithm) ▶️ ](https://youtu.be/uVl4ftleTes?list=PLpIkg8OmuX-LZB9jYzbbZchk277H5CbdY)\n"
   ]
  },
  {
   "cell_type": "code",
   "execution_count": 12,
   "id": "4f8a7196",
   "metadata": {},
   "outputs": [
    {
     "name": "stdout",
     "output_type": "stream",
     "text": [
      "[4, 5, 1, 0, 2, 3]\n",
      "[1, 2, 3, 0]\n"
     ]
    }
   ],
   "source": [
    "from collections import defaultdict, deque\n",
    "\n",
    "class Solution:\n",
    "    # Kahn's algorithm\n",
    "    def topoSort(self, V, edges):\n",
    "        # --------------------------------------\n",
    "        adj = defaultdict(list)\n",
    "        for u, v in edges:\n",
    "            adj[u].append(v)\n",
    "        # --------------------------------------\n",
    "        indegree = [0]*V\n",
    "        for u in range(V):\n",
    "            for v in adj[u]:\n",
    "                indegree[v]+=1\n",
    "        # --------------------------------------\n",
    "        que = deque([])\n",
    "        for i in range(V):\n",
    "            if indegree[i] == 0:\n",
    "                que.append(i)\n",
    "        # --------------------------------------\n",
    "        res = []\n",
    "        while que:\n",
    "            u = que.popleft()\n",
    "            res.append(u)\n",
    "            for v in adj[u]:\n",
    "                indegree[v]-=1\n",
    "                if indegree[v] == 0:\n",
    "                    que.append(v)\n",
    "        return res\n",
    "    \n",
    "# =================================================\n",
    "V = 6\n",
    "edges = [[1, 3], [2, 3], [4, 1], [4, 0], [5, 0], [5,2]]\n",
    "ss = Solution()\n",
    "print(ss.topoSort(V, edges))\n",
    "\n",
    "V = 4\n",
    "edges = [[3, 0], [1, 0], [2, 0]]\n",
    "ss = Solution()\n",
    "print(ss.topoSort(V, edges))"
   ]
  },
  {
   "cell_type": "markdown",
   "id": "944ad500",
   "metadata": {},
   "source": [
    "### [547. Number of Provinces - Leetcode](https://leetcode.com/problems/number-of-provinces/description/)\n"
   ]
  },
  {
   "cell_type": "markdown",
   "id": "49d07530",
   "metadata": {},
   "source": [
    "##### [DFS ▶️](https://youtu.be/70LNE8RMPNc?list=PLpIkg8OmuX-LZB9jYzbbZchk277H5CbdY)\n",
    "\n"
   ]
  },
  {
   "cell_type": "code",
   "execution_count": 13,
   "id": "723d7025",
   "metadata": {},
   "outputs": [
    {
     "name": "stdout",
     "output_type": "stream",
     "text": [
      "3\n",
      "2\n"
     ]
    }
   ],
   "source": [
    "from typing import List\n",
    "\n",
    "class Solution:\n",
    "    \n",
    "    def findCircleNum(self, isConnected: List[List[int]]) -> int:\n",
    "\n",
    "        def dfs(u):\n",
    "            if not visited[u]:\n",
    "                visited[u] = True\n",
    "                for v, i in enumerate(isConnected[u]):\n",
    "                    if i == 1:\n",
    "                        dfs(v)\n",
    "\n",
    "        # ------------------------------------------\n",
    "        V = len(isConnected)\n",
    "        count = 0\n",
    "        visited = [False]*V\n",
    "        for i in range(V):\n",
    "            if not visited[i]:\n",
    "                count += 1\n",
    "                dfs(i)\n",
    "        return count\n",
    "# =============================================\n",
    "isConnected = [[1,0,0],[0,1,0],[0,0,1]]\n",
    "ss = Solution()\n",
    "print(ss.findCircleNum(isConnected))   # Expected = 3\n",
    "\n",
    "\n",
    "isConnected = [[1,1,0],[1,1,0],[0,0,1]]\n",
    "\n",
    "ss = Solution()\n",
    "print(ss.findCircleNum(isConnected))   # Expected = 2"
   ]
  },
  {
   "cell_type": "markdown",
   "id": "50316d57",
   "metadata": {},
   "source": [
    "##### [BFS ▶️](https://youtu.be/YDMkSvNdB20?list=PLpIkg8OmuX-LZB9jYzbbZchk277H5CbdY)"
   ]
  },
  {
   "cell_type": "code",
   "execution_count": 14,
   "id": "98b2181d",
   "metadata": {},
   "outputs": [
    {
     "name": "stdout",
     "output_type": "stream",
     "text": [
      "3\n",
      "2\n"
     ]
    }
   ],
   "source": [
    "from collections import deque\n",
    "\n",
    "class Solution:\n",
    "    # BFS\n",
    "    def findCircleNum(self, isConnected: List[List[int]]) -> int:\n",
    "        def bfs(i):\n",
    "            que = deque([i])\n",
    "            while que:\n",
    "                current = que.popleft()\n",
    "                if visited[current] == False:\n",
    "                    visited[current] = True\n",
    "                    que.extend([i for i,x in enumerate(isConnected[current]) if x])\n",
    "\n",
    "        # -----------------------------------\n",
    "        num_nodes = len(isConnected)\n",
    "        visited = [False]*num_nodes\n",
    "        count = 0\n",
    "        for i in range(num_nodes):\n",
    "            if visited[i] == False:\n",
    "                count += 1\n",
    "                bfs(i)\n",
    "        return count\n",
    "    \n",
    "\n",
    "\n",
    "# ===================================================\n",
    "isConnected = [[1,0,0],[0,1,0],[0,0,1]]\n",
    "ss = Solution()\n",
    "print(ss.findCircleNum(isConnected))   # Expected = 3\n",
    "\n",
    "\n",
    "isConnected = [[1,1,0],[1,1,0],[0,0,1]]\n",
    "\n",
    "ss = Solution()\n",
    "print(ss.findCircleNum(isConnected))   # Expected = 2"
   ]
  },
  {
   "cell_type": "markdown",
   "id": "138e8259",
   "metadata": {},
   "source": [
    "### [207. Course Schedule - Leetcode](https://leetcode.com/problems/course-schedule/description/)\n"
   ]
  },
  {
   "cell_type": "markdown",
   "id": "3b11a680",
   "metadata": {},
   "source": [
    "##### [BFS ▶️](https://youtu.be/lqjlGGMjSMU?list=PLpIkg8OmuX-LZB9jYzbbZchk277H5CbdY)"
   ]
  },
  {
   "cell_type": "code",
   "execution_count": 16,
   "id": "70c0c8e1",
   "metadata": {},
   "outputs": [
    {
     "name": "stdout",
     "output_type": "stream",
     "text": [
      "True\n",
      "False\n"
     ]
    }
   ],
   "source": [
    "from collections import defaultdict, deque\n",
    "from typing import List\n",
    "class Solution:\n",
    "    def canFinish(self, numCourses: int, prerequisites: List[List[int]]) -> bool:\n",
    "\n",
    "        def topological_sort_check():\n",
    "            que = deque([])\n",
    "            count = 0\n",
    "            for i in range(numCourses):\n",
    "                if indegree[i] == 0:\n",
    "                    que.append(i)\n",
    "                    count += 1\n",
    "            \n",
    "            while que:\n",
    "                u = que.popleft()\n",
    "                for v in adj[u]:\n",
    "                    indegree[v] -= 1\n",
    "                    if indegree[v] == 0:\n",
    "                        que.append(v)\n",
    "                        count += 1\n",
    "            \n",
    "            return count == numCourses\n",
    "\n",
    "\n",
    "        # --------------------------------\n",
    "        indegree = [0] * numCourses\n",
    "        adj = defaultdict(list)\n",
    "        for a, b in prerequisites:\n",
    "            adj[b].append(a)  # b-->a\n",
    "            indegree[a] += 1\n",
    "        \n",
    "        return topological_sort_check()\n",
    "\n",
    "# =======================================================================\n",
    "numCourses = 2\n",
    "prerequisites = [[1,0]]\n",
    "ss = Solution()\n",
    "print(ss.canFinish(numCourses, prerequisites)) # Expected = True\n",
    "\n",
    "numCourses = 2\n",
    "prerequisites = [[1,0],[0,1]]\n",
    "ss = Solution()\n",
    "print(ss.canFinish(numCourses, prerequisites)) # Expected = False"
   ]
  },
  {
   "cell_type": "markdown",
   "id": "42d6a035",
   "metadata": {},
   "source": [
    "##### [DFS ▶️](https://youtu.be/lqjlGGMjSMU?list=PLpIkg8OmuX-LZB9jYzbbZchk277H5CbdY)"
   ]
  },
  {
   "cell_type": "code",
   "execution_count": 17,
   "id": "889739b9",
   "metadata": {},
   "outputs": [
    {
     "name": "stdout",
     "output_type": "stream",
     "text": [
      "True\n",
      "False\n"
     ]
    }
   ],
   "source": [
    "from collections import defaultdict, deque\n",
    "# DFS\n",
    "class Solution:\n",
    "    def canFinish(self, numCourses: int, prerequisites: List[List[int]]) -> bool:\n",
    "        # --------------------------------\n",
    "        def isCycleDFS(u):\n",
    "            visited[u] = True\n",
    "            inrecursion[u] = True\n",
    "            for v in adj[u]:\n",
    "                if not visited[v] and isCycleDFS(v):\n",
    "                    return True  # cycle is present\n",
    "                elif inrecursion[v] == True:\n",
    "                    return True\n",
    "            inrecursion[u] = False\n",
    "            return False  # no cycle\n",
    "\n",
    "        # --------------------------------\n",
    "        visited = [False] * numCourses\n",
    "        inrecursion = [0] * numCourses\n",
    "        # --------------------------------\n",
    "        adj = defaultdict(list)\n",
    "        for a, b in prerequisites:\n",
    "            adj[b].append(a)  # b-->a\n",
    "            inrecursion[a] += 1\n",
    "        # --------------------------------\n",
    "        for i in range(numCourses):\n",
    "            if not visited[i] and isCycleDFS(i):\n",
    "                return False # cant complet course, sinc cycle found in graph\n",
    "        return True\n",
    "    \n",
    "# =======================================================================\n",
    "numCourses = 2\n",
    "prerequisites = [[1,0]]\n",
    "ss = Solution()\n",
    "print(ss.canFinish(numCourses, prerequisites)) # Expected = True\n",
    "\n",
    "numCourses = 2\n",
    "prerequisites = [[1,0],[0,1]]\n",
    "ss = Solution()\n",
    "print(ss.canFinish(numCourses, prerequisites)) # Expected = False\n"
   ]
  },
  {
   "cell_type": "markdown",
   "id": "c6d6a16c",
   "metadata": {},
   "source": [
    "### [210. Course Schedule II - Leetcode](https://leetcode.com/problems/course-schedule-ii/description/)\n"
   ]
  },
  {
   "cell_type": "markdown",
   "id": "2b281182",
   "metadata": {},
   "source": [
    "##### [BFS ▶️](https://youtu.be/W1WhSN9wAw0?list=PLpIkg8OmuX-LZB9jYzbbZchk277H5CbdY)"
   ]
  },
  {
   "cell_type": "code",
   "execution_count": 19,
   "id": "f0f5b2fe",
   "metadata": {},
   "outputs": [
    {
     "name": "stdout",
     "output_type": "stream",
     "text": [
      "[0, 1]\n",
      "[0, 1, 2, 3]\n",
      "[0]\n"
     ]
    }
   ],
   "source": [
    "from typing import List\n",
    "class Solution:\n",
    "    def findOrder(self, numCourses: int, prerequisites: List[List[int]]) -> List[int]:\n",
    "\n",
    "        def topological_sort():\n",
    "            que = deque([])\n",
    "            count = 0\n",
    "            res = []\n",
    "            for i in range(numCourses):\n",
    "                if indegree[i] == 0:\n",
    "                    que.append(i)\n",
    "                    res.append(i)\n",
    "                    count += 1\n",
    "            \n",
    "            while que:\n",
    "                u = que.popleft()\n",
    "                for v in adj[u]:\n",
    "                    indegree[v] -= 1\n",
    "                    if indegree[v] == 0:\n",
    "                        que.append(v)\n",
    "                        res.append(v)\n",
    "                        count += 1\n",
    "            \n",
    "            if count == numCourses:\n",
    "                return res\n",
    "            return []\n",
    "\n",
    "\n",
    "        # --------------------------------\n",
    "        indegree = [0] * numCourses\n",
    "        adj = defaultdict(list)\n",
    "        for a, b in prerequisites:\n",
    "            adj[b].append(a)  # b-->a\n",
    "            indegree[a] += 1\n",
    "        \n",
    "        return topological_sort()\n",
    "    \n",
    "# =======================================================================\n",
    "numCourses = 2\n",
    "prerequisites = [[1,0]]\n",
    "ss = Solution()\n",
    "print(ss.findOrder(numCourses, prerequisites)) # Output: [0,1]\n",
    "\n",
    "numCourses = 4\n",
    "prerequisites = [[1,0],[2,0],[3,1],[3,2]]\n",
    "ss = Solution()\n",
    "print(ss.findOrder(numCourses, prerequisites)) # Output: [0,2,1,3]\n",
    "\n",
    "numCourses = 1\n",
    "prerequisites = []\n",
    "ss = Solution()\n",
    "print(ss.findOrder(numCourses, prerequisites)) # Output: []"
   ]
  },
  {
   "cell_type": "markdown",
   "id": "a768771b",
   "metadata": {},
   "source": [
    "##### [DFS ▶️](https://youtu.be/yiR95dxinjs?list=PLpIkg8OmuX-LZB9jYzbbZchk277H5CbdY)"
   ]
  },
  {
   "cell_type": "code",
   "execution_count": 27,
   "id": "dfc2aef2",
   "metadata": {},
   "outputs": [
    {
     "name": "stdout",
     "output_type": "stream",
     "text": [
      "[0, 1]\n",
      "[0, 2, 1, 3]\n",
      "[0]\n",
      "[]\n"
     ]
    }
   ],
   "source": [
    "# DFS\n",
    "class Solution:\n",
    "    # https://youtu.be/yiR95dxinjs?list=PLpIkg8OmuX-LZB9jYzbbZchk277H5CbdY\n",
    "    def findOrder(self, numCourses: int, prerequisites: List[List[int]]) -> List[int]:\n",
    "        # -----------------------------------------\n",
    "        def dfs(u):\n",
    "            visited[u] = True\n",
    "            inrecursion[u] = True\n",
    "            for v in adj[u]:\n",
    "                if inrecursion[v] == True:\n",
    "                    nonlocal has_cycle\n",
    "                    has_cycle = True\n",
    "                    return\n",
    "                if not visited[v]:\n",
    "                    dfs(v)\n",
    "\n",
    "            st.append(u)\n",
    "            inrecursion[u] = False\n",
    "\n",
    "        # -----------------------------------------\n",
    "        visited = [False] * numCourses\n",
    "        inrecursion = [False] * numCourses\n",
    "        # -----------------------------------------\n",
    "        adj = defaultdict(list)\n",
    "        for a, b in prerequisites:\n",
    "            adj[b].append(a)  # b-->a\n",
    "        # -----------------------------------------\n",
    "        has_cycle = False\n",
    "        st = []\n",
    "        for i in range(numCourses):\n",
    "            if not visited[i]:\n",
    "                dfs(i)\n",
    "        # -----------------------------------------\n",
    "        if has_cycle == True:\n",
    "            return []\n",
    "        return st[::-1]\n",
    "    \n",
    "# =======================================================================\n",
    "numCourses = 2\n",
    "prerequisites = [[1,0]]\n",
    "ss = Solution()\n",
    "print(ss.findOrder(numCourses, prerequisites)) # Output: [0,1]\n",
    "\n",
    "numCourses = 4\n",
    "prerequisites = [[1,0],[2,0],[3,1],[3,2]]\n",
    "ss = Solution()\n",
    "print(ss.findOrder(numCourses, prerequisites)) # Output: [0,2,1,3]\n",
    "\n",
    "numCourses = 1\n",
    "prerequisites = []\n",
    "ss = Solution()\n",
    "print(ss.findOrder(numCourses, prerequisites)) # Output: []\n",
    "\n",
    "numCourses = 2\n",
    "prerequisites = [[0,1],[1,0]]\n",
    "ss = Solution()\n",
    "print(ss.findOrder(numCourses, prerequisites)) # Output: []"
   ]
  },
  {
   "cell_type": "markdown",
   "id": "43f577bd",
   "metadata": {},
   "source": [
    "### [Bipartite Graph - GFG](https://www.geeksforgeeks.org/problems/bipartite-graph/1) ---- [785. Is Graph Bipartite? - Leetcode](https://leetcode.com/problems/is-graph-bipartite/description/)"
   ]
  },
  {
   "cell_type": "markdown",
   "id": "d5deaacd",
   "metadata": {},
   "source": [
    "##### [DFS ▶️](https://youtu.be/NeU-C1PTWB8?list=PLpIkg8OmuX-LZB9jYzbbZchk277H5CbdY)"
   ]
  },
  {
   "cell_type": "code",
   "execution_count": null,
   "id": "8a3477cc",
   "metadata": {},
   "outputs": [
    {
     "name": "stdout",
     "output_type": "stream",
     "text": [
      "True\n",
      "False\n"
     ]
    }
   ],
   "source": [
    "from collections import defaultdict\n",
    "\n",
    "class Solution:\n",
    "    def isBipartite(self, V, edges):\n",
    "        # ---------------------------------------\n",
    "        def check_bipertite_DFS(u, cur_color):\n",
    "            colors[u] = cur_color\n",
    "            for v in adj[u]:\n",
    "                if colors[v] == colors[u]:\n",
    "                    return False\n",
    "                if colors[v] == -1:\n",
    "                    color_of_v = 1 - cur_color\n",
    "                    if check_bipertite_DFS(v, color_of_v) == False:\n",
    "                        return False\n",
    "            return True\n",
    "        \n",
    "        # ---------------------------------------\n",
    "        # red=1, green=0\n",
    "        colors = [-1]*V\n",
    "        adj = defaultdict(list)\n",
    "        for u, v in edges:\n",
    "            adj[u].append(v)\n",
    "            adj[v].append(u)\n",
    "            \n",
    "        for i in range(V):\n",
    "            if colors[i] == -1:\n",
    "                if check_bipertite_DFS(i, 1) == False:\n",
    "                    return False\n",
    "        return True\n",
    "\n",
    "# ========================================================\n",
    "V = 3\n",
    "edges = [[0, 1], [1,2]]\n",
    "ss = Solution()\n",
    "print(ss.isBipartite(V, edges)) # Expected True\n",
    "\n",
    "V = 4\n",
    "edges = [[0, 3], [1, 2], [3, 2], [0, 2]]\n",
    "ss = Solution()\n",
    "print(ss.isBipartite(V, edges)) # Expected False"
   ]
  },
  {
   "cell_type": "markdown",
   "id": "3b0c4648",
   "metadata": {},
   "source": [
    "##### [BFS ▶️](https://youtu.be/cvhXZt66VhA?list=PLpIkg8OmuX-LZB9jYzbbZchk277H5CbdY)"
   ]
  },
  {
   "cell_type": "code",
   "execution_count": 22,
   "id": "24d8a3bc",
   "metadata": {},
   "outputs": [
    {
     "name": "stdout",
     "output_type": "stream",
     "text": [
      "True\n",
      "False\n"
     ]
    }
   ],
   "source": [
    "from collections import defaultdict, deque\n",
    "\n",
    "# BFS\n",
    "class Solution:\n",
    "    # https://youtu.be/cvhXZt66VhA?list=PLpIkg8OmuX-LZB9jYzbbZchk277H5CbdY\n",
    "    def isBipartite(self, V, edges):\n",
    "        def check_bipertite_BFS(curr, cur_color):\n",
    "            que = deque([])\n",
    "            que.append(curr)\n",
    "            colors[curr] = cur_color\n",
    "            \n",
    "            while que:\n",
    "                u = que.popleft()\n",
    "                for v in adj[u]:\n",
    "                    if colors[v] == colors[u]:\n",
    "                        return False\n",
    "                    if colors[v] == -1:\n",
    "                        colors[v] = 1 - colors[u]\n",
    "                        que.append(v)\n",
    "            return True\n",
    "        \n",
    "        # ---------------------------------------\n",
    "        # red=1, green=0\n",
    "        colors = [-1]*V\n",
    "        adj = defaultdict(list)\n",
    "        for u, v in edges:\n",
    "            adj[u].append(v)\n",
    "            adj[v].append(u)\n",
    "            \n",
    "        for i in range(V):\n",
    "            if colors[i] == -1:\n",
    "                if check_bipertite_BFS(i, 1) == False:\n",
    "                    return False\n",
    "        return True\n",
    "        \n",
    "# ========================================================\n",
    "V = 3\n",
    "edges = [[0, 1], [1,2]]\n",
    "ss = Solution()\n",
    "print(ss.isBipartite(V, edges)) # Expected True\n",
    "\n",
    "V = 4\n",
    "edges = [[0, 3], [1, 2], [3, 2], [0, 2]]\n",
    "ss = Solution()\n",
    "print(ss.isBipartite(V, edges)) # Expected False"
   ]
  },
  {
   "cell_type": "markdown",
   "id": "44f5c6a8",
   "metadata": {},
   "source": [
    "### [Detect Cycle using DSU - GFG](https://www.geeksforgeeks.org/problems/detect-cycle-using-dsu/1)"
   ]
  },
  {
   "cell_type": "markdown",
   "id": "2f051b86",
   "metadata": {},
   "source": [
    "[1:▶️  ](https://youtu.be/AsAdKHkITBQ?list=PLpIkg8OmuX-LZB9jYzbbZchk277H5CbdY)\n",
    "[2:▶️  ](https://youtu.be/iH3XVIVzl7M?list=PLpIkg8OmuX-LZB9jYzbbZchk277H5CbdY)\n",
    "[3:▶️  ](https://youtu.be/0X0lEtTkk-8?list=PLpIkg8OmuX-LZB9jYzbbZchk277H5CbdY)"
   ]
  },
  {
   "cell_type": "code",
   "execution_count": 8,
   "id": "f51496ac",
   "metadata": {},
   "outputs": [
    {
     "name": "stdout",
     "output_type": "stream",
     "text": [
      "1\n",
      "0\n"
     ]
    }
   ],
   "source": [
    "class Solution:\n",
    "\n",
    "    #Function to detect cycle using DSU in an undirected graph.\n",
    "    def detectCycle(self, V, adj):\n",
    "        # --------------------------------------\n",
    "        parent = list(range(V))\n",
    "        rank = [0] * V\n",
    "        # --------------------------------------\n",
    "        def find(x):\n",
    "            if x == parent[x]:\n",
    "                return x\n",
    "            parent[x] = find(parent[x])\n",
    "            return parent[x]\n",
    "        # --------------------------------------\n",
    "        def Union(x, y):\n",
    "            x_parent = find(x)\n",
    "            y_parent = find(y)\n",
    "            \n",
    "            if rank[x_parent] < rank[y_parent]:\n",
    "                x_parent, y_parent = y_parent, x_parent\n",
    "            parent[y_parent] = x_parent\n",
    "            rank[x_parent] += 1\n",
    "\n",
    "        # ============================\n",
    "        for u in range(V):\n",
    "            for v in adj[u]:\n",
    "                if u < v:\n",
    "                    if find(u) == find(v):\n",
    "                        return 1\n",
    "                    Union(u, v)\n",
    "        return 0\n",
    "\t    \n",
    "# =================================================================================\n",
    "V = 5\n",
    "adj = [[2,3,4], [3], [0,4], [0,1], [0,2]]\n",
    "ss = Solution()\n",
    "print(ss.detectCycle(V, adj)) # Expected 1\n",
    "\n",
    "V = 5\n",
    "adj = {0:[2,3], 1:[3], 2:[0,4], 3:[0,1], 4:[2]}\n",
    "ss = Solution()\n",
    "print(ss.detectCycle(V, adj)) # Expected 0"
   ]
  },
  {
   "attachments": {
    "image-2.png": {
     "image/png": "[encoded data removed]"
    },
    "image.png": {
     "image/png": "[encoded data removed]"
    }
   },
   "cell_type": "markdown",
   "id": "3ea2b28b",
   "metadata": {},
   "source": [
    "![image.png](attachment:image.png)\n",
    "![image-2.png](attachment:image-2.png)"
   ]
  },
  {
   "cell_type": "markdown",
   "id": "4ec2a2f8",
   "metadata": {},
   "source": [
    "[990. Satisfiability of Equality Equations - Leetcode](https://leetcode.com/problems/satisfiability-of-equality-equations/description/)"
   ]
  },
  {
   "cell_type": "code",
   "execution_count": null,
   "id": "838e8a57",
   "metadata": {},
   "outputs": [],
   "source": []
  },
  {
   "cell_type": "code",
   "execution_count": null,
   "id": "0f93e1e6",
   "metadata": {},
   "outputs": [],
   "source": []
  },
  {
   "cell_type": "code",
   "execution_count": null,
   "id": "7574c756",
   "metadata": {},
   "outputs": [],
   "source": []
  }
 ],
 "metadata": {
  "kernelspec": {
   "display_name": "Python 3",
   "language": "python",
   "name": "python3"
  },
  "language_info": {
   "codemirror_mode": {
    "name": "ipython",
    "version": 3
   },
   "file_extension": ".py",
   "mimetype": "text/x-python",
   "name": "python",
   "nbconvert_exporter": "python",
   "pygments_lexer": "ipython3",
   "version": "3.11.1"
  }
 },
 "nbformat": 4,
 "nbformat_minor": 5
}

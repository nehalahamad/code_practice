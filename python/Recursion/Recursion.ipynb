{
 "cells": [
  {
   "cell_type": "code",
   "execution_count": null,
   "id": "9fa27331",
   "metadata": {},
   "outputs": [],
   "source": []
  },
  {
   "cell_type": "code",
   "execution_count": 49,
   "id": "971af7db",
   "metadata": {},
   "outputs": [
    {
     "name": "stdout",
     "output_type": "stream",
     "text": [
      "30\n"
     ]
    }
   ],
   "source": [
    "# 11 recursive program to get sum of even number between 1 to n\n",
    "def evensum(a, b, summ):\n",
    "    if a%2==1:\n",
    "        a+=1\n",
    "    if a > b:\n",
    "        return summ\n",
    "    else:\n",
    "        summ += a\n",
    "        return evensum(a+2, b, summ)\n",
    "\n",
    "a, b = 1, 10\n",
    "s = evensum(a, b, 0)\n",
    "print(s)"
   ]
  },
  {
   "cell_type": "code",
   "execution_count": 34,
   "id": "1d58c20a",
   "metadata": {},
   "outputs": [
    {
     "name": "stdout",
     "output_type": "stream",
     "text": [
      "4\n",
      "6\n",
      "8\n",
      "10\n",
      "12\n",
      "14\n",
      "16\n",
      "18\n"
     ]
    }
   ],
   "source": [
    "# 10 python program to print even number in given range\n",
    "def get_even(a, b):\n",
    "    if a%2==1:\n",
    "        a+=1\n",
    "    if a > b:\n",
    "        return\n",
    "    else:\n",
    "        print(a)\n",
    "        get_even(a+2, b)\n",
    "\n",
    "a, b = 4, 19\n",
    "get_even(a, b)"
   ]
  },
  {
   "cell_type": "code",
   "execution_count": 28,
   "id": "337ffe68",
   "metadata": {},
   "outputs": [
    {
     "name": "stdout",
     "output_type": "stream",
     "text": [
      "Palindrom\n"
     ]
    }
   ],
   "source": [
    "# 9 recursive program to check a palindrom number\n",
    "def reverse(num, t):\n",
    "    if num == 0:\n",
    "        return t\n",
    "    else:\n",
    "        t = t*10 + num%10\n",
    "        return reverse(num//10, t)\n",
    "    \n",
    "n = 12321\n",
    "p = reverse(n, 0)\n",
    "if n==p:\n",
    "    print('Palindrom')\n",
    "else:\n",
    "    print('Not a Palindrom')"
   ]
  },
  {
   "cell_type": "code",
   "execution_count": 43,
   "id": "c3d0069f",
   "metadata": {},
   "outputs": [
    {
     "name": "stdout",
     "output_type": "stream",
     "text": [
      "151 is not armstorn number\n"
     ]
    }
   ],
   "source": [
    "# 8 armstrong number 153 = 1^3 + 5^3 + 3^3 = 1+125+27 = 153\n",
    "def arm(num):\n",
    "    if num == 0:\n",
    "        return 0\n",
    "    else:\n",
    "        return (num%10)**3 + arm(num//10)\n",
    "\n",
    "n = 151\n",
    "a = arm(n)\n",
    "if a==n:\n",
    "    print(n, 'is an armstorng number')\n",
    "else:\n",
    "    print(n, 'is not armstorn number')"
   ]
  },
  {
   "cell_type": "code",
   "execution_count": 30,
   "id": "37620b9e",
   "metadata": {},
   "outputs": [
    {
     "name": "stdout",
     "output_type": "stream",
     "text": [
      "15 14 13 12 11 10 "
     ]
    }
   ],
   "source": [
    "# 7 recursive number to find natural numbers between two given numbers in reverse order\n",
    "def natural_num(a,b):\n",
    "    if a > b:\n",
    "        a,b = b,a\n",
    "    if a == b:\n",
    "        print(b, end=' ')\n",
    "        return\n",
    "    else:\n",
    "        natural_num(a+1, b)\n",
    "        print(a, end=' ')\n",
    "\n",
    "a, b = 15, 10\n",
    "natural_num(a,b)"
   ]
  },
  {
   "cell_type": "code",
   "execution_count": 29,
   "id": "1df93533",
   "metadata": {},
   "outputs": [
    {
     "name": "stdout",
     "output_type": "stream",
     "text": [
      "10 11 12 13 14 15 "
     ]
    }
   ],
   "source": [
    "# 6 recursive number to find natural numbers between two given numbers\n",
    "def natural_num(a,b):\n",
    "    if a > b:\n",
    "        a,b = b,a\n",
    "    if a == b:\n",
    "        print(b, end=' ')\n",
    "        return\n",
    "    else:\n",
    "        print(a, end=' ')\n",
    "        natural_num(a+1, b)\n",
    "\n",
    "a, b = 15, 10\n",
    "natural_num(a,b)"
   ]
  },
  {
   "cell_type": "code",
   "execution_count": 32,
   "id": "0cffaa75",
   "metadata": {},
   "outputs": [
    {
     "name": "stdout",
     "output_type": "stream",
     "text": [
      "3\n"
     ]
    }
   ],
   "source": [
    "# 5 recursive program to find number of digits in a given number\n",
    "def get_num_dig(num):\n",
    "    if num == 0:\n",
    "        return 0\n",
    "    else:\n",
    "        return 1+get_num_dig(num//10)\n",
    "\n",
    "n = 100\n",
    "d = get_num_dig(n)\n",
    "print(d)"
   ]
  },
  {
   "cell_type": "code",
   "execution_count": 27,
   "id": "21ee420a",
   "metadata": {},
   "outputs": [
    {
     "name": "stdout",
     "output_type": "stream",
     "text": [
      "1024\n"
     ]
    }
   ],
   "source": [
    "# 4 power of a number using recursion  power(a, b) = a^b\n",
    "def power(a,b):\n",
    "    if b == 1:\n",
    "        return a\n",
    "    else:\n",
    "        return a*power(a, b-1)\n",
    "\n",
    "a, b = 2,10\n",
    "p = power(a, b)\n",
    "print(p)"
   ]
  },
  {
   "cell_type": "code",
   "execution_count": 23,
   "id": "f371d37a",
   "metadata": {},
   "outputs": [
    {
     "name": "stdout",
     "output_type": "stream",
     "text": [
      "30\n"
     ]
    }
   ],
   "source": [
    "# 3 sum of digits using recureion\n",
    "def get_digit_sum(num):\n",
    "    if num == 0:\n",
    "        return 0\n",
    "    else:\n",
    "        return num%10 + get_digit_sum(num//10)\n",
    "\n",
    "n = 264198\n",
    "s = get_digit_sum(n)\n",
    "print(s)"
   ]
  },
  {
   "cell_type": "code",
   "execution_count": 21,
   "id": "6f10b7ec",
   "metadata": {},
   "outputs": [
    {
     "name": "stdout",
     "output_type": "stream",
     "text": [
      "10 is not prime\n"
     ]
    }
   ],
   "source": [
    "# 2 recursive function to get prime number\n",
    "def prime(num, i):\n",
    "    if i == 1:\n",
    "        return f'{num} is prime'\n",
    "    elif num%i == 0:\n",
    "        return f'{num} is not prime'\n",
    "    else:\n",
    "        return prime(num, i-1)\n",
    "        \n",
    "n = 10\n",
    "f = prime(n, n//2)\n",
    "print(f)"
   ]
  },
  {
   "cell_type": "code",
   "execution_count": 8,
   "id": "b550cfc8",
   "metadata": {},
   "outputs": [
    {
     "name": "stdout",
     "output_type": "stream",
     "text": [
      "1 2 3 4 5 6 7 8 9 10 \n",
      "--------------\n",
      "10 9 8 7 6 5 4 3 2 1 "
     ]
    }
   ],
   "source": [
    "# 1 recursiv program to print from 1 to n\n",
    "def num1(n):\n",
    "    if n == 0:\n",
    "        return\n",
    "    num1(n-1)\n",
    "    print(n, end=' ')\n",
    "\n",
    "# recursive program to print n to 1 \n",
    "def num2(n):\n",
    "    if n == 0:\n",
    "        return\n",
    "    print(n, end=' ')\n",
    "    num2(n-1)\n",
    "    \n",
    "num1(10)\n",
    "print('\\n--------------')\n",
    "num2(10)"
   ]
  },
  {
   "cell_type": "code",
   "execution_count": null,
   "id": "f15e0727",
   "metadata": {},
   "outputs": [],
   "source": []
  },
  {
   "cell_type": "code",
   "execution_count": null,
   "id": "02cc39e3",
   "metadata": {},
   "outputs": [],
   "source": []
  },
  {
   "cell_type": "code",
   "execution_count": null,
   "id": "f75eb1aa",
   "metadata": {},
   "outputs": [],
   "source": []
  },
  {
   "cell_type": "code",
   "execution_count": null,
   "id": "452f0286",
   "metadata": {},
   "outputs": [],
   "source": []
  }
 ],
 "metadata": {
  "kernelspec": {
   "display_name": "Python 3 (ipykernel)",
   "language": "python",
   "name": "python3"
  },
  "language_info": {
   "codemirror_mode": {
    "name": "ipython",
    "version": 3
   },
   "file_extension": ".py",
   "mimetype": "text/x-python",
   "name": "python",
   "nbconvert_exporter": "python",
   "pygments_lexer": "ipython3",
   "version": "3.10.1"
  }
 },
 "nbformat": 4,
 "nbformat_minor": 5
}

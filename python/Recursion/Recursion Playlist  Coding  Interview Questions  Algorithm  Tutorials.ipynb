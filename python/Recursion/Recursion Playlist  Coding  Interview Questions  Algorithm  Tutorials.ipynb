{
 "cells": [
  {
   "cell_type": "code",
   "execution_count": null,
   "id": "c3c4293f",
   "metadata": {},
   "outputs": [],
   "source": []
  },
  {
   "cell_type": "code",
   "execution_count": null,
   "id": "8455260f",
   "metadata": {},
   "outputs": [],
   "source": []
  },
  {
   "cell_type": "code",
   "execution_count": 16,
   "id": "fcc1fc56",
   "metadata": {},
   "outputs": [
    {
     "data": {
      "text/plain": [
       "[1, 2, 3, 3, 5, 6, 8, 9]"
      ]
     },
     "execution_count": 16,
     "metadata": {},
     "output_type": "execute_result"
    }
   ],
   "source": [
    "# recursive program to sort and array\n",
    "def insert(arr2, temp):\n",
    "    if len(arr2) == 0 or arr2[-1] <= temp:\n",
    "        arr2.append(temp)\n",
    "        return arr2\n",
    "    temp1 = arr2.pop()\n",
    "    insert(arr2, temp)\n",
    "    arr2.append(temp1)\n",
    "    return arr2\n",
    "\n",
    "def sort(arr1):\n",
    "    if len(arr1) == 0:\n",
    "        return arr1\n",
    "    temp = arr1.pop()\n",
    "    sort(arr1)\n",
    "    insert(arr1, temp)\n",
    "    return arr1\n",
    "\n",
    "arr = [3,6,2,9,1,5,3,8]\n",
    "sort(arr)"
   ]
  },
  {
   "cell_type": "code",
   "execution_count": 24,
   "id": "000db14e",
   "metadata": {},
   "outputs": [
    {
     "name": "stdout",
     "output_type": "stream",
     "text": [
      "[3, 4, 67, 1, 9, 1, 5]\n"
     ]
    }
   ],
   "source": [
    "# deleting middle element from the stack given stack and size of stack (middle = s/2 + 1)\n",
    "def solve(stack, k):\n",
    "    if k == 1:\n",
    "        stack.pop()\n",
    "        return stack\n",
    "    temp = stack.pop()\n",
    "    stack = solve(stack, k-1)\n",
    "    stack.append(temp)\n",
    "    return stack\n",
    "\n",
    "def del_min(stack, s):\n",
    "    if s == 0:\n",
    "        return stack\n",
    "    k = s//2+1\n",
    "    stack = solve(stack, k)\n",
    "    print(stack)\n",
    "    \n",
    "# -----------------------------------\n",
    "stack = [3,4,67,8,1,9,1,5]\n",
    "s = len(stack)\n",
    "del_min(stack, s)"
   ]
  },
  {
   "cell_type": "code",
   "execution_count": 26,
   "id": "ea59f2fd",
   "metadata": {
    "collapsed": true
   },
   "outputs": [
    {
     "ename": "AttributeError",
     "evalue": "'NoneType' object has no attribute 'append'",
     "output_type": "error",
     "traceback": [
      "\u001b[1;31m---------------------------------------------------------------------------\u001b[0m",
      "\u001b[1;31mAttributeError\u001b[0m                            Traceback (most recent call last)",
      "Input \u001b[1;32mIn [26]\u001b[0m, in \u001b[0;36m<cell line: 12>\u001b[1;34m()\u001b[0m\n\u001b[0;32m     10\u001b[0m stack \u001b[38;5;241m=\u001b[39m [\u001b[38;5;241m2\u001b[39m,\u001b[38;5;241m3\u001b[39m,\u001b[38;5;241m4\u001b[39m,\u001b[38;5;241m5\u001b[39m,\u001b[38;5;241m6\u001b[39m,\u001b[38;5;241m7\u001b[39m,\u001b[38;5;241m8\u001b[39m,\u001b[38;5;241m9\u001b[39m]\n\u001b[0;32m     11\u001b[0m t \u001b[38;5;241m=\u001b[39m stack\u001b[38;5;241m.\u001b[39mpop()\n\u001b[1;32m---> 12\u001b[0m \u001b[43mreverse_stack\u001b[49m\u001b[43m(\u001b[49m\u001b[43mstack\u001b[49m\u001b[43m,\u001b[49m\u001b[43m \u001b[49m\u001b[43mt\u001b[49m\u001b[43m)\u001b[49m\n",
      "Input \u001b[1;32mIn [26]\u001b[0m, in \u001b[0;36mreverse_stack\u001b[1;34m(stack, temp)\u001b[0m\n\u001b[0;32m      3\u001b[0m \u001b[38;5;28;01mif\u001b[39;00m \u001b[38;5;28mlen\u001b[39m(stack)\u001b[38;5;241m==\u001b[39m\u001b[38;5;241m0\u001b[39m:\n\u001b[0;32m      4\u001b[0m     \u001b[38;5;28;01mreturn\u001b[39;00m stack\u001b[38;5;241m.\u001b[39mappend(temp)\n\u001b[1;32m----> 5\u001b[0m stack \u001b[38;5;241m=\u001b[39m \u001b[43mreverse_stack\u001b[49m\u001b[43m(\u001b[49m\u001b[43mstack\u001b[49m\u001b[43m,\u001b[49m\u001b[43m \u001b[49m\u001b[43mstack\u001b[49m\u001b[38;5;241;43m.\u001b[39;49m\u001b[43mpop\u001b[49m\u001b[43m(\u001b[49m\u001b[43m)\u001b[49m\u001b[43m)\u001b[49m\n\u001b[0;32m      6\u001b[0m stack\u001b[38;5;241m.\u001b[39mappend(temp)\n\u001b[0;32m      7\u001b[0m \u001b[38;5;28;01mreturn\u001b[39;00m stack\n",
      "Input \u001b[1;32mIn [26]\u001b[0m, in \u001b[0;36mreverse_stack\u001b[1;34m(stack, temp)\u001b[0m\n\u001b[0;32m      3\u001b[0m \u001b[38;5;28;01mif\u001b[39;00m \u001b[38;5;28mlen\u001b[39m(stack)\u001b[38;5;241m==\u001b[39m\u001b[38;5;241m0\u001b[39m:\n\u001b[0;32m      4\u001b[0m     \u001b[38;5;28;01mreturn\u001b[39;00m stack\u001b[38;5;241m.\u001b[39mappend(temp)\n\u001b[1;32m----> 5\u001b[0m stack \u001b[38;5;241m=\u001b[39m \u001b[43mreverse_stack\u001b[49m\u001b[43m(\u001b[49m\u001b[43mstack\u001b[49m\u001b[43m,\u001b[49m\u001b[43m \u001b[49m\u001b[43mstack\u001b[49m\u001b[38;5;241;43m.\u001b[39;49m\u001b[43mpop\u001b[49m\u001b[43m(\u001b[49m\u001b[43m)\u001b[49m\u001b[43m)\u001b[49m\n\u001b[0;32m      6\u001b[0m stack\u001b[38;5;241m.\u001b[39mappend(temp)\n\u001b[0;32m      7\u001b[0m \u001b[38;5;28;01mreturn\u001b[39;00m stack\n",
      "    \u001b[1;31m[... skipping similar frames: reverse_stack at line 5 (3 times)]\u001b[0m\n",
      "Input \u001b[1;32mIn [26]\u001b[0m, in \u001b[0;36mreverse_stack\u001b[1;34m(stack, temp)\u001b[0m\n\u001b[0;32m      3\u001b[0m \u001b[38;5;28;01mif\u001b[39;00m \u001b[38;5;28mlen\u001b[39m(stack)\u001b[38;5;241m==\u001b[39m\u001b[38;5;241m0\u001b[39m:\n\u001b[0;32m      4\u001b[0m     \u001b[38;5;28;01mreturn\u001b[39;00m stack\u001b[38;5;241m.\u001b[39mappend(temp)\n\u001b[1;32m----> 5\u001b[0m stack \u001b[38;5;241m=\u001b[39m \u001b[43mreverse_stack\u001b[49m\u001b[43m(\u001b[49m\u001b[43mstack\u001b[49m\u001b[43m,\u001b[49m\u001b[43m \u001b[49m\u001b[43mstack\u001b[49m\u001b[38;5;241;43m.\u001b[39;49m\u001b[43mpop\u001b[49m\u001b[43m(\u001b[49m\u001b[43m)\u001b[49m\u001b[43m)\u001b[49m\n\u001b[0;32m      6\u001b[0m stack\u001b[38;5;241m.\u001b[39mappend(temp)\n\u001b[0;32m      7\u001b[0m \u001b[38;5;28;01mreturn\u001b[39;00m stack\n",
      "Input \u001b[1;32mIn [26]\u001b[0m, in \u001b[0;36mreverse_stack\u001b[1;34m(stack, temp)\u001b[0m\n\u001b[0;32m      4\u001b[0m     \u001b[38;5;28;01mreturn\u001b[39;00m stack\u001b[38;5;241m.\u001b[39mappend(temp)\n\u001b[0;32m      5\u001b[0m stack \u001b[38;5;241m=\u001b[39m reverse_stack(stack, stack\u001b[38;5;241m.\u001b[39mpop())\n\u001b[1;32m----> 6\u001b[0m \u001b[43mstack\u001b[49m\u001b[38;5;241;43m.\u001b[39;49m\u001b[43mappend\u001b[49m(temp)\n\u001b[0;32m      7\u001b[0m \u001b[38;5;28;01mreturn\u001b[39;00m stack\n",
      "\u001b[1;31mAttributeError\u001b[0m: 'NoneType' object has no attribute 'append'"
     ]
    }
   ],
   "source": [
    "# revering a stack using recursion\n",
    "def reverse_stack(stack, temp):\n",
    "    if len(stack)==0:\n",
    "        return stack.append(temp)\n",
    "    stack = reverse_stack(stack, stack.pop())\n",
    "    stack.append(temp)\n",
    "    return stack\n",
    "    \n",
    "# -----------------------------------------\n",
    "stack = [2,3,4,5,6,7,8,9]\n",
    "t = stack.pop()\n",
    "reverse_stack(stack, t)"
   ]
  },
  {
   "cell_type": "code",
   "execution_count": 7,
   "id": "0e0f16a4",
   "metadata": {},
   "outputs": [
    {
     "data": {
      "text/plain": [
       "1"
      ]
     },
     "execution_count": 7,
     "metadata": {},
     "output_type": "execute_result"
    }
   ],
   "source": [
    "# kth symbol in grammer\n",
    "# 0 --> 01\n",
    "# 1 --> 10\n",
    "# ------------------------------\n",
    "# n = 1 : 0\n",
    "# n = 2 : 0 1\n",
    "# n = 3 : 0 1 1 0\n",
    "# n = 4 : 0 1 1 0 1 0 0 1\n",
    "# ------------------------------\n",
    "def invert(d):\n",
    "    return 1 if d==0 else 0\n",
    "\n",
    "def solve(n, k):\n",
    "    if n==1 and k==1:\n",
    "        return 0\n",
    "    mid = 2**(n-1) // 2\n",
    "    if k <= mid:\n",
    "        return solve(n-1, k)\n",
    "    else:\n",
    "        return invert(solve(n-1, k-mid))\n",
    "    \n",
    "# --------------------------------\n",
    "n, k = 4, 8\n",
    "solve(n, k)"
   ]
  },
  {
   "cell_type": "code",
   "execution_count": null,
   "id": "95a3dd01",
   "metadata": {},
   "outputs": [],
   "source": []
  }
 ],
 "metadata": {
  "kernelspec": {
   "display_name": "Python 3 (ipykernel)",
   "language": "python",
   "name": "python3"
  },
  "language_info": {
   "codemirror_mode": {
    "name": "ipython",
    "version": 3
   },
   "file_extension": ".py",
   "mimetype": "text/x-python",
   "name": "python",
   "nbconvert_exporter": "python",
   "pygments_lexer": "ipython3",
   "version": "3.10.1"
  }
 },
 "nbformat": 4,
 "nbformat_minor": 5
}

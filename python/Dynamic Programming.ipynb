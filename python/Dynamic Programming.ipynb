{
 "cells": [
  {
   "cell_type": "markdown",
   "id": "6c39ace3",
   "metadata": {},
   "source": [
    "## 01 - Knapsack"
   ]
  },
  {
   "cell_type": "code",
   "execution_count": 161,
   "id": "1952a286",
   "metadata": {},
   "outputs": [],
   "source": [
    "# 0-1 knapsack  (Recursive)\n",
    "def KS_r(n, W, p, w):\n",
    "    if n==0 or W==0:\n",
    "        return 0\n",
    "    else:\n",
    "        if w[n-1]<=W:\n",
    "            return max(p[n-1]+KS_r(n-1, W-w[n-1], p, w), KS_r(n-1, W, p, w))\n",
    "        else:\n",
    "            return KS_r(p, w, W, n-1)"
   ]
  },
  {
   "cell_type": "code",
   "execution_count": 162,
   "id": "17c9f5a1",
   "metadata": {},
   "outputs": [],
   "source": [
    "# 0-1 knapsack with memoization  (Recursive + table) (Top Down)\n",
    "def KSm(p, w, W, n):\n",
    "    global t\n",
    "    if n==0 or W==0:\n",
    "        return 0\n",
    "    if t[n][W] != -1:\n",
    "        return t[n][W] \n",
    "    else:\n",
    "        if w[n-1]<=W:\n",
    "            t[n][W] =  max(p[n-1]+KSm(p, w, W-w[n-1], n-1), KSm(p, w, W, n-1))\n",
    "            return t[n][W]\n",
    "        else:\n",
    "            t[n][W] = KSm(p, w, W, n-1)\n",
    "            return t[n][W]"
   ]
  },
  {
   "cell_type": "code",
   "execution_count": 163,
   "id": "f059787c",
   "metadata": {},
   "outputs": [],
   "source": [
    "# 0-1 knapsack DP (Bottom Up)\n",
    "def kd_dp(p, w, W, n):\n",
    "    table = [[0 for i in range(W + 1)] for j in range(n + 1)]\n",
    "    for i in range(1, n+1):\n",
    "        for j in range(1, W+1):\n",
    "            if w[i-1]<=j:\n",
    "                table[i][j] = max(p[i-1]+table[i-1][j-w[i-1]], table[i-1][j])\n",
    "            else:\n",
    "                table[i][j] = table[i-1][j]\n",
    "    return table[-1][-1]"
   ]
  },
  {
   "cell_type": "code",
   "execution_count": 164,
   "id": "2cd8a361",
   "metadata": {},
   "outputs": [
    {
     "name": "stdout",
     "output_type": "stream",
     "text": [
      "1024 1024 1024\n"
     ]
    }
   ],
   "source": [
    "# =============================================================\n",
    "# profit = [60, 100, 120]\n",
    "# weight = [10, 20, 30]\n",
    "# W = 35\n",
    "# --------------------------------------\n",
    "# profit = [55, 10, 47, 5,4,50,8,61,85,87]\n",
    "# weight = [95,4,60,32,23,72,80,62,65,46]\n",
    "# W = 269\n",
    "# --------------------------------------\n",
    "profit = [44,46,90,72,91,40,75,35,8,54,78,40,77,15,61,17,75,29,75,63]\n",
    "weight = [92,4,43,83,84,68,92,82,6,44,32,18,56,83,25,96,70,48,14,58]\n",
    "W = 878\n",
    "# --------------------------------------\n",
    "# profit = [20, 5, 10, 40, 15, 25]\n",
    "# weight = [ 1, 2, 3, 8, 7, 4 ]\n",
    "# W = 10\n",
    "# ---------------------------------------\n",
    "n = len(profit)\n",
    "t = [[-1 for i in range(W + 1)] for j in range(n + 1)]\n",
    "\n",
    "k = KS_r(profit, weight, W, n)\n",
    "k1 = KSm(profit, weight, W, n)\n",
    "k2 = kd_dp(profit, weight, W, n)\n",
    "\n",
    "print(k, k1, k2)"
   ]
  },
  {
   "cell_type": "code",
   "execution_count": 7,
   "id": "aecf09f6",
   "metadata": {},
   "outputs": [
    {
     "name": "stdout",
     "output_type": "stream",
     "text": [
      "1024\n"
     ]
    }
   ],
   "source": [
    "# 0-1 knapsack recursive\n",
    "def ksack(n, W):\n",
    "    global w\n",
    "    global p\n",
    "    if n==0 or W==0:\n",
    "        return 0\n",
    "    elif w[n-1]<=W:\n",
    "        return max(p[n-1]+ksack(n-1, W-w[n-1]), ksack(n-1, W))\n",
    "    else:\n",
    "        return ksack(n-1, W)\n",
    "# ---------------------------------------------------------------------\n",
    "# knapsack DP\n",
    "def ksack_dp(n, W):\n",
    "    global w\n",
    "    global p\n",
    "    table = [[0 for i in range(W + 1)] for j in range(n + 1)]\n",
    "    for i in range(1, n+1):\n",
    "        for j in range(1, W+1):\n",
    "            if w[i-1]<=j:\n",
    "                table[i][j] = max(p[i-1]+table[i-1][j-w[i-1]], table[i-1][j])\n",
    "            else:\n",
    "                table[i][j] = table[i-1][j]\n",
    "    return table[-1][-1]\n",
    "# -------------------------------------------------------------------------\n",
    "\n",
    "p = [44,46,90,72,91,40,75,35,8,54,78,40,77,15,61,17,75,29,75,63]\n",
    "w = [92,4,43,83,84,68,92,82,6,44,32,18,56,83,25,96,70,48,14,58]\n",
    "W = 878\n",
    "n = len(p)\n",
    "# print(ksack(n, W))\n",
    "print(ksack_dp(n, W))"
   ]
  },
  {
   "cell_type": "markdown",
   "id": "422f3af7",
   "metadata": {},
   "source": [
    "### 02 - Subset Sum"
   ]
  },
  {
   "cell_type": "code",
   "execution_count": 118,
   "id": "a4678abb",
   "metadata": {},
   "outputs": [],
   "source": [
    "# Subset sum Recursive\n",
    "def SS_r(i:int, S:int, arr) -> bool:\n",
    "    if i == 0:\n",
    "        return False\n",
    "    if S == 0:\n",
    "        return True\n",
    "    if arr[i-1] <= S:\n",
    "        return SS_r(i-1, S-arr[i-1], arr) | SS_r(i-1, S, arr)\n",
    "    else:\n",
    "        return SS_r(i-1, S, arr)\n"
   ]
  },
  {
   "cell_type": "code",
   "execution_count": 119,
   "id": "cb1f749e",
   "metadata": {},
   "outputs": [
    {
     "name": "stdout",
     "output_type": "stream",
     "text": [
      "True\n",
      "True\n"
     ]
    }
   ],
   "source": [
    "# Subset sum problem (DP)\n",
    "def SS_dp(n:int, W:int, arr) -> bool:\n",
    "    table = [[-1 for i in range(W + 1)] for j in range(n + 1)]\n",
    "    for i in range(n+1):\n",
    "        for j in range(W+1):\n",
    "            if i == 0:\n",
    "                table[i][j] = False\n",
    "            if j == 0:\n",
    "                table[i][j] = True\n",
    "    for i in range(1, n+1):\n",
    "        for j in range(1, W+1):\n",
    "            if arr[i-1] <= j:\n",
    "                table[i][j] = table[i-1][j-arr[i-1]] | table[i-1][j]\n",
    "            else:\n",
    "                table[i][j] = table[i-1][j]\n",
    "    return table[-1][-1]\n",
    "# ==========================================================\n",
    "arr = [2,3,7,8,10]\n",
    "W = 13\n",
    "n = len(arr)\n",
    "print(SS_dp(n, W, arr))\n",
    "print(SS_r(n, W, arr))"
   ]
  },
  {
   "cell_type": "markdown",
   "id": "29e0bf3b",
   "metadata": {},
   "source": [
    "### 03 - Equal Sum partition"
   ]
  },
  {
   "cell_type": "code",
   "execution_count": 122,
   "id": "4227eb80",
   "metadata": {},
   "outputs": [
    {
     "name": "stdout",
     "output_type": "stream",
     "text": [
      "True\n"
     ]
    }
   ],
   "source": [
    "def ESP(arr) -> bool:\n",
    "    if sum(arr)%2==1:\n",
    "        return False\n",
    "    W = sum(arr)//2\n",
    "    return SS_dp(len(arr), W, arr)\n",
    "# ==========================================\n",
    "arr = [2,3,7,8,10]\n",
    "print(ESP(arr))"
   ]
  },
  {
   "cell_type": "markdown",
   "id": "d4d3aceb",
   "metadata": {},
   "source": [
    "### 04 - Count of subset sum"
   ]
  },
  {
   "cell_type": "code",
   "execution_count": 169,
   "id": "ae8c96f9",
   "metadata": {},
   "outputs": [
    {
     "name": "stdout",
     "output_type": "stream",
     "text": [
      "3\n"
     ]
    }
   ],
   "source": [
    "def CSS_dp(n, W, arr):\n",
    "    table = [[-1 for i in range(W+1)] for j in range(n+1)]\n",
    "    for i in range(n+1):\n",
    "        for j in range(W+1):\n",
    "            if i==0:\n",
    "                table[i][j]=0\n",
    "            if j==0:\n",
    "                table[i][j]=1\n",
    "    for i in range(1, n+1):\n",
    "        for j in range(1, W+1):\n",
    "            if arr[i-1]<=j:\n",
    "                table[i][j] = table[i-1][j-arr[i-1]] + table[i-1][j]\n",
    "            else:\n",
    "                table[i][j] = table[i-1][j]\n",
    "    return table[-1][-1]\n",
    "\n",
    "# ==========================================\n",
    "arr = [2,3,7,8,10]\n",
    "W = 10\n",
    "n = len(arr)\n",
    "print(CSS_dp(n, W, arr))"
   ]
  },
  {
   "cell_type": "markdown",
   "id": "b0b67718",
   "metadata": {},
   "source": [
    "### 05 - Minimum Subset Sum Difference\n",
    "dividing the given subset such into s1, s2 such that abs(s1-s2) is minimum"
   ]
  },
  {
   "cell_type": "code",
   "execution_count": 1,
   "id": "d81840d1",
   "metadata": {},
   "outputs": [
    {
     "name": "stdout",
     "output_type": "stream",
     "text": [
      "1\n"
     ]
    }
   ],
   "source": [
    "def mSS(arr):\n",
    "    n, W = len(arr), sum(arr)\n",
    "    table = [[-1 for i in range(W + 1)] for j in range(n + 1)]\n",
    "    for i in range(n+1):\n",
    "        for j in range(W+1):\n",
    "            if i == 0:\n",
    "                table[i][j]=False\n",
    "            if j == 0:\n",
    "                table[i][j]=True\n",
    "    for i in range(1, n+1):\n",
    "        for j in range(1, W+1):\n",
    "            if arr[i-1]<=j:\n",
    "                table[i][j] = table[i-1][j-arr[i-1]] | table[i-1][j]\n",
    "            else:\n",
    "                table[i][j] = table[i-1][j]\n",
    "    mini = W\n",
    "    for k in range(W//2+1):\n",
    "        if table[-1][k]:\n",
    "            mini = min(mini, W-2*k)\n",
    "    return mini\n",
    "\n",
    "# ===========================================\n",
    "arr = [2,3,7,8,10,5]\n",
    "print(mSS(arr))"
   ]
  },
  {
   "cell_type": "markdown",
   "id": "d7f3a0a8",
   "metadata": {},
   "source": [
    "### 06 - Count the number of subset with a given difference"
   ]
  },
  {
   "cell_type": "code",
   "execution_count": 203,
   "id": "14a893ea",
   "metadata": {},
   "outputs": [
    {
     "name": "stdout",
     "output_type": "stream",
     "text": [
      "3\n"
     ]
    }
   ],
   "source": [
    "# arr = [2,3,7,8,10,5]\n",
    "arr = [1,1,2,3]\n",
    "diff = 1\n",
    "n = len(arr)\n",
    "sum1 = (sum(arr)+diff)//2\n",
    "print(CSS_dp(n, sum1, arr))\n",
    "\n",
    "# S1-S2 = diff      ------(1) and\n",
    "# S1+S2 = sum(arr)  --(2)\n",
    "# solving (1)&(2)\n",
    "# S1 = (sum(arr)+diff)//2"
   ]
  },
  {
   "cell_type": "markdown",
   "id": "12e1164f",
   "metadata": {},
   "source": [
    "### 07 - Target Sum"
   ]
  },
  {
   "cell_type": "code",
   "execution_count": null,
   "id": "8eeb9bab",
   "metadata": {},
   "outputs": [],
   "source": [
    "# it is nothing but count the number of subset with a given difference"
   ]
  },
  {
   "cell_type": "markdown",
   "id": "007b1d95",
   "metadata": {},
   "source": [
    "### Unbounded Knapsack"
   ]
  },
  {
   "cell_type": "code",
   "execution_count": 15,
   "id": "fca6cdbe",
   "metadata": {},
   "outputs": [
    {
     "data": {
      "text/plain": [
       "230"
      ]
     },
     "execution_count": 15,
     "metadata": {},
     "output_type": "execute_result"
    }
   ],
   "source": [
    "def unbounded_ks_dp(n, W):\n",
    "    global w\n",
    "    global p\n",
    "    table = [[0 for i in range(W+1)] for j in range(n+1)]\n",
    "    for i in range(1, n+1):\n",
    "        for j in range(1, W+1):\n",
    "            if w[i-1]<=j:\n",
    "                table[i][j] = max(p[i-1]+table[i][j-w[i-1]], table[i-1][j])\n",
    "            else:\n",
    "                table[i][j] = table[i-1][j]\n",
    "    return table[-1][-1]\n",
    "\n",
    "p = [44,46,90,72,91,40,75,35,8,54,78,40,77,15,61,17,75,29,75,63]\n",
    "w = [92,4,43,83,84,68,92,82,6,44,32,18,56,83,25,96,70,48,14,58]\n",
    "W = 20\n",
    "n = len(p)\n",
    "\n",
    "unbounded_ks_dp(n, W)"
   ]
  },
  {
   "cell_type": "markdown",
   "id": "4219f818",
   "metadata": {},
   "source": [
    "### Rod Cutting problem\n",
    "it is same as unbounded knapsack problem asked in a different way"
   ]
  },
  {
   "cell_type": "code",
   "execution_count": 17,
   "id": "16c2cf57",
   "metadata": {},
   "outputs": [
    {
     "data": {
      "text/plain": [
       "880"
      ]
     },
     "execution_count": 17,
     "metadata": {},
     "output_type": "execute_result"
    }
   ],
   "source": [
    "value = [44,46,90,72,91,40,75,35,8,54,78,40,77,15,61,17,75,29,75,63]\n",
    "N = 20\n",
    "length = list(range(1, N+1))\n",
    "\n",
    "w, p = length, value\n",
    "n, W = N, N\n",
    "unbounded_ks_dp(n, W)"
   ]
  },
  {
   "cell_type": "markdown",
   "id": "58fccffb",
   "metadata": {},
   "source": [
    "### Coin change problem Maximum number of ways"
   ]
  },
  {
   "cell_type": "code",
   "execution_count": 36,
   "id": "fa5bc8b7",
   "metadata": {},
   "outputs": [
    {
     "data": {
      "text/plain": [
       "5"
      ]
     },
     "execution_count": 36,
     "metadata": {},
     "output_type": "execute_result"
    }
   ],
   "source": [
    "def count_unbounded_ks_dp(n, W):\n",
    "    global w\n",
    "    table = [[0 for i in range(W+1)] for j in range(n+1)]\n",
    "    for i in range(n+1):\n",
    "        for j in range(W+1):\n",
    "            if i == 0:\n",
    "                table[i][j] = 0\n",
    "            if j == 0:\n",
    "                table[i][j] = 1\n",
    "    for i in range(1, n+1):\n",
    "        for j in range(1, W+1):\n",
    "            if w[i-1]<=j:\n",
    "                table[i][j] = table[i][j-w[i-1]] + table[i-1][j]\n",
    "            else:\n",
    "                table[i][j] = table[i-1][j]\n",
    "    return table[-1][-1]\n",
    "\n",
    "\n",
    "coin = [1,2,3]\n",
    "summ = 5 \n",
    "\n",
    "w = coin\n",
    "count_unbounded_ks_dp(len(coin), summ)"
   ]
  },
  {
   "cell_type": "markdown",
   "id": "ec92964e",
   "metadata": {},
   "source": [
    "### Coin change problem (minimum number of coins)"
   ]
  },
  {
   "cell_type": "code",
   "execution_count": 20,
   "id": "b15f13a4",
   "metadata": {},
   "outputs": [
    {
     "data": {
      "text/plain": [
       "2"
      ]
     },
     "execution_count": 20,
     "metadata": {},
     "output_type": "execute_result"
    }
   ],
   "source": [
    "def min_coin_change(n, W):\n",
    "    global coin\n",
    "    table = [[0 for i in range(W+1)] for j in range(n+1)]\n",
    "    for i in range(n+1):\n",
    "        for j in range(W+1):\n",
    "            if i==0:\n",
    "                table[i][j] = float('inf')\n",
    "            if i==1:\n",
    "                if j%coin[0]==1:\n",
    "                    table[i][j] = float('inf')\n",
    "    for i in range(1, n+1):\n",
    "        for j in range(1, W+1):\n",
    "            if coin[i-1]<=j:\n",
    "                table[i][j] = min(table[i][j-coin[i-1]]+1, table[i-1][j])\n",
    "            else:\n",
    "                table[i][j] = table[i-1][j]\n",
    "    return table[-1][-1]\n",
    "coin = [1, 2, 3, 4]\n",
    "sums = 5\n",
    "\n",
    "min_coin_change(len(coin), sums)"
   ]
  },
  {
   "cell_type": "markdown",
   "id": "7e5c0c3d",
   "metadata": {},
   "source": [
    "## Longest Common Subsequence (LCS)\n",
    "Recursive, \n",
    "Bottomup (Memoization), \n",
    "Topdown (DP)"
   ]
  },
  {
   "cell_type": "code",
   "execution_count": 77,
   "id": "24ee5eb2",
   "metadata": {},
   "outputs": [
    {
     "name": "stdout",
     "output_type": "stream",
     "text": [
      "4\n",
      "4\n",
      "4\n"
     ]
    }
   ],
   "source": [
    "# length of longest common subsequence\n",
    "def LCS_r(x, y, m, n):\n",
    "    if m==0 or n==0:\n",
    "        return 0\n",
    "    if x[m-1]==y[n-1]:\n",
    "        return 1 + LCS_r(x, y, m-1, n-1)\n",
    "    else:\n",
    "        return max( LCS_r(x, y, m, n-1), LCS_r(x, y, m-1, n) )\n",
    "# ---------------------------------------------------------------------\n",
    "def LCS_m(x:str, y:str, m:int, n:int) -> int:\n",
    "    global t\n",
    "    if m==0 or n==0:\n",
    "        return 0\n",
    "    if t[m][n] != -1:\n",
    "        return t[m][n]\n",
    "    if x[m-1]==y[n-1]:\n",
    "        t[m][n] = 1 + LCS_m(x, y, m-1, n-1)\n",
    "        return t[m][n]\n",
    "    else:\n",
    "        t[m][n] = max(LCS_m(x, y, m-1, n), LCS_m(x, y, m, n-1))\n",
    "        return t[m][n]\n",
    "# --------------------------------------------------------------\n",
    "def LCS_dp(x, y, m, n)->int:\n",
    "    table = [[0 for i in range(n+1)] for j in range(m+1)]\n",
    "    for i in range(1, m+1):\n",
    "        for j in range(1, n+1):\n",
    "            if x[i-1]==y[j-1]:\n",
    "                table[i][j] = 1 + table[i-1][j-1]\n",
    "            else:\n",
    "                table[i][j] = max(table[i-1][j], table[i][j-1])\n",
    "    return table[-1][-1]\n",
    "# -----------------------------------------------------------\n",
    "x = 'nehalm'\n",
    "y = 'ehlkm'\n",
    "m, n = len(x), len(y)\n",
    "print(LCS_r(x, y, m, n))\n",
    "\n",
    "t = [[-1 for i in range(n+1)] for j in range(m+1)]\n",
    "print(LCS_m(x, y, m, n))\n",
    "\n",
    "print(LCS_dp(x, y, m, n))"
   ]
  },
  {
   "cell_type": "markdown",
   "id": "137faf31",
   "metadata": {},
   "source": [
    "### Longest Common Substring"
   ]
  },
  {
   "cell_type": "code",
   "execution_count": 78,
   "id": "b855e96b",
   "metadata": {},
   "outputs": [
    {
     "data": {
      "text/plain": [
       "4"
      ]
     },
     "execution_count": 78,
     "metadata": {},
     "output_type": "execute_result"
    }
   ],
   "source": [
    "def LCSubstring_dp(x:str, y:str, m:int, n:int) ->int:\n",
    "    table = [[0 for i in range(n+1)] for j in range(m+1)]\n",
    "    sub_str_len = 0\n",
    "    for i in range(1, m+1):\n",
    "        for j in range(1, n+1):\n",
    "            if x[i-1]==y[j-1]:\n",
    "                table[i][j] = 1 + table[i-1][j-1]\n",
    "            else:\n",
    "                table[i][j] = 0\n",
    "    return max([max(r) for r in table])\n",
    "        \n",
    "x = 'nehalmb'\n",
    "y = 'ehalkm'\n",
    "m, n = len(x), len(y)\n",
    "\n",
    "LCSubstring_dp(x, y, m, n)"
   ]
  },
  {
   "cell_type": "code",
   "execution_count": 79,
   "id": "1abc3cc3",
   "metadata": {},
   "outputs": [
    {
     "data": {
      "text/plain": [
       "'ehlm'"
      ]
     },
     "execution_count": 79,
     "metadata": {},
     "output_type": "execute_result"
    }
   ],
   "source": [
    "# printing shortest common subsequence\n",
    "def LCS_dp1(x, y, m, n) -> str:\n",
    "    table = [[0 for i in range(n+1)] for j in range(m+1)]\n",
    "    for i in range(1, m+1):\n",
    "        for j in range(1, n+1):\n",
    "            if x[i-1]==y[j-1]:\n",
    "                table[i][j] = 1 + table[i-1][j-1]\n",
    "            else:\n",
    "                table[i][j] = max(table[i-1][j], table[i][j-1])\n",
    "    i, j = m, n\n",
    "    subsequence = ''\n",
    "    while i>0 and j>0:\n",
    "        if x[i-1]==y[j-1]:\n",
    "            subsequence = x[i-1] + subsequence\n",
    "            i -= 1\n",
    "            j -= 1\n",
    "        elif table[i][j-1] > table[i-1][j]:\n",
    "                j -= 1\n",
    "        else:\n",
    "            i -= 1\n",
    "    return subsequence\n",
    "# ---------------------------------------------------\n",
    "x = 'nehalm'\n",
    "y = 'ehlkm'\n",
    "m, n = len(x), len(y)\n",
    "\n",
    "LCS_dp1(x, y, m, n)"
   ]
  },
  {
   "cell_type": "markdown",
   "id": "5999b2ce",
   "metadata": {},
   "source": [
    "### Shortest Common SuperSequence (SCS)"
   ]
  },
  {
   "cell_type": "code",
   "execution_count": 97,
   "id": "c492a5f7",
   "metadata": {},
   "outputs": [
    {
     "data": {
      "text/plain": [
       "7"
      ]
     },
     "execution_count": 97,
     "metadata": {},
     "output_type": "execute_result"
    }
   ],
   "source": [
    "def SCS_dp(x:str, y:str, m:int, n:int) -> int:\n",
    "    lcs = LCS_dp(x, y, m, n)\n",
    "    return m+n-lcs\n",
    "# -----------------------------------------\n",
    "x = 'nehalm'\n",
    "y = 'ehlkm'\n",
    "m, n = len(x), len(y)\n",
    "SCS_dp(x, y, m, n)"
   ]
  },
  {
   "cell_type": "markdown",
   "id": "1e11a5ca",
   "metadata": {},
   "source": [
    "### Minimum number of insertion and deletion to convert string a to b"
   ]
  },
  {
   "cell_type": "code",
   "execution_count": 85,
   "id": "300c7258",
   "metadata": {},
   "outputs": [
    {
     "data": {
      "text/plain": [
       "3"
      ]
     },
     "execution_count": 85,
     "metadata": {},
     "output_type": "execute_result"
    }
   ],
   "source": [
    "def min_num_of_ins_and_del_to_convert_a_to_b(x:str, y:str, m:int, n:int) -> int:\n",
    "    lcs = LCS_dp(x, y, m, n)\n",
    "    return m+n-2*lcs\n",
    "# -----------------------------------------\n",
    "x = 'nehalm'\n",
    "y = 'ehlkm'\n",
    "m, n = len(x), len(y)\n",
    "min_num_of_ins_and_del_to_convert_a_to_b(x, y, m, n)"
   ]
  },
  {
   "cell_type": "markdown",
   "id": "e9a07883",
   "metadata": {},
   "source": [
    "### Longest Palindromic Subsequence (LPS)"
   ]
  },
  {
   "cell_type": "code",
   "execution_count": 91,
   "id": "48227388",
   "metadata": {},
   "outputs": [
    {
     "data": {
      "text/plain": [
       "5"
      ]
     },
     "execution_count": 91,
     "metadata": {},
     "output_type": "execute_result"
    }
   ],
   "source": [
    "x = 'agbcba'\n",
    "y = x[::-1]\n",
    "m, n = len(x), len(y)\n",
    "LCS_dp(x, y, m, n)"
   ]
  },
  {
   "cell_type": "markdown",
   "id": "853a7a62",
   "metadata": {},
   "source": [
    "### Minimum number of deletion in a string to make it palindrom"
   ]
  },
  {
   "cell_type": "code",
   "execution_count": 92,
   "id": "64413e9c",
   "metadata": {},
   "outputs": [
    {
     "name": "stdout",
     "output_type": "stream",
     "text": [
      "1\n"
     ]
    }
   ],
   "source": [
    "x = 'agbcba'\n",
    "y = x[::-1]\n",
    "m, n = len(x), len(y)\n",
    "lcs = LCS_dp(x, y, m, n)\n",
    "min_del = m-lcs\n",
    "print(min_del)"
   ]
  },
  {
   "cell_type": "code",
   "execution_count": 100,
   "id": "60b4fb00",
   "metadata": {},
   "outputs": [
    {
     "data": {
      "text/plain": [
       "'nehalkm'"
      ]
     },
     "execution_count": 100,
     "metadata": {},
     "output_type": "execute_result"
    }
   ],
   "source": [
    "# print SCS (shortest common supersequence)\n",
    "def SCS_dp1(x, y, m, n) -> str:\n",
    "    table = [[0 for i in range(n+1)] for j in range(m+1)]\n",
    "    for i in range(1, m+1):\n",
    "        for j in range(1, n+1):\n",
    "            if x[i-1]==y[j-1]:\n",
    "                table[i][j] = 1 + table[i-1][j-1]\n",
    "            else:\n",
    "                table[i][j] = max(table[i-1][j], table[i][j-1])\n",
    "    i, j = m, n\n",
    "    subsequence = ''\n",
    "    while i>0 and j>0:\n",
    "        if x[i-1]==y[j-1]:\n",
    "            subsequence = x[i-1] + subsequence\n",
    "            i -= 1\n",
    "            j -= 1\n",
    "        elif table[i][j-1] > table[i-1][j]:\n",
    "            subsequence = y[j-1] + subsequence\n",
    "            j -= 1\n",
    "        else:\n",
    "            subsequence = x[i-1] + subsequence\n",
    "            i -= 1\n",
    "    while i>0:\n",
    "        subsequence = x[i-1] + subsequence\n",
    "        i -= 1\n",
    "    while j>0:\n",
    "        subsequence = y[j-1] + subsequence\n",
    "        j -= 1\n",
    "    return subsequence\n",
    "# ---------------------------------------------------\n",
    "x = 'nehalm'\n",
    "y = 'ehlkm'\n",
    "m, n = len(x), len(y)\n",
    "\n",
    "SCS_dp1(x, y, m, n)"
   ]
  },
  {
   "cell_type": "code",
   "execution_count": 105,
   "id": "74208d6e",
   "metadata": {},
   "outputs": [
    {
     "name": "stdout",
     "output_type": "stream",
     "text": [
      "2\n"
     ]
    }
   ],
   "source": [
    "def longest_repeating_subsequence(x, y, m, n) -> int:\n",
    "    table = [[0 for i in range(n+1)] for j in range(m+1)]\n",
    "    for i in range(1, m+1):\n",
    "        for j in range(1, n+1):\n",
    "            if x[i-1]==y[j-1] and i!=j:\n",
    "                table[i][j] = 1 + table[i-1][j-1]\n",
    "            else:\n",
    "                table[i][j] = max(table[i-1][j], table[i][j-1])\n",
    "    return table[-1][-1]\n",
    "# -----------------------------------------------------------\n",
    "x = 'neenhahlm'\n",
    "y = x\n",
    "m, n = len(x), len(y)\n",
    "print(longest_repeating_subsequence(x, y, m, n))"
   ]
  },
  {
   "cell_type": "markdown",
   "id": "5178a447",
   "metadata": {},
   "source": [
    "### Sequence Pattern Matching"
   ]
  },
  {
   "cell_type": "code",
   "execution_count": 123,
   "id": "25b3a3ba",
   "metadata": {},
   "outputs": [
    {
     "data": {
      "text/plain": [
       "True"
      ]
     },
     "execution_count": 123,
     "metadata": {},
     "output_type": "execute_result"
    }
   ],
   "source": [
    "def SPM(x, y, m, n):\n",
    "    lcs = LCS_dp(x, y, m, n)\n",
    "    return lcs == min(m, n)\n",
    "# -------------------------------------------\n",
    "x = 'neenhahlm'\n",
    "y = 'nhahl'\n",
    "m, n = len(x), len(y)\n",
    "SPM(x, y, m, n)"
   ]
  },
  {
   "cell_type": "markdown",
   "id": "3a2fb918",
   "metadata": {},
   "source": [
    "## Matrix Chain Multiplication (MCM)"
   ]
  },
  {
   "cell_type": "code",
   "execution_count": 3,
   "id": "93ed766c",
   "metadata": {},
   "outputs": [
    {
     "data": {
      "text/plain": [
       "26000"
      ]
     },
     "execution_count": 3,
     "metadata": {},
     "output_type": "execute_result"
    }
   ],
   "source": [
    "# Recursive MCM\n",
    "def mcm_r(arr, i, j):\n",
    "    if i >= j:\n",
    "        return 0\n",
    "    mn = float('inf')\n",
    "    for k in range(i, j):\n",
    "        temp = mcm_r(arr, i, k) + mcm_r(arr, k+1, j) + arr[i-1]*arr[k]*arr[j]\n",
    "        mn = min(mn, temp)\n",
    "    return mn\n",
    "\n",
    "# ------------------------------------------\n",
    "arr = [40, 20, 30, 10, 30]\n",
    "i, j = 1, len(arr)-1\n",
    "mcm_r(arr, i, j)"
   ]
  },
  {
   "cell_type": "code",
   "execution_count": 11,
   "id": "feacef47",
   "metadata": {},
   "outputs": [
    {
     "data": {
      "text/plain": [
       "26000"
      ]
     },
     "execution_count": 11,
     "metadata": {},
     "output_type": "execute_result"
    }
   ],
   "source": [
    "# MCM with Memoization (TopDpwn)\n",
    "def MCM_m(arr, i, j):\n",
    "    global t\n",
    "    if i >= j:\n",
    "        return 0\n",
    "    if t[i][j] != -1:\n",
    "        return t[i][j]\n",
    "    mn = float('inf')\n",
    "    for k in range(i, j):\n",
    "        temp = MCM_m(arr, i, k) + MCM_m(arr, k+1, j) + arr[i-1]*arr[k]*arr[j]\n",
    "        mn = min(mn, temp)\n",
    "    t[i][j] = mn\n",
    "    return mn\n",
    "\n",
    "# ------------------------------------------\n",
    "arr = [40, 20, 30, 10, 30]\n",
    "i, j = 1, len(arr)-1\n",
    "t = [[-1 for i in range(len(arr))] for j in range(len(arr))]\n",
    "MCM_m(arr, i, j)"
   ]
  },
  {
   "cell_type": "markdown",
   "id": "ba93c411",
   "metadata": {},
   "source": [
    "### Palindrom Partiotining Recursion"
   ]
  },
  {
   "cell_type": "code",
   "execution_count": 16,
   "id": "6d1080ec",
   "metadata": {},
   "outputs": [
    {
     "data": {
      "text/plain": [
       "10"
      ]
     },
     "execution_count": 16,
     "metadata": {},
     "output_type": "execute_result"
    }
   ],
   "source": [
    "def ispalindrom(s, i, j):\n",
    "    palindrom = True\n",
    "    while i<j:\n",
    "        if s[i] == s[j]:\n",
    "            i, j =  i+1, j-1\n",
    "        else:\n",
    "            palindrom = False\n",
    "            break\n",
    "    return palindrom\n",
    "\n",
    "def solve(s, i, j):\n",
    "    if i >= j or ispalindrom(s, i, j):\n",
    "        return 0\n",
    "    mn = float('inf')\n",
    "    for k in range(i, j):\n",
    "        temp = 1 + solve(s, i, k) + solve(s, k+1, j)\n",
    "        mn = min(mn, temp)\n",
    "    return mn\n",
    "\n",
    "# -----------------------------------------\n",
    "s = 'nehalahamadansari'\n",
    "i, j = 0, len(s)-1\n",
    "solve(s, i, j)"
   ]
  },
  {
   "cell_type": "code",
   "execution_count": 21,
   "id": "b192d0d8",
   "metadata": {},
   "outputs": [
    {
     "data": {
      "text/plain": [
       "10"
      ]
     },
     "execution_count": 21,
     "metadata": {},
     "output_type": "execute_result"
    }
   ],
   "source": [
    "# Palindrom Partition Memoization\n",
    "def ispalindrom(s, i, j):\n",
    "    palindrom = True\n",
    "    while i<j:\n",
    "        if s[i] == s[j]:\n",
    "            i, j =  i+1, j-1\n",
    "        else:\n",
    "            palindrom = False\n",
    "            break\n",
    "    return palindrom\n",
    "\n",
    "def solve(s, i, j):\n",
    "    if i >= j or ispalindrom(s, i, j):\n",
    "        return 0\n",
    "    mn = float('inf')\n",
    "    global t\n",
    "    if t[i][j] != -1:\n",
    "        return t[i][j]\n",
    "    for k in range(i, j):\n",
    "        sol1 = t[i][k] if t[i][k] != -1 else solve(s, i, k)\n",
    "        sol2 = t[k+1][j] if t[k+1][j] != -1 else solve(s, k+1, j)\n",
    "        temp = 1 + sol1 + sol2\n",
    "#         temp = 1 + solve(s, i, k) + solve(s, k+1, j)\n",
    "        mn = min(mn, temp)\n",
    "    t[i][j] = mn\n",
    "    return mn\n",
    "\n",
    "# -----------------------------------------\n",
    "s = 'nehalahamadansari'\n",
    "i, j = 0, len(s)-1\n",
    "t = [[-1 for i in range(len(s))] for j in range(len(s))]\n",
    "solve(s, i, j)"
   ]
  },
  {
   "cell_type": "code",
   "execution_count": 24,
   "id": "ee037e55",
   "metadata": {},
   "outputs": [
    {
     "data": {
      "text/plain": [
       "False"
      ]
     },
     "execution_count": 24,
     "metadata": {},
     "output_type": "execute_result"
    }
   ],
   "source": [
    "True & False"
   ]
  },
  {
   "cell_type": "code",
   "execution_count": null,
   "id": "5f862591",
   "metadata": {},
   "outputs": [],
   "source": []
  },
  {
   "cell_type": "code",
   "execution_count": null,
   "id": "ee9a258b",
   "metadata": {},
   "outputs": [],
   "source": []
  },
  {
   "cell_type": "code",
   "execution_count": null,
   "id": "1882e85f",
   "metadata": {},
   "outputs": [],
   "source": []
  },
  {
   "cell_type": "code",
   "execution_count": null,
   "id": "28716958",
   "metadata": {},
   "outputs": [],
   "source": []
  }
 ],
 "metadata": {
  "kernelspec": {
   "display_name": "Python 3 (ipykernel)",
   "language": "python",
   "name": "python3"
  },
  "language_info": {
   "codemirror_mode": {
    "name": "ipython",
    "version": 3
   },
   "file_extension": ".py",
   "mimetype": "text/x-python",
   "name": "python",
   "nbconvert_exporter": "python",
   "pygments_lexer": "ipython3",
   "version": "3.10.1"
  }
 },
 "nbformat": 4,
 "nbformat_minor": 5
}

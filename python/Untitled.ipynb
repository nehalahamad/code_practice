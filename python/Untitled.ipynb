{
 "cells": [
  {
   "cell_type": "code",
   "execution_count": 29,
   "id": "fd996584",
   "metadata": {},
   "outputs": [
    {
     "name": "stdout",
     "output_type": "stream",
     "text": [
      "True\n"
     ]
    }
   ],
   "source": [
    "def fun(s):\n",
    "    stack = ['$']\n",
    "    brackets = {')':'(', '}':'{', ']':'['}\n",
    "    for brack in s:\n",
    "        if brack in brackets.values():\n",
    "            stack.append(brack)\n",
    "        else:\n",
    "            if brackets[brack] == stack[-1]:\n",
    "                stack.pop()\n",
    "            else:\n",
    "                return False\n",
    "        \n",
    "    return True if len(stack) == 1 else False\n",
    "    \n",
    "# -----------------------\n",
    "s = '(){[]}'\n",
    "print(fun(s))"
   ]
  },
  {
   "cell_type": "code",
   "execution_count": 36,
   "id": "ee0f13fd",
   "metadata": {},
   "outputs": [
    {
     "data": {
      "text/plain": [
       "['((()))', '(()())', '(())()', '()(())', '()()()']"
      ]
     },
     "execution_count": 36,
     "metadata": {},
     "output_type": "execute_result"
    }
   ],
   "source": [
    "from typing import List\n",
    "\n",
    "class Solution:\n",
    "    def generateParenthesis(self, n: int) -> List[str]:\n",
    "        def solve(l, r, s):\n",
    "            if len(s) == 2*n:\n",
    "                res.append(s)\n",
    "            if l < n:\n",
    "                solve(l+1, r , s+'(')\n",
    "            if r < l:\n",
    "                solve(l, r+1, s+')')\n",
    "\n",
    "        res = []\n",
    "        solve(0, 0, '')\n",
    "        return res\n",
    "Solution().generateParenthesis(3)"
   ]
  },
  {
   "cell_type": "code",
   "execution_count": 46,
   "id": "cbe5065e",
   "metadata": {},
   "outputs": [
    {
     "name": "stdout",
     "output_type": "stream",
     "text": [
      " --  --\n",
      " -- () --\n",
      " --  --\n",
      "() --  --\n"
     ]
    },
    {
     "data": {
      "text/plain": [
       "['()()', '(())']"
      ]
     },
     "execution_count": 46,
     "metadata": {},
     "output_type": "execute_result"
    }
   ],
   "source": [
    "from itertools import product\n",
    "\n",
    "class Solution:\n",
    "    def generateParenthesis(self, n):\n",
    "        if n == 0:\n",
    "            return ['']\n",
    "        result = []\n",
    "        for i in range(n):\n",
    "            left_list = self.generateParenthesis(i)\n",
    "            right_list = self.generateParenthesis(n - i - 1)\n",
    "            \n",
    "            for left, right in product(left_list, right_list):\n",
    "                print(left,'--', right, '--')\n",
    "                result.append('({}){}'.format(left, right))\n",
    "        return result\n",
    "Solution().generateParenthesis(2)"
   ]
  },
  {
   "cell_type": "code",
   "execution_count": null,
   "id": "6e0fe7e2",
   "metadata": {},
   "outputs": [],
   "source": []
  },
  {
   "cell_type": "code",
   "execution_count": null,
   "id": "e4e4aba5",
   "metadata": {},
   "outputs": [],
   "source": []
  },
  {
   "cell_type": "code",
   "execution_count": null,
   "id": "44dc3e1b",
   "metadata": {},
   "outputs": [],
   "source": []
  }
 ],
 "metadata": {
  "kernelspec": {
   "display_name": "Python 3 (ipykernel)",
   "language": "python",
   "name": "python3"
  },
  "language_info": {
   "codemirror_mode": {
    "name": "ipython",
    "version": 3
   },
   "file_extension": ".py",
   "mimetype": "text/x-python",
   "name": "python",
   "nbconvert_exporter": "python",
   "pygments_lexer": "ipython3",
   "version": "3.10.1"
  }
 },
 "nbformat": 4,
 "nbformat_minor": 5
}

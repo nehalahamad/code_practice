{
 "cells": [
  {
   "cell_type": "code",
   "execution_count": 20,
   "id": "f2f26caf",
   "metadata": {},
   "outputs": [],
   "source": [
    "from collections import deque"
   ]
  },
  {
   "cell_type": "code",
   "execution_count": 30,
   "id": "b8f6c520",
   "metadata": {},
   "outputs": [],
   "source": [
    "# deque is uesed to implement stack in python (inside doubly linkedlist)\n",
    "stack = deque()\n",
    "stack.append('a')\n",
    "stack.append('b')\n",
    "stack.append('c')"
   ]
  },
  {
   "cell_type": "code",
   "execution_count": 32,
   "id": "b626c073",
   "metadata": {},
   "outputs": [
    {
     "name": "stdout",
     "output_type": "stream",
     "text": [
      "deque(['a', 'b', 'c'])\n"
     ]
    }
   ],
   "source": [
    "print((stack))"
   ]
  },
  {
   "cell_type": "code",
   "execution_count": 35,
   "id": "0b6850ee",
   "metadata": {},
   "outputs": [],
   "source": [
    "# print(dir(stack))"
   ]
  },
  {
   "cell_type": "code",
   "execution_count": 33,
   "id": "5ea23034",
   "metadata": {},
   "outputs": [
    {
     "data": {
      "text/plain": [
       "3"
      ]
     },
     "execution_count": 33,
     "metadata": {},
     "output_type": "execute_result"
    }
   ],
   "source": [
    "len(stack)"
   ]
  },
  {
   "cell_type": "code",
   "execution_count": 7,
   "id": "6abc836b",
   "metadata": {},
   "outputs": [],
   "source": [
    "class Stack:\n",
    "    def __init__(self):\n",
    "        self.container = deque()\n",
    "    def push(self, val):\n",
    "        self.container.append(val)\n",
    "    def pop(self):\n",
    "        return self.container.pop()\n",
    "    def peek(self):\n",
    "        return self.container[-1]\n",
    "    def is_empty(self):\n",
    "        return len(self.container) == 0\n",
    "    def size(self):\n",
    "        return len(self.container)"
   ]
  },
  {
   "cell_type": "code",
   "execution_count": 36,
   "id": "1126ccc6",
   "metadata": {
    "scrolled": false
   },
   "outputs": [],
   "source": [
    "class Queue:\n",
    "    def __init__(self):\n",
    "        self.buffer = deque()\n",
    "    def enqueue(self, val):\n",
    "        self.buffer.appendleft(val)\n",
    "    def dequeue(self):\n",
    "        return self.buffer.pop()\n",
    "    def is_empty(self):\n",
    "        return len(self.buffer) == 0\n",
    "    def size(self):\n",
    "        return len(self.buffer)"
   ]
  },
  {
   "cell_type": "code",
   "execution_count": 39,
   "id": "e6013400",
   "metadata": {},
   "outputs": [
    {
     "name": "stdout",
     "output_type": "stream",
     "text": [
      "deque(['d', 'c', 'b', 'a'])\n",
      "deque(['d', 'c', 'b'])\n"
     ]
    }
   ],
   "source": [
    "que = Queue()\n",
    "que.enqueue('a')\n",
    "que.enqueue('b')\n",
    "que.enqueue('c')\n",
    "que.enqueue('d')\n",
    "\n",
    "print(que.buffer)\n",
    "\n",
    "que.dequeue()\n",
    "\n",
    "print(que.buffer)"
   ]
  },
  {
   "cell_type": "code",
   "execution_count": null,
   "id": "3cb6c58b",
   "metadata": {},
   "outputs": [],
   "source": []
  },
  {
   "cell_type": "code",
   "execution_count": null,
   "id": "934613c8",
   "metadata": {},
   "outputs": [],
   "source": []
  }
 ],
 "metadata": {
  "kernelspec": {
   "display_name": "Python 3 (ipykernel)",
   "language": "python",
   "name": "python3"
  },
  "language_info": {
   "codemirror_mode": {
    "name": "ipython",
    "version": 3
   },
   "file_extension": ".py",
   "mimetype": "text/x-python",
   "name": "python",
   "nbconvert_exporter": "python",
   "pygments_lexer": "ipython3",
   "version": "3.10.1"
  }
 },
 "nbformat": 4,
 "nbformat_minor": 5
}

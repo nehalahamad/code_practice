{
 "cells": [
  {
   "cell_type": "markdown",
   "id": "daf19616",
   "metadata": {},
   "source": [
    "### Linked List"
   ]
  },
  {
   "cell_type": "code",
   "execution_count": 1,
   "id": "67e69cec",
   "metadata": {},
   "outputs": [
    {
     "name": "stdout",
     "output_type": "stream",
     "text": [
      "Linkedlist is empty\n"
     ]
    }
   ],
   "source": [
    "class Node:\n",
    "    def __init__(self, data=None, next=None):\n",
    "        self.data = data\n",
    "        self.next = next\n",
    "        \n",
    "class LinkedList:\n",
    "    def __init__(self):\n",
    "        self.head = None\n",
    "        \n",
    "    def insert_at_begining(self, data):\n",
    "        node = Node(data, self.head)\n",
    "        self.head = node\n",
    "        \n",
    "    def insert_at_end(self, data):\n",
    "        if self.head is None:\n",
    "            self.head = Node(data)\n",
    "            return\n",
    "        itr = self.head\n",
    "        while itr.next:\n",
    "            itr = itr.next\n",
    "        itr.next = Node(data)\n",
    "        \n",
    "    def insert_values(self, data_list):\n",
    "        for item in data_list:\n",
    "            self.insert_at_end(item)\n",
    "    \n",
    "    def get_length(self):\n",
    "        count = 0\n",
    "        itr = self.head\n",
    "        while itr:\n",
    "            count += 1\n",
    "            itr = itr.next\n",
    "        return count\n",
    "    \n",
    "    def remove_at(self, index):\n",
    "        if index < 0  or index >= self.get_length():\n",
    "            raise Exception('Invalid Index')\n",
    "        if index == 0:\n",
    "            self.head = self.head.next\n",
    "            return\n",
    "        count = 0\n",
    "        itr = self.head\n",
    "        while itr:\n",
    "            if count == index -1:\n",
    "                itr.next = itr.next.next\n",
    "                return\n",
    "            itr = itr.next\n",
    "            count += 1\n",
    "        \n",
    "    def insert_at(self, index, data):\n",
    "        if index < 0  or index >= self.get_length():\n",
    "            raise Exception('Invalid Index')\n",
    "        if index == 0:\n",
    "            self.insert_at_begining(data)\n",
    "            return\n",
    "        count = 0\n",
    "        itr = self.head\n",
    "        while itr:\n",
    "            if count == index - 1:\n",
    "                node = Node(data, itr.next)\n",
    "                itr.next = node\n",
    "                break\n",
    "                \n",
    "            itr = itr.next\n",
    "            count += 1\n",
    "            \n",
    "    def insert_after_value(self, data_after, data_to_insert):\n",
    "        if self.head is None:\n",
    "            raise Exception('Empty Linkedlist')\n",
    "        itr = self.head\n",
    "        while itr:\n",
    "            if itr.data == data_after:\n",
    "                node = Node(data_to_insert, itr.next)\n",
    "                itr.next = node\n",
    "                break\n",
    "            itr = itr.next\n",
    "        if itr is None:\n",
    "            print(f'value {data_after}, does not exist')\n",
    "    \n",
    "    def remove_by_value(self, data):\n",
    "        if self.head is None:\n",
    "            raise Exception('Empty Linkedlist')\n",
    "        if self.head.data == data:\n",
    "            self.head = None\n",
    "        itr = self.head\n",
    "        while itr.next:\n",
    "            if itr.next.data == data:\n",
    "                itr.next = itr.next.next\n",
    "                break\n",
    "            itr = itr.next\n",
    "                \n",
    "#     ----------------\n",
    "    def print(self):\n",
    "        if self.head is None:\n",
    "            print('Linkedlist is empty')\n",
    "            return\n",
    "        itr = self.head\n",
    "        listr = ''\n",
    "        while itr:\n",
    "            listr += str(itr.data) + '-->'\n",
    "            itr = itr.next\n",
    "        print(listr)\n",
    "        \n",
    "if __name__ == \"__main__\":\n",
    "    ll = LinkedList()\n",
    "    # ll.insert_at_begining(5)\n",
    "    # ll.insert_at_begining(3)\n",
    "    # ll.insert_values([33, 44, 55])\n",
    "    # ll.insert_values(['sun', 'mon', 'tue'])\n",
    "    # ll.print()\n",
    "    # print(ll.get_length())\n",
    "    # ll.remove_at(3)\n",
    "    # ll.insert_at(4, 'sat')\n",
    "    # ll.insert_after_value(55, 77)\n",
    "    # ll.insert_after_value('tue', 'wed')\n",
    "    # ll.insert_after_value(88, 99)\n",
    "    # ll.remove_by_value('sat')\n",
    "    # ll.remove_by_value(33)\n",
    "    ll.print()"
   ]
  },
  {
   "cell_type": "markdown",
   "id": "bd22cec3",
   "metadata": {},
   "source": [
    "## Tree"
   ]
  },
  {
   "cell_type": "code",
   "execution_count": 41,
   "id": "e97141d1",
   "metadata": {},
   "outputs": [
    {
     "data": {
      "text/plain": [
       "True"
      ]
     },
     "execution_count": 41,
     "metadata": {},
     "output_type": "execute_result"
    }
   ],
   "source": [
    "a = [6]\n",
    "a is not list"
   ]
  },
  {
   "cell_type": "code",
   "execution_count": 42,
   "id": "6e423255",
   "metadata": {},
   "outputs": [
    {
     "name": "stdout",
     "output_type": "stream",
     "text": [
      "144\n"
     ]
    }
   ],
   "source": [
    "a = '12'\n",
    "b = '12'\n",
    "print(str(eval(f'{a}*{b}')))"
   ]
  },
  {
   "cell_type": "code",
   "execution_count": null,
   "id": "72f12ab4",
   "metadata": {},
   "outputs": [],
   "source": []
  }
 ],
 "metadata": {
  "kernelspec": {
   "display_name": "Python 3 (ipykernel)",
   "language": "python",
   "name": "python3"
  },
  "language_info": {
   "codemirror_mode": {
    "name": "ipython",
    "version": 3
   },
   "file_extension": ".py",
   "mimetype": "text/x-python",
   "name": "python",
   "nbconvert_exporter": "python",
   "pygments_lexer": "ipython3",
   "version": "3.10.1"
  }
 },
 "nbformat": 4,
 "nbformat_minor": 5
}

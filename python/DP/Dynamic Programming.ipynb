{
 "cells": [
  {
   "cell_type": "code",
   "execution_count": 70,
   "id": "db226fd2-a9c9-4723-9ef9-03cba1056c80",
   "metadata": {},
   "outputs": [],
   "source": [
    "# Types of DP\n",
    "# 01 - 0/1 Knapsack (subsetsum, equal sum partition, count of subsetsum, minimum subsetsum diff, target sum, number of subsetsum with given diff)\n",
    "# 02 - Unbounded Knapsack\n",
    "# 03 - Longest Common Subsequene (LCS)\n",
    "# 04 - LIS\n",
    "# 05 - Kadani's Algorithm\n",
    "# 06 - DP on Trees\n",
    "# 07 - DP on Grid\n",
    "# 08 - Fibonaci\n",
    "# 09 - Others"
   ]
  },
  {
   "cell_type": "markdown",
   "id": "6c39ace3",
   "metadata": {},
   "source": [
    "<h2 style=\"color: red\">01 - 0/1-Knapsack</h2>\n",
    "https://www.youtube.com/playlist?list=PL_z_8CaSLPWekqhdCPmFohncHwz8TY2Go\n"
   ]
  },
  {
   "cell_type": "code",
   "execution_count": 3,
   "id": "bf2f7205",
   "metadata": {},
   "outputs": [],
   "source": [
    "# profit = [60, 100, 120]\n",
    "# weight = [10, 20, 30]\n",
    "# W = 35\n",
    "# --------------------------------------\n",
    "# profit = [55, 10, 47, 5,4,50,8,61,85,87]\n",
    "# weight = [95,4,60,32,23,72,80,62,65,46]\n",
    "# W = 269\n",
    "# --------------------------------------\n",
    "# profit = [20, 5, 10, 40, 15, 25]\n",
    "# weight = [ 1, 2, 3, 8, 7, 4 ]\n",
    "# W = 10\n",
    "# --------------------------------------\n",
    "profit = [44,46,90,72,91,40,75,35,8,54,78,40,77,15,61,17,75,29,75,63] # output 1024\n",
    "weight = [92,4,43,83,84,68,92,82,6,44,32,18,56,83,25,96,70,48,14,58]\n",
    "W = 878\n",
    "# ======================================\n",
    "p, w = profit, weight\n",
    "n = len(p)"
   ]
  },
  {
   "cell_type": "code",
   "execution_count": 4,
   "id": "1952a286",
   "metadata": {},
   "outputs": [
    {
     "name": "stdout",
     "output_type": "stream",
     "text": [
      "Maximum profit (Recursive): 295\n"
     ]
    }
   ],
   "source": [
    "# 0-1 knapsack  (Recursive)\n",
    "def KS_r(n: int, W: int) -> int:\n",
    "    global p, w\n",
    "    if n==0 or W==0:\n",
    "        return 0 \n",
    "    else:\n",
    "        if w[n-1] <= W:\n",
    "            c1 = p[n-1] + KS_r(n-1, W-w[n-1]) # include the item\n",
    "            c2 = KS_r(n-1, W)                 # exclude the item\n",
    "            return max(c1, c2)\n",
    "        else:\n",
    "            return KS_r(n-1, W)\n",
    "\n",
    "# -------------------------------------------------------------\n",
    "p = [55, 10, 47, 5,4,50,8,61,85,87] #profit\n",
    "w = [95,4,60,32,23,72,80,62,65,46]  #weight\n",
    "W = 269\n",
    "# -------------------------------------------------------------\n",
    "n = len(p)\n",
    "res = KS_r(n, W)\n",
    "print(f\"Maximum profit (Recursive): {res}\")"
   ]
  },
  {
   "cell_type": "code",
   "execution_count": 5,
   "id": "17c9f5a1",
   "metadata": {},
   "outputs": [
    {
     "name": "stdout",
     "output_type": "stream",
     "text": [
      "295\n"
     ]
    }
   ],
   "source": [
    "# 0-1 knapsack with memoization  (Recursive + table) (Top Down)\n",
    "def KS_m(n, W):\n",
    "    global t, p, w\n",
    "    if n==0 or W==0:\n",
    "        return 0\n",
    "    if t[n][W] != -1:\n",
    "        return t[n][W]\n",
    "    else:\n",
    "        if w[n-1]<=W:\n",
    "            c1 = p[n-1] + KS_m(n-1, W-w[n-1])\n",
    "            c2 = KS_m(n-1, W)\n",
    "            t[n][W] =  max(c1, c2)\n",
    "            return t[n][W]\n",
    "        else:\n",
    "            t[n][W] = KS_m(n-1, W)\n",
    "            return t[n][W]\n",
    "# ------------------------------------------------------------- \n",
    "t = [[-1 for i in range(W + 1)] for j in range(n + 1)]\n",
    "print(KS_m(n, W))"
   ]
  },
  {
   "cell_type": "code",
   "execution_count": 6,
   "id": "f059787c",
   "metadata": {},
   "outputs": [
    {
     "name": "stdout",
     "output_type": "stream",
     "text": [
      "295\n"
     ]
    }
   ],
   "source": [
    "# 0-1 knapsack DP (Bottom Up)\n",
    "def KS_dp(n, W):\n",
    "    global p, w\n",
    "    # dp table initialization\n",
    "    dp = [[0 for i in range(W + 1)] for j in range(n + 1)]\n",
    "\n",
    "    for i in range(1, n+1):\n",
    "        for j in range(1, W+1):\n",
    "            if w[i-1]<=j:\n",
    "                c1 = p[i-1] + dp[i-1][j-w[i-1]]  #include the item\n",
    "                c2 = dp[i-1][j]                  #exclude the item\n",
    "                dp[i][j] = max(c1, c2)\n",
    "            else:\n",
    "                dp[i][j] = dp[i-1][j]\n",
    "    return dp[-1][-1]\n",
    "# --------------------------------------------------------\n",
    "print(KS_dp(n, W))"
   ]
  },
  {
   "cell_type": "code",
   "execution_count": 7,
   "id": "2cd8a361",
   "metadata": {},
   "outputs": [
    {
     "name": "stdout",
     "output_type": "stream",
     "text": [
      "295 295 295\n"
     ]
    }
   ],
   "source": [
    "k1 = KS_r(n, W)\n",
    "k2 = KS_m(n, W)\n",
    "k3 = KS_dp(n, W)\n",
    "\n",
    "print(k1, k2, k3)"
   ]
  },
  {
   "cell_type": "markdown",
   "id": "422f3af7",
   "metadata": {},
   "source": [
    "### 1.1 - Subset Sum [▶️](https://youtu.be/_gPcYovP7wc?list=PL_z_8CaSLPWekqhdCPmFohncHwz8TY2Go)"
   ]
  },
  {
   "cell_type": "code",
   "execution_count": null,
   "id": "a4678abb",
   "metadata": {},
   "outputs": [
    {
     "name": "stdout",
     "output_type": "stream",
     "text": [
      "True\n"
     ]
    }
   ],
   "source": [
    "# Subset sum Recursive\n",
    "def SS_r(i:int, S:int) -> bool:\n",
    "    global arr\n",
    "    if i == 0: return False\n",
    "    if S == 0: return True\n",
    "    if arr[i-1] <= S:\n",
    "        return SS_r(i-1, S-arr[i-1]) | SS_r(i-1, S)\n",
    "    else:\n",
    "        return SS_r(i-1, S)\n",
    "# -------------------------------------------------\n",
    "arr = [2,3,7,8,10]\n",
    "W = 13\n",
    "n = len(arr)\n",
    "print(SS_r(n, W))"
   ]
  },
  {
   "cell_type": "code",
   "execution_count": 1,
   "id": "cb1f749e",
   "metadata": {},
   "outputs": [
    {
     "name": "stdout",
     "output_type": "stream",
     "text": [
      "True\n"
     ]
    }
   ],
   "source": [
    "# Subset sum problem (DP)\n",
    "def SS_dp(n:int, S:int) -> bool:\n",
    "    global arr\n",
    "    # Table Initialization\n",
    "    table = [[False for i in range(S + 1)] for j in range(n + 1)]\n",
    "    for i in range(n+1):\n",
    "        table[i][0] = True\n",
    "    \n",
    "    for i in range(1, n+1):\n",
    "        for j in range(1, S+1):\n",
    "            if arr[i-1] <= j:\n",
    "                table[i][j] = table[i-1][j-arr[i-1]] | table[i-1][j]\n",
    "            else:\n",
    "                table[i][j] = table[i-1][j]\n",
    "    return table[-1][-1]\n",
    "# ==========================================================\n",
    "arr = [2,3,7,8,10]\n",
    "subset_sum = 13\n",
    "n = len(arr)\n",
    "print(SS_dp(n, subset_sum))\n"
   ]
  },
  {
   "cell_type": "code",
   "execution_count": 29,
   "id": "e0fb08d1-f313-4b1f-a3c5-34b21e113995",
   "metadata": {},
   "outputs": [
    {
     "name": "stdout",
     "output_type": "stream",
     "text": [
      "7\n",
      "5\n"
     ]
    }
   ],
   "source": [
    "print(0b111 or 0b100)\n",
    "print(0b101 | 0b100)\n"
   ]
  },
  {
   "cell_type": "markdown",
   "id": "29e0bf3b",
   "metadata": {},
   "source": [
    "### 1.2 - Equal Sum partition [▶️](https://youtu.be/UmMh7xp07kY?list=PL_z_8CaSLPWekqhdCPmFohncHwz8TY2Go)"
   ]
  },
  {
   "cell_type": "code",
   "execution_count": 40,
   "id": "4227eb80",
   "metadata": {},
   "outputs": [
    {
     "name": "stdout",
     "output_type": "stream",
     "text": [
      "True\n"
     ]
    }
   ],
   "source": [
    "def ESP(arr) -> bool:\n",
    "    if sum(arr)%2==1:\n",
    "        return False\n",
    "    W = sum(arr)//2\n",
    "    return SS_dp(len(arr), W)\n",
    "# ==========================================\n",
    "arr = [2,3,7,8,10]\n",
    "print(ESP(arr))"
   ]
  },
  {
   "cell_type": "markdown",
   "id": "d4d3aceb",
   "metadata": {},
   "source": [
    "### 1.3 - Count of subset sum [▶️](https://youtu.be/F7wqWbqYn9g?list=PL_z_8CaSLPWekqhdCPmFohncHwz8TY2Go)"
   ]
  },
  {
   "cell_type": "code",
   "execution_count": 54,
   "id": "ae8c96f9",
   "metadata": {},
   "outputs": [
    {
     "name": "stdout",
     "output_type": "stream",
     "text": [
      "3\n"
     ]
    }
   ],
   "source": [
    "def CSS_dp(n, W):\n",
    "    global arr\n",
    "    # Table Initialization\n",
    "    table = [[0 for i in range(W+1)] for j in range(n+1)]\n",
    "    for i in range(n+1):\n",
    "        table[i][0] = 1\n",
    "\n",
    "    for i in range(1, n+1):\n",
    "        for j in range(1, W+1):\n",
    "            if arr[i-1]<=j:\n",
    "                table[i][j] = table[i-1][j-arr[i-1]] + table[i-1][j]\n",
    "            else:\n",
    "                table[i][j] = table[i-1][j]\n",
    "    return table[-1][-1]\n",
    "\n",
    "# ==========================================\n",
    "arr = [2,3,7,8,10]\n",
    "W = 10\n",
    "n = len(arr)\n",
    "print(CSS_dp(n, W))"
   ]
  },
  {
   "cell_type": "markdown",
   "id": "dc27f1d7",
   "metadata": {},
   "source": [
    "### 1.4 - Minimum Subset Sum Difference [▶️](https://youtu.be/-GtpxG6l_Mc?list=PL_z_8CaSLPWekqhdCPmFohncHwz8TY2Go)\n",
    "Dividing the given subset into $s_1, s_2$ such that $|s_2 - s_1|$ is minimum.\n",
    "\n",
    "**Solution:**\n",
    "\n",
    "Since $s_1 + s_2 = W$  \n",
    "Then $s_2 = W - s_1$ &nbsp;&nbsp;&nbsp;(1)  \n",
    "\n",
    "Given $s_2 - s_1 = \\text{minimum\\_val}$ &nbsp;&nbsp;&nbsp;(2)  \n",
    "\n",
    "From (1) and (2):  \n",
    "$W - 2 \\times s_1 = \\text{minimum\\_val}$"
   ]
  },
  {
   "cell_type": "code",
   "execution_count": null,
   "id": "d81840d1",
   "metadata": {},
   "outputs": [
    {
     "name": "stdout",
     "output_type": "stream",
     "text": [
      "1\n"
     ]
    }
   ],
   "source": [
    "def mSS(arr):\n",
    "    n, W = len(arr), sum(arr)\n",
    "    # Table Initialization\n",
    "    table = [[False for i in range(W + 1)] for j in range(n + 1)]\n",
    "    for i in range(n+1):\n",
    "        table[i][0] = True\n",
    "    # -----------------------------------\n",
    "    for i in range(1, n+1):\n",
    "        for j in range(1, W+1):\n",
    "            if arr[i-1]<=j:\n",
    "                table[i][j] = table[i-1][j-arr[i-1]] | table[i-1][j]\n",
    "            else:\n",
    "                table[i][j] = table[i-1][j]\n",
    "    # -----------------------------------\n",
    "    mininum_val = W\n",
    "    for k in range(W//2 + 1):\n",
    "        if table[-1][k]:\n",
    "            mininum_val = min(mininum_val, W-2*k)\n",
    "    return mininum_val\n",
    "\n",
    "# ===========================================\n",
    "arr = [2,3,7,8,10,5]\n",
    "print(mSS(arr))"
   ]
  },
  {
   "cell_type": "markdown",
   "id": "d7f3a0a8",
   "metadata": {},
   "source": [
    "### 1.5 - Count the number of subset with a given difference [▶️](https://youtu.be/ot_XBHyqpFc?list=PL_z_8CaSLPWekqhdCPmFohncHwz8TY2Go)\n",
    "S1 - S2 = diff ----------(1) and <br>\n",
    "S1 + S2 = sum(arr) ---(2) <br>\n",
    "solving (1) & (2) <br>\n",
    "S1 = ( sum(arr) + diff ) // 2"
   ]
  },
  {
   "cell_type": "code",
   "execution_count": null,
   "id": "14a893ea",
   "metadata": {},
   "outputs": [
    {
     "name": "stdout",
     "output_type": "stream",
     "text": [
      "3\n"
     ]
    }
   ],
   "source": [
    "# arr = [2,3,7,8,10,5]\n",
    "arr = [1,1,2,3]\n",
    "diff = 1\n",
    "n = len(arr)\n",
    "sum1 = (sum(arr) + diff) // 2\n",
    "print(CSS_dp(n, sum1))"
   ]
  },
  {
   "cell_type": "markdown",
   "id": "12e1164f",
   "metadata": {},
   "source": [
    "### 1.6 - Target Sum [▶️](https://www.youtube.com/watch?v=Hw6Ygp3JBYw&list=PL_z_8CaSLPWekqhdCPmFohncHwz8TY2Go&index=12)"
   ]
  },
  {
   "cell_type": "code",
   "execution_count": 60,
   "id": "8eeb9bab",
   "metadata": {},
   "outputs": [],
   "source": [
    "# it is nothing but count the number of subset with a given difference"
   ]
  },
  {
   "cell_type": "markdown",
   "id": "007b1d95",
   "metadata": {},
   "source": [
    "<h2 style=\"color: red\">02 - Unbounded Knapsack</h2>\n",
    "\n",
    "[▶️](https://www.youtube.com/watch?v=aycn9KO8_Ls&list=PL_z_8CaSLPWekqhdCPmFohncHwz8TY2Go&index=13)"
   ]
  },
  {
   "cell_type": "code",
   "execution_count": null,
   "id": "112a2b6e-3ba4-4885-b4d5-a087c522c9d0",
   "metadata": {},
   "outputs": [],
   "source": [
    "# Bounded Knapsack    dp[i][j] = max( p[i-1] + dp[i-1][j-w[i-1]], dp[i-1][j] )\n",
    "# Unbounded Knapsack  dp[i][j] = max( p[i-1] + dp[i][j-w[i-1]],   dp[i-1][j] )"
   ]
  },
  {
   "cell_type": "code",
   "execution_count": null,
   "id": "3ac763d0-3e6b-4a75-aad8-1f061e8c68c5",
   "metadata": {},
   "outputs": [
    {
     "name": "stdout",
     "output_type": "stream",
     "text": [
      "1052\n"
     ]
    }
   ],
   "source": [
    "def Unbounded_KS_r(n, W):\n",
    "    global p, w\n",
    "    # Base condition\n",
    "    if n==0 or W==0:\n",
    "        return 0\n",
    "    else:\n",
    "        if w[n-1] <= W:\n",
    "            c1 = p[n-1] + KS_r(n, W-w[n-1]) # include the item\n",
    "            c2 = KS_r(n-1, W)               # exclude the item\n",
    "            return max(c1, c2)\n",
    "        else:\n",
    "            return KS_r(n-1, W)\n",
    "# -------------------------------------------------------------\n",
    "p = [44,46,90,72,91,40,75,35,8,54,78,40,77,15,61,17,75,29,75,63]\n",
    "w = [92,4,43,83,84,68,92,82,6,44,32,18,56,83,25,96,70,48,14,58]\n",
    "W = 878\n",
    "# -------------------------------------------------------------\n",
    "n = len(p)\n",
    "print(Unbounded_KS_r(n, W))"
   ]
  },
  {
   "cell_type": "code",
   "execution_count": null,
   "id": "fca6cdbe",
   "metadata": {},
   "outputs": [
    {
     "data": {
      "text/plain": [
       "230"
      ]
     },
     "execution_count": 2,
     "metadata": {},
     "output_type": "execute_result"
    }
   ],
   "source": [
    "def unbounded_ks_dp(n, W):\n",
    "    global p, w\n",
    "    # Initializing the table\n",
    "    table = [[0 for i in range(W+1)] for j in range(n+1)]\n",
    "\n",
    "    for i in range(1, n+1):\n",
    "        for j in range(1, W+1):\n",
    "            if w[i-1] <= j:\n",
    "                c1 = p[i-1] + table[i][j-w[i-1]]\n",
    "                c2 = table[i-1][j]\n",
    "                table[i][j] = max(c1, c2)\n",
    "            else:\n",
    "                table[i][j] = table[i-1][j]\n",
    "    return table[-1][-1]\n",
    "\n",
    "# -------------------------------------------------------------\n",
    "p = [44,46,90,72,91,40,75,35,8,54,78,40,77,15,61,17,75,29,75,63]\n",
    "w = [92,4,43,83,84,68,92,82,6,44,32,18,56,83,25,96,70,48,14,58]\n",
    "W = 20\n",
    "# -------------------------------------------------------------\n",
    "n = len(p)\n",
    "unbounded_ks_dp(n, W)"
   ]
  },
  {
   "cell_type": "markdown",
   "id": "4219f818",
   "metadata": {},
   "source": [
    "### 2.1 - Rod Cutting problem [▶️](https://www.youtube.com/watch?v=SZqAQLjDsag&list=PL_z_8CaSLPWekqhdCPmFohncHwz8TY2Go&index=14)\n",
    "it is same as unbounded knapsack problem asked in a different way\n"
   ]
  },
  {
   "cell_type": "markdown",
   "id": "ce2b532c",
   "metadata": {},
   "source": [
    "**Question:** Given a rod of length N inches and an array of prices, price[].<br>\n",
    "price[i] denotes the value of a piece of length i. Determine the maximum value obtainable by cutting up the rod and selling the pieces."
   ]
  },
  {
   "cell_type": "code",
   "execution_count": null,
   "id": "16c2cf57",
   "metadata": {},
   "outputs": [
    {
     "data": {
      "text/plain": [
       "880"
      ]
     },
     "execution_count": 69,
     "metadata": {},
     "output_type": "execute_result"
    }
   ],
   "source": [
    "value = [44,46,90,72,91,40,75,35,8,54,78,40,77,15,61,17,75,29,75,63]\n",
    "N = 20\n",
    "# -------------------------------------------------------------\n",
    "length = list(range(1, N+1))\n",
    "w, p = length, value\n",
    "n, W = N, N\n",
    "unbounded_ks_dp(n, W)"
   ]
  },
  {
   "cell_type": "markdown",
   "id": "58fccffb",
   "metadata": {},
   "source": [
    "### 2.2 - Coin change problem Maximum number of ways [▶️](https://www.youtube.com/watch?v=I4UR2T6Ro3w&list=PL_z_8CaSLPWekqhdCPmFohncHwz8TY2Go&index=15)"
   ]
  },
  {
   "cell_type": "code",
   "execution_count": null,
   "id": "fa5bc8b7",
   "metadata": {},
   "outputs": [
    {
     "data": {
      "text/plain": [
       "5"
      ]
     },
     "execution_count": 74,
     "metadata": {},
     "output_type": "execute_result"
    }
   ],
   "source": [
    "def count_unbounded_ks_dp(n, W):\n",
    "    global w\n",
    "    # table initialization\n",
    "    table = [[0 for i in range(W+1)] for j in range(n+1)]\n",
    "    for i in range(n+1):\n",
    "        table[i][0] = 1\n",
    "        \n",
    "    for i in range(1, n+1):\n",
    "        for j in range(1, W+1):\n",
    "            if w[i-1]<=j:\n",
    "                c1 = table[i][j-w[i-1]] # include the coin\n",
    "                c2 = table[i-1][j]      # exclude the coin\n",
    "                table[i][j] = c1 + c2\n",
    "            else:\n",
    "                table[i][j] = table[i-1][j]\n",
    "    return table[-1][-1]\n",
    "\n",
    "# ----------------------------------\n",
    "coin = [1, 2, 3]\n",
    "summ = 5 \n",
    "\n",
    "w = coin\n",
    "count_unbounded_ks_dp(len(coin), summ)"
   ]
  },
  {
   "cell_type": "markdown",
   "id": "ec92964e",
   "metadata": {},
   "source": [
    "### 2.3 - Coin change problem (minimum number of coins) [▶️](https://www.youtube.com/watch?v=I-l6PBeERuc&list=PL_z_8CaSLPWekqhdCPmFohncHwz8TY2Go&index=16)"
   ]
  },
  {
   "cell_type": "code",
   "execution_count": null,
   "id": "b15f13a4",
   "metadata": {},
   "outputs": [
    {
     "data": {
      "text/plain": [
       "2"
      ]
     },
     "execution_count": 2,
     "metadata": {},
     "output_type": "execute_result"
    }
   ],
   "source": [
    "def min_coin_change(n, W):\n",
    "    global coin\n",
    "    table = [[0 for i in range(W+1)] for j in range(n+1)]\n",
    "\n",
    "    # initializing first row\n",
    "    for j in range(W+1):\n",
    "        table[0][j] = float('inf')\n",
    "    \n",
    "    # initializing second row\n",
    "    for j in range(W+1):\n",
    "        if j % coin[0] == 0:\n",
    "            table[1][j] = j // coin[0]\n",
    "        else:\n",
    "            table[1][j] = float('inf')\n",
    "        \n",
    "    for i in range(1, n+1):\n",
    "        for j in range(1, W+1):\n",
    "            if coin[i-1] <= j:\n",
    "                c1 = table[i][j-coin[i-1]] + 1  # include the coin\n",
    "                c2 = table[i-1][j]              # exclude the coin\n",
    "                table[i][j] = min(c1, c2)\n",
    "            else:\n",
    "                table[i][j] = table[i-1][j]\n",
    "    return table[-1][-1]\n",
    "\n",
    "# -----------------------------------------\n",
    "coin = [1, 2, 3, 4]\n",
    "sums = 5\n",
    "min_coin_change(len(coin), sums)"
   ]
  },
  {
   "cell_type": "markdown",
   "id": "7e5c0c3d",
   "metadata": {},
   "source": [
    "<h2 style=\"color: red\">03 - Longest Common Subsequence (LCS)</h2>\n",
    "\n",
    "[▶️](https://www.youtube.com/watch?v=4dMlCZTONj8&list=PL_z_8CaSLPWekqhdCPmFohncHwz8TY2Go&index=18)\n",
    "- Recursive, \n",
    "- Topdown (Memoization), \n",
    "- Bottomup (tabulation)"
   ]
  },
  {
   "cell_type": "markdown",
   "id": "44c85e0b-9b62-46da-8cb5-09876f0ded27",
   "metadata": {},
   "source": [
    "### 3.1 - length of longest common subsequence\n",
    "[Leetcode](https://leetcode.com/problems/longest-common-subsequence/description/)"
   ]
  },
  {
   "cell_type": "code",
   "execution_count": null,
   "id": "24ee5eb2",
   "metadata": {},
   "outputs": [
    {
     "name": "stdout",
     "output_type": "stream",
     "text": [
      "4\n"
     ]
    }
   ],
   "source": [
    "# ---------------------------RECURSIVE-----------------------\n",
    "def LCS_r(m, n):\n",
    "    global x, y\n",
    "    if m==0 or n==0:\n",
    "        return 0\n",
    "    if x[m-1] == y[n-1]:\n",
    "        return 1 + LCS_r(m-1, n-1)\n",
    "    else:\n",
    "        c1 = LCS_r(m, n-1)\n",
    "        c2 = LCS_r(m-1, n)\n",
    "        return max(c1, c2)\n",
    "\n",
    "# -------------------------------------------------------------\n",
    "x = 'nehalm'\n",
    "y = 'ehlkm'\n",
    "# ----------------\n",
    "m, n = len(x), len(y)\n",
    "print(LCS_r(m, n))"
   ]
  },
  {
   "cell_type": "code",
   "execution_count": null,
   "id": "38847aa6",
   "metadata": {},
   "outputs": [
    {
     "name": "stdout",
     "output_type": "stream",
     "text": [
      "4\n"
     ]
    }
   ],
   "source": [
    "# -------------------------MEMOIZATION-(TOP-DOWN)------------------------\n",
    "def LCS_m(m:int, n:int) -> int:\n",
    "    global t, x, y\n",
    "    if m==0 or n==0:\n",
    "        return 0\n",
    "    if t[m][n] != -1:\n",
    "        return t[m][n]\n",
    "    if x[m-1] == y[n-1]:\n",
    "        t[m][n] = 1 + LCS_m(m-1, n-1)\n",
    "        return t[m][n]\n",
    "    else:\n",
    "        t[m][n] = max(LCS_m(m-1, n), LCS_m(m, n-1))\n",
    "        return t[m][n]\n",
    "\n",
    "# -------------------------------------------------------------\n",
    "x = 'nehalm'\n",
    "y = 'ehlkm'\n",
    "# ----------------\n",
    "m, n = len(x), len(y)\n",
    "t = [[-1 for i in range(n+1)] for j in range(m+1)]\n",
    "print(LCS_m(m, n))"
   ]
  },
  {
   "cell_type": "code",
   "execution_count": 9,
   "id": "1b338c25",
   "metadata": {},
   "outputs": [
    {
     "name": "stdout",
     "output_type": "stream",
     "text": [
      "4\n"
     ]
    }
   ],
   "source": [
    "# -------------------------TABULATION-(BOTTOM-UP)-------------------------\n",
    "def LCS_dp(m, n)->int:\n",
    "    global x, y\n",
    "    table = [[0 for i in range(n+1)] for j in range(m+1)]\n",
    "    for i in range(1, m+1):\n",
    "        for j in range(1, n+1):\n",
    "            if x[i-1] == y[j-1]:\n",
    "                table[i][j] = 1 + table[i-1][j-1]\n",
    "            else:\n",
    "                table[i][j] = max(table[i-1][j], table[i][j-1])\n",
    "    return table[-1][-1]\n",
    "\n",
    "# -------------------------------------------------------------\n",
    "x = 'nehalm'\n",
    "y = 'ehlkm'\n",
    "# ----------------\n",
    "m, n = len(x), len(y)\n",
    "print(LCS_dp(m, n))"
   ]
  },
  {
   "cell_type": "markdown",
   "id": "137faf31",
   "metadata": {},
   "source": [
    "### 3.2 - Longest Common Substring [▶️](https://www.youtube.com/watch?v=HrybPYpOvz0&list=PL_z_8CaSLPWekqhdCPmFohncHwz8TY2Go&index=22&pp=iAQB)\n",
    "[GFG](https://www.geeksforgeeks.org/problems/longest-common-substring1452/1)"
   ]
  },
  {
   "cell_type": "code",
   "execution_count": null,
   "id": "b855e96b",
   "metadata": {},
   "outputs": [
    {
     "data": {
      "text/plain": [
       "4"
      ]
     },
     "execution_count": 5,
     "metadata": {},
     "output_type": "execute_result"
    }
   ],
   "source": [
    "def LCSubstring_dp(m:int, n:int) ->int:\n",
    "    global x, y\n",
    "    table = [[0 for i in range(n+1)] for j in range(m+1)]\n",
    "    for i in range(1, m+1):\n",
    "        for j in range(1, n+1):\n",
    "            if x[i-1] == y[j-1]:\n",
    "                table[i][j] = 1 + table[i-1][j-1]\n",
    "            else:\n",
    "                table[i][j] = 0\n",
    "    return max([max(row) for row in table])\n",
    "\n",
    "# -----------------------------------------------------     \n",
    "x = 'nehalmb'\n",
    "y = 'ehalkm'\n",
    "m, n = len(x), len(y)\n",
    "\n",
    "LCSubstring_dp(m, n)"
   ]
  },
  {
   "cell_type": "markdown",
   "id": "ad0b64cf-a4b5-4a47-a2f8-485946757f34",
   "metadata": {},
   "source": [
    "### 3.3 - Printing Longest Common Subsequence [▶️](https://www.youtube.com/watch?v=x5hQvnUcjiM&list=PL_z_8CaSLPWekqhdCPmFohncHwz8TY2Go&index=23)"
   ]
  },
  {
   "cell_type": "code",
   "execution_count": null,
   "id": "f720965c-d6bf-4154-bde6-20c20dd6a629",
   "metadata": {},
   "outputs": [
    {
     "data": {
      "text/plain": [
       "'ehlm'"
      ]
     },
     "execution_count": 1,
     "metadata": {},
     "output_type": "execute_result"
    }
   ],
   "source": [
    "def LCS_dp1(m, n, x, y) -> str:\n",
    "    table = [[0 for i in range(n+1)] for j in range(m+1)]\n",
    "    for i in range(1, m+1):\n",
    "        for j in range(1, n+1):\n",
    "            if x[i-1]==y[j-1]:\n",
    "                table[i][j] = 1 + table[i-1][j-1]\n",
    "            else:\n",
    "                table[i][j] = max(table[i-1][j], table[i][j-1])\n",
    "    \n",
    "    subsequence = \"\"\n",
    "    i, j = m, n \n",
    "    while i > 0 and j > 0:\n",
    "        if x[i-1] == y[j-1]:\n",
    "            subsequence = x[i-1] + subsequence\n",
    "            i -= 1\n",
    "            j -= 1\n",
    "        elif table[i][j-1] > table[i-1][j]:\n",
    "                j -= 1\n",
    "        else:\n",
    "            i -= 1\n",
    "    return subsequence\n",
    "# ---------------------------------------------------\n",
    "x = 'nehalm'\n",
    "y = 'ehlkm'\n",
    "m, n = len(x), len(y)\n",
    "\n",
    "LCS_dp1(m, n, x, y)"
   ]
  },
  {
   "cell_type": "markdown",
   "id": "5999b2ce",
   "metadata": {},
   "source": [
    "### 3.4 - Shortest Common Super Sequence (SCS) [▶️](https://www.youtube.com/watch?v=823Grn4_dCQ&list=PL_z_8CaSLPWekqhdCPmFohncHwz8TY2Go&index=24)\n"
   ]
  },
  {
   "cell_type": "code",
   "execution_count": 10,
   "id": "c492a5f7",
   "metadata": {},
   "outputs": [
    {
     "data": {
      "text/plain": [
       "7"
      ]
     },
     "execution_count": 10,
     "metadata": {},
     "output_type": "execute_result"
    }
   ],
   "source": [
    "def SCS_dp(m:int, n:int, x:str, y:str) -> int:\n",
    "    lcs = LCS_dp(m, n)\n",
    "    return m + n - lcs\n",
    "# -----------------------------------------\n",
    "x = 'nehalm'\n",
    "y = 'ehlkm'\n",
    "m, n = len(x), len(y)\n",
    "SCS_dp(m, n, x, y)"
   ]
  },
  {
   "cell_type": "markdown",
   "id": "1e11a5ca",
   "metadata": {},
   "source": [
    "### 3.5 - Minimum number of insertion and deletion to convert string a to b [▶️](https://www.youtube.com/watch?v=-fx6aDxcWyg&list=PL_z_8CaSLPWekqhdCPmFohncHwz8TY2Go&index=25&t=20s)"
   ]
  },
  {
   "cell_type": "code",
   "execution_count": 12,
   "id": "300c7258",
   "metadata": {},
   "outputs": [
    {
     "data": {
      "text/plain": [
       "3"
      ]
     },
     "execution_count": 12,
     "metadata": {},
     "output_type": "execute_result"
    }
   ],
   "source": [
    "def min_num_of_ins_and_del_to_convert_a_to_b(m:int, n:int, x:str, y:str) -> int:\n",
    "    lcs = LCS_dp(m, n)\n",
    "    return m + n - 2*lcs\n",
    "# -----------------------------------------\n",
    "x = 'nehalm'\n",
    "y = 'ehlkm'\n",
    "m, n = len(x), len(y)\n",
    "min_num_of_ins_and_del_to_convert_a_to_b(m, n, x, y)"
   ]
  },
  {
   "cell_type": "markdown",
   "id": "e9a07883",
   "metadata": {},
   "source": [
    "### 3.6 - Longest Palindromic Subsequence (LPS) [▶️](https://www.youtube.com/watch?v=wuOOOATz_IA&list=PL_z_8CaSLPWekqhdCPmFohncHwz8TY2Go&index=26)\n",
    "[Leetcode](https://leetcode.com/problems/longest-palindromic-subsequence/description/)"
   ]
  },
  {
   "cell_type": "code",
   "execution_count": 14,
   "id": "48227388",
   "metadata": {},
   "outputs": [
    {
     "data": {
      "text/plain": [
       "5"
      ]
     },
     "execution_count": 14,
     "metadata": {},
     "output_type": "execute_result"
    }
   ],
   "source": [
    "x = 'agbcba'\n",
    "y = x[::-1]\n",
    "m, n = len(x), len(y)\n",
    "LCS_dp(m, n)"
   ]
  },
  {
   "cell_type": "markdown",
   "id": "853a7a62",
   "metadata": {},
   "source": [
    "### 3.7 - Minimum number of deletion in a string to make it palindrom [▶️](https://www.youtube.com/watch?v=CFwCCNbRuLY&list=PL_z_8CaSLPWekqhdCPmFohncHwz8TY2Go&index=27)\n",
    "[GFG](https://www.geeksforgeeks.org/problems/minimum-deletitions1648/1)"
   ]
  },
  {
   "cell_type": "code",
   "execution_count": null,
   "id": "64413e9c",
   "metadata": {},
   "outputs": [
    {
     "name": "stdout",
     "output_type": "stream",
     "text": [
      "1\n"
     ]
    }
   ],
   "source": [
    "x = 'agbcba'\n",
    "y = x[::-1]\n",
    "m, n = len(x), len(y)\n",
    "lcs = LCS_dp(m, n)\n",
    "min_del = m - lcs\n",
    "print(min_del)"
   ]
  },
  {
   "cell_type": "markdown",
   "id": "d1b9d76a-6999-47fe-b4df-a4ca3d993f9d",
   "metadata": {},
   "source": [
    "### 3.8 - print SCS (shortest common supersequence) [▶️](https://www.youtube.com/watch?v=VDhRg-ZJTuc&list=PL_z_8CaSLPWekqhdCPmFohncHwz8TY2Go&index=28)\n",
    "[Leetcode](https://leetcode.com/problems/shortest-common-supersequence/)"
   ]
  },
  {
   "cell_type": "code",
   "execution_count": 2,
   "id": "f5672ab4-6565-4c3f-846f-3fa656a40448",
   "metadata": {},
   "outputs": [
    {
     "data": {
      "text/plain": [
       "'nehalkm'"
      ]
     },
     "execution_count": 2,
     "metadata": {},
     "output_type": "execute_result"
    }
   ],
   "source": [
    "def SCS_dp1(x, y, m, n) -> str:\n",
    "    table = [[0 for i in range(n+1)] for j in range(m+1)]\n",
    "    for i in range(1, m+1):\n",
    "        for j in range(1, n+1):\n",
    "            if x[i-1]==y[j-1]:\n",
    "                table[i][j] = 1 + table[i-1][j-1]\n",
    "            else:\n",
    "                table[i][j] = max(table[i-1][j], table[i][j-1])\n",
    "    # -------------------------\n",
    "    i, j = m, n\n",
    "\n",
    "    super_sequence = \"\"\n",
    "    while i > 0 and j > 0:\n",
    "        if x[i-1] == y[j-1]:\n",
    "            super_sequence = x[i-1] + super_sequence\n",
    "            i -= 1\n",
    "            j -= 1\n",
    "        elif table[i][j-1] > table[i-1][j]:\n",
    "            super_sequence = y[j-1] + super_sequence\n",
    "            j -= 1\n",
    "        else:\n",
    "            super_sequence = x[i-1] + super_sequence\n",
    "            i -= 1\n",
    "    # -------------------------\n",
    "    while i > 0:\n",
    "        super_sequence = x[i-1] + super_sequence\n",
    "        i -= 1\n",
    "    while j > 0:\n",
    "        super_sequence = y[j-1] + super_sequence\n",
    "        j -= 1\n",
    "    return super_sequence\n",
    "# ---------------------------------------------------\n",
    "x = 'nehalm'\n",
    "y = 'ehlkm'\n",
    "m, n = len(x), len(y)\n",
    "\n",
    "SCS_dp1(x, y, m, n)"
   ]
  },
  {
   "cell_type": "markdown",
   "id": "edb407f7-cbb7-4735-bddc-000e02ba9975",
   "metadata": {},
   "source": [
    "### 3.9 - Longest Repeating Subsequence [▶️](https://youtu.be/hbTaCmQGqLg?list=PL_z_8CaSLPWekqhdCPmFohncHwz8TY2Go)"
   ]
  },
  {
   "cell_type": "code",
   "execution_count": 7,
   "id": "74208d6e",
   "metadata": {},
   "outputs": [
    {
     "name": "stdout",
     "output_type": "stream",
     "text": [
      "2\n"
     ]
    }
   ],
   "source": [
    "def longest_repeating_subsequence(m, n) -> int:\n",
    "    table = [[0 for i in range(n+1)] for j in range(m+1)]\n",
    "    for i in range(1, m+1):\n",
    "        for j in range(1, n+1):\n",
    "            if x[i-1] == y[j-1] and i != j:\n",
    "                table[i][j] = 1 + table[i-1][j-1]\n",
    "            else:\n",
    "                table[i][j] = max(table[i-1][j], table[i][j-1])\n",
    "    return table[-1][-1]\n",
    "# -----------------------------------------------------------\n",
    "x = 'neenhahlm'\n",
    "# x = 'aabebcdd'\n",
    "y = x\n",
    "m, n = len(x), len(y)\n",
    "print(longest_repeating_subsequence(m, n))"
   ]
  },
  {
   "cell_type": "markdown",
   "id": "5178a447",
   "metadata": {},
   "source": [
    "### 3.10 - Sequence Pattern Matching [▶️](https://www.youtube.com/watch?v=QVntmksK2es&list=PL_z_8CaSLPWekqhdCPmFohncHwz8TY2Go&index=30)\n",
    "[Leetcode](https://leetcode.com/problems/is-subsequence/description/)"
   ]
  },
  {
   "cell_type": "code",
   "execution_count": 10,
   "id": "25b3a3ba",
   "metadata": {},
   "outputs": [
    {
     "data": {
      "text/plain": [
       "True"
      ]
     },
     "execution_count": 10,
     "metadata": {},
     "output_type": "execute_result"
    }
   ],
   "source": [
    "def SPM(m, n):\n",
    "    lcs = LCS_dp(m, n)\n",
    "    return lcs == min(m, n)\n",
    "# -------------------------------------------\n",
    "x = 'neenhahlm'\n",
    "y = 'nhahl'\n",
    "m, n = len(x), len(y)\n",
    "SPM(m, n)"
   ]
  },
  {
   "cell_type": "markdown",
   "id": "961a4131-7d41-49e2-b172-880811c135c5",
   "metadata": {},
   "source": [
    "### 3.11 - Mininum number of insertion in a string to make it a palindrom [▶️](https://www.youtube.com/watch?v=AEcRW4ylm_c&list=PL_z_8CaSLPWekqhdCPmFohncHwz8TY2Go&index=31)\n",
    "[Leetcode](https://leetcode.com/problems/minimum-insertion-steps-to-make-a-string-palindrome/description/)"
   ]
  },
  {
   "cell_type": "code",
   "execution_count": 24,
   "id": "d67db47e-86e6-431d-aed2-b1c1e84b10ee",
   "metadata": {},
   "outputs": [
    {
     "name": "stdout",
     "output_type": "stream",
     "text": [
      "2\n"
     ]
    }
   ],
   "source": [
    "x = 'aebcbda'\n",
    "y = x[::-1]\n",
    "m, n = len(x), len(y)\n",
    "lcs = LCS_dp(m, n)\n",
    "\n",
    "ans = m - lcs\n",
    "print(ans)"
   ]
  },
  {
   "cell_type": "code",
   "execution_count": null,
   "id": "7a5bd118-8bc1-46db-be8d-46072cef9791",
   "metadata": {},
   "outputs": [],
   "source": []
  },
  {
   "cell_type": "markdown",
   "id": "3a2fb918",
   "metadata": {},
   "source": [
    "<h2 style=\"color: red\">04 - Matrix Chain Multiplication (MCM)</h2>\n",
    "\n",
    "[▶️](https://www.youtube.com/watch?v=D7AFvtnDeMU&list=PL_z_8CaSLPWekqhdCPmFohncHwz8TY2Go&index=32)"
   ]
  },
  {
   "cell_type": "markdown",
   "id": "b2a119c6-b851-45b8-8960-07cdca513f10",
   "metadata": {},
   "source": [
    "### 4.1 - MCM \n",
    "[Recursive ▶️](https://www.youtube.com/watch?v=kMK148J9qEE&list=PL_z_8CaSLPWekqhdCPmFohncHwz8TY2Go&index=33)\n",
    "\n",
    "[GFG](https://www.geeksforgeeks.org/problems/matrix-chain-multiplication0303/1)"
   ]
  },
  {
   "cell_type": "code",
   "execution_count": 21,
   "id": "93ed766c",
   "metadata": {},
   "outputs": [
    {
     "data": {
      "text/plain": [
       "26000"
      ]
     },
     "execution_count": 21,
     "metadata": {},
     "output_type": "execute_result"
    }
   ],
   "source": [
    "# ---------- Recursive MCM ----------\n",
    "def mcm_r(i, j):\n",
    "    if i >= j:\n",
    "        return 0\n",
    "    \n",
    "    min_cost = float('inf')\n",
    "    \n",
    "    for k in range(i, j):\n",
    "        temp = (\n",
    "            mcm_r(i, k) + \n",
    "            mcm_r(k+1, j) + \n",
    "            arr[i-1] * arr[k] * arr[j]\n",
    "        )\n",
    "        min_cost = min(min_cost, temp)\n",
    "    \n",
    "    return min_cost\n",
    "\n",
    "# ------------------------------------------\n",
    "arr = [40, 20, 30, 10, 30]\n",
    "i = 1           #taking i=1, because arr[i-1] #out of index error\n",
    "j = len(arr)-1 \n",
    "mcm_r(i, j)"
   ]
  },
  {
   "cell_type": "markdown",
   "id": "627032f0",
   "metadata": {},
   "source": [
    "[Memoization ▶️](https://www.youtube.com/watch?v=9uUVFNOT3_Y&list=PL_z_8CaSLPWekqhdCPmFohncHwz8TY2Go&index=34)"
   ]
  },
  {
   "cell_type": "code",
   "execution_count": null,
   "id": "feacef47",
   "metadata": {},
   "outputs": [
    {
     "data": {
      "text/plain": [
       "26000"
      ]
     },
     "execution_count": 30,
     "metadata": {},
     "output_type": "execute_result"
    }
   ],
   "source": [
    "# ---------- MCM with Memoization (TopDpwn) ----------\n",
    "def MCM_m(i, j, arr):\n",
    "    if i >= j:\n",
    "        return 0\n",
    "    \n",
    "    if t[i][j] != -1:\n",
    "        return t[i][j]\n",
    "    \n",
    "    min_cost = float('inf')\n",
    "\n",
    "    for k in range(i, j):\n",
    "        temp = MCM_m(i, k, arr) + MCM_m(k+1, j, arr) + arr[i-1]*arr[k]*arr[j]\n",
    "        min_cost = min(min_cost, temp)\n",
    "    \n",
    "    t[i][j] = min_cost\n",
    "\n",
    "    return min_cost\n",
    "\n",
    "# ------------------------------------------\n",
    "arr = [40, 20, 30, 10, 30]\n",
    "i, j = 1, len(arr)-1\n",
    "t = [[-1 for col in range(len(arr))] for row in range(len(arr))]\n",
    "MCM_m(i, j, arr)"
   ]
  },
  {
   "cell_type": "markdown",
   "id": "ba93c411",
   "metadata": {},
   "source": [
    "### 4.2 - Palindrom Partiotining Recursion \n",
    "[Recursive ▶️](https://www.youtube.com/watch?v=szKVpQtBHh8&list=PL_z_8CaSLPWekqhdCPmFohncHwz8TY2Go&index=35)"
   ]
  },
  {
   "cell_type": "code",
   "execution_count": 50,
   "id": "6d1080ec",
   "metadata": {},
   "outputs": [
    {
     "data": {
      "text/plain": [
       "6"
      ]
     },
     "execution_count": 50,
     "metadata": {},
     "output_type": "execute_result"
    }
   ],
   "source": [
    "def ispalindrom(i, j, s):\n",
    "    while i < j:\n",
    "        if s[i] != s[j]:\n",
    "            return False\n",
    "        i += 1\n",
    "        j -= 1\n",
    "    return True\n",
    "\n",
    "# ===================================================\n",
    "def solve(i, j):\n",
    "    if i >= j or ispalindrom(i, j, s):\n",
    "        return 0\n",
    "    # --------------\n",
    "    mn = float('inf')\n",
    "    for k in range(i, j):\n",
    "        temp = (\n",
    "            1 + \n",
    "            solve(i, k) + \n",
    "            solve(k+1, j)\n",
    "        )\n",
    "        mn = min(mn, temp)\n",
    "    # --------------\n",
    "    return mn\n",
    "\n",
    "# -----------------------------------------\n",
    "s = 'nehallahenansari' #output: number of partition = 6  #(nehallahen|a|n|s|a|r|i)\n",
    "i = 0\n",
    "j = len(s)-1\n",
    "solve(i, j)"
   ]
  },
  {
   "cell_type": "markdown",
   "id": "6c60c396",
   "metadata": {},
   "source": [
    "[Memoization ▶️](https://youtu.be/9h10fqkI7Nk?list=PL_z_8CaSLPWekqhdCPmFohncHwz8TY2Go)"
   ]
  },
  {
   "cell_type": "code",
   "execution_count": 51,
   "id": "b192d0d8",
   "metadata": {},
   "outputs": [
    {
     "data": {
      "text/plain": [
       "10"
      ]
     },
     "execution_count": 51,
     "metadata": {},
     "output_type": "execute_result"
    }
   ],
   "source": [
    "# Palindrom Partition Memoization\n",
    "def ispalindrom(i, j, s):\n",
    "    while i < j:\n",
    "        if s[i] != s[j]:\n",
    "            return False\n",
    "        i += 1\n",
    "        j -= 1\n",
    "    return True\n",
    "# ==============================================================\n",
    "def solve(i, j):\n",
    "    if i >= j or ispalindrom(i, j, s):\n",
    "        return 0\n",
    "    # --------------------------\n",
    "    if t[i][j] != -1:\n",
    "        return t[i][j]\n",
    "    # --------------------------\n",
    "    mn = float('inf')\n",
    "    for k in range(i, j):\n",
    "        left_partition  = t[i][k] if t[i][k] != -1 else solve(i, k)\n",
    "        right_partition = t[k+1][j] if t[k+1][j] != -1 else solve(k+1, j)\n",
    "        temp = 1 + left_partition + right_partition\n",
    "        mn = min(mn, temp)\n",
    "    # --------------------------\n",
    "    t[i][j] = mn\n",
    "    return mn\n",
    "\n",
    "# -----------------------------------------\n",
    "s = 'nehalahamadansari' #number of partition = 10, #(n|e|halah|ama|d|a|n|s|a|r|i)\n",
    "i, j = 0, len(s)-1\n",
    "t = [[-1 for col in range(len(s))] for row in range(len(s))]\n",
    "solve(i, j)"
   ]
  },
  {
   "cell_type": "markdown",
   "id": "ce89a0f9-957b-4fbb-ad24-cdbb79028157",
   "metadata": {},
   "source": [
    "### 4.3 - Evaluate Expression to True, Boolean Parenthesization [▶️](https://www.youtube.com/watch?v=pGVguAcWX4g&list=PL_z_8CaSLPWekqhdCPmFohncHwz8TY2Go&index=38)\n",
    "[GFG](https://www.geeksforgeeks.org/problems/boolean-parenthesization5610/1)"
   ]
  },
  {
   "cell_type": "code",
   "execution_count": 16,
   "id": "5f862591",
   "metadata": {},
   "outputs": [
    {
     "name": "stdout",
     "output_type": "stream",
     "text": [
      "4\n"
     ]
    }
   ],
   "source": [
    "from icecream import ic\n",
    "\n",
    "def solve(i, j, s, boool):\n",
    "    if i > j:\n",
    "        return 0\n",
    "    if i == j:\n",
    "        if boool is True:\n",
    "            return int(s[i] == 'T')\n",
    "        else:\n",
    "            return int(s[i] == 'F')\n",
    "            \n",
    "    if table[i][j][int(boool)] != -1:\n",
    "        return table[i][j][int(boool)]\n",
    "        \n",
    "    ans = 0\n",
    "    for k in range(i+1, j, 2):\n",
    "        LT = solve(i, k-1, s, True)         # left true\n",
    "        LF = solve(i, k-1, s, False)        # left false\n",
    "        RT = solve(k+1, j, s, True)         # right true\n",
    "        RF = solve(k+1, j, s, False)        # right false  \n",
    "        if s[k] == '&':\n",
    "            if boool is True:\n",
    "                ans = ans + (LT * RT)\n",
    "            else:\n",
    "                ans = ans + (LT * RF) + (LF * RF) + (LF * RT)\n",
    "        elif s[k] == '|':\n",
    "            if boool is True:\n",
    "                ans = ans + (LT * RT) + (LT * RF) + (LF * RT)\n",
    "            else:\n",
    "                ans = ans + (LF * RF)\n",
    "        elif s[k] == '^':\n",
    "            if boool is True:\n",
    "                ans = ans + (LT * RF) + (LF * RT)\n",
    "            else:\n",
    "                ans = ans + (LT * RT) + (LF * RF)\n",
    "    table[i][j][int(boool)] = ans\n",
    "    return ans\n",
    "\n",
    "# --------------------------------------------------------\n",
    "# symbols = \"TF\"   # operators = \"&|^\"\n",
    "s = \"T|T&F^T\" #output = 4\n",
    "\n",
    "i = 0\n",
    "j = len(s) - 1\n",
    "table = [[[-1 for _ in (False, True)] for col in range(len(s))] for row in range(len(s))]  #table(row, col, bool)\n",
    "\n",
    "res = solve(i, j, s, True)\n",
    "print(res)"
   ]
  },
  {
   "cell_type": "markdown",
   "id": "460ec9a8-478f-4828-af79-0de11bd9567e",
   "metadata": {},
   "source": [
    "### 4.4 - Scrambled String [▶️](https://www.youtube.com/watch?v=SqA0o-DGmEw&list=PL_z_8CaSLPWekqhdCPmFohncHwz8TY2Go&index=40)"
   ]
  },
  {
   "cell_type": "code",
   "execution_count": null,
   "id": "1882e85f",
   "metadata": {},
   "outputs": [
    {
     "name": "stdout",
     "output_type": "stream",
     "text": [
      "True\n"
     ]
    }
   ],
   "source": [
    "from collections import defaultdict\n",
    "\n",
    "def solve(a, b):\n",
    "    if a == b:\n",
    "        return True\n",
    "    if len(a) <= 1:\n",
    "        return False\n",
    "    # ------------------------\n",
    "    if dp[f'{a}_{b}'] != -1:\n",
    "        return dp[f'{a}_{b}']\n",
    "    # ------------------------\n",
    "    flag = False\n",
    "    n = len(a)\n",
    "    for i in range(1, n):\n",
    "        swap_cond = solve(a[0:i], b[n-i:]) and solve(a[i:], b[0:n-i])\n",
    "        no_swap_cond = solve(a[0:i], b[0:i]) and solve(a[i:], b[i:])\n",
    "        \n",
    "        if swap_cond or no_swap_cond:\n",
    "            flag = True\n",
    "            break\n",
    "    # -------------------------\n",
    "    dp[f'{a}_{b}'] = flag\n",
    "    return flag\n",
    "\n",
    "# -----------------------------------------------\n",
    "a = 'great'\n",
    "b = 'rgaet'\n",
    "# ------------\n",
    "dp = defaultdict(lambda: -1)\n",
    "res = solve(a, b)\n",
    "print(res)"
   ]
  },
  {
   "cell_type": "markdown",
   "id": "574984c4-d9fd-4cbd-a12e-0d97d410af3a",
   "metadata": {},
   "source": [
    "### 4.5 Egg Dropping Problem\n",
    "find the minimum number of attemps in worst case "
   ]
  },
  {
   "cell_type": "code",
   "execution_count": 12,
   "id": "fcb2fae9-969b-40a5-8096-b4eaa1a26a65",
   "metadata": {},
   "outputs": [
    {
     "name": "stdout",
     "output_type": "stream",
     "text": [
      "4\n"
     ]
    }
   ],
   "source": [
    "from icecream import ic\n",
    "class EggDropping:\n",
    "    def __init__(self, num_egg, num_floor):\n",
    "        self.dp = [[-1 for col in range(num_floor+1)] for row in range(num_egg+1)]\n",
    "        self.res = self.solve(num_egg, num_floor)\n",
    "        \n",
    "    def solve(self, num_egg, num_floor):\n",
    "        if num_floor == 0 or num_floor == 1:\n",
    "            return num_floor    \n",
    "        if num_egg == 1:\n",
    "            return num_floor\n",
    "            \n",
    "        if self.dp[num_egg][num_floor] != -1:\n",
    "            return self.dp[num_egg][num_floor]\n",
    "        \n",
    "        mn = float('inf')\n",
    "        for k in range(1, num_floor+1):\n",
    "            sol1 = self.solve(num_egg-1, k-1)\n",
    "            sol2 = self.solve(num_egg, num_floor-k)\n",
    "            temp = 1 + max(sol1, sol2)\n",
    "            mn = min(mn, temp)\n",
    "        self.dp[num_egg][num_floor] = mn\n",
    "        return mn\n",
    "\n",
    "\n",
    "# -----------------------------------------------\n",
    "num_floor = 10\n",
    "num_egg = 3\n",
    "ss = EggDropping(num_egg, num_floor)\n",
    "print(ss.res)"
   ]
  },
  {
   "cell_type": "code",
   "execution_count": 4,
   "id": "581ee6d2-0b57-4285-9ecf-95a0a6b03e65",
   "metadata": {},
   "outputs": [],
   "source": [
    "# dd = defaultdict(lambda:-1)\n",
    "# print(dd)\n",
    "# print(dd[6] == -1)\n",
    "# print(dd)"
   ]
  },
  {
   "cell_type": "markdown",
   "id": "2e49a1bd-a2aa-4fa1-a0c9-ebf1b1ea9ea3",
   "metadata": {},
   "source": [
    "<h2 style=\"color: red\">05 - DP on Trees</h2>"
   ]
  },
  {
   "cell_type": "code",
   "execution_count": 1,
   "id": "e81b7e66-9f4c-4771-aa91-c25c4b404871",
   "metadata": {},
   "outputs": [],
   "source": []
  },
  {
   "cell_type": "code",
   "execution_count": null,
   "id": "e91435c7-872e-44b4-a55f-e60eb58a48da",
   "metadata": {},
   "outputs": [],
   "source": []
  },
  {
   "cell_type": "code",
   "execution_count": null,
   "id": "9e10d60a-3e30-4a0b-ad0e-1fea88190dae",
   "metadata": {},
   "outputs": [],
   "source": []
  },
  {
   "cell_type": "code",
   "execution_count": null,
   "id": "f27fa685-9860-47d4-8b7e-70e155c0df74",
   "metadata": {},
   "outputs": [],
   "source": []
  },
  {
   "cell_type": "code",
   "execution_count": null,
   "id": "5d74b79e-0bf2-432d-aa6c-6428d1ae03d1",
   "metadata": {},
   "outputs": [],
   "source": []
  },
  {
   "cell_type": "code",
   "execution_count": null,
   "id": "0ef05165-764d-4f6f-8108-18ac4d18990c",
   "metadata": {},
   "outputs": [],
   "source": []
  },
  {
   "cell_type": "code",
   "execution_count": null,
   "id": "b17bf4a0-9585-4e6f-b851-cc365faec12b",
   "metadata": {},
   "outputs": [],
   "source": []
  },
  {
   "cell_type": "code",
   "execution_count": null,
   "id": "c3baaddd-a402-4f47-9294-86bdc9e93810",
   "metadata": {},
   "outputs": [],
   "source": []
  },
  {
   "cell_type": "code",
   "execution_count": null,
   "id": "4423b6d7-3ff4-4550-94f9-f3c591142eb1",
   "metadata": {},
   "outputs": [],
   "source": []
  },
  {
   "cell_type": "code",
   "execution_count": null,
   "id": "da563867-da9f-4fce-aaf4-25a7f12030d5",
   "metadata": {},
   "outputs": [],
   "source": []
  },
  {
   "cell_type": "code",
   "execution_count": null,
   "id": "e74bb607-d5f4-426a-968c-4825f7804dbe",
   "metadata": {},
   "outputs": [],
   "source": []
  },
  {
   "cell_type": "code",
   "execution_count": null,
   "id": "0bfa0f67-ed57-48d7-812c-466b82e7453c",
   "metadata": {},
   "outputs": [],
   "source": []
  },
  {
   "cell_type": "code",
   "execution_count": null,
   "id": "1ac1867b-def0-4287-b23a-d56040192a08",
   "metadata": {},
   "outputs": [],
   "source": []
  },
  {
   "cell_type": "code",
   "execution_count": null,
   "id": "05cf85a7-f14a-488f-9889-8f4c7efef013",
   "metadata": {},
   "outputs": [],
   "source": []
  }
 ],
 "metadata": {
  "kernelspec": {
   "display_name": "Python 3",
   "language": "python",
   "name": "python3"
  },
  "language_info": {
   "codemirror_mode": {
    "name": "ipython",
    "version": 3
   },
   "file_extension": ".py",
   "mimetype": "text/x-python",
   "name": "python",
   "nbconvert_exporter": "python",
   "pygments_lexer": "ipython3",
   "version": "3.11.1"
  }
 },
 "nbformat": 4,
 "nbformat_minor": 5
}

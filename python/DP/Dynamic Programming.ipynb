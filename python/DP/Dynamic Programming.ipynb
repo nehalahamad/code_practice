{
 "cells": [
  {
   "cell_type": "code",
   "execution_count": 70,
   "id": "db226fd2-a9c9-4723-9ef9-03cba1056c80",
   "metadata": {},
   "outputs": [],
   "source": [
    "# Types of DP\n",
    "# 01 - 0/1 Knapsack (subsetsum, equal sum partition, count of subsetsum, minimum subsetsum diff, target sum, number of subsetsum with given diff)\n",
    "# 02 - Unbounded Knapsack\n",
    "# 03 - Longest Common Subsequene (LCS)\n",
    "# 04 - LIS\n",
    "# 05 - Kadani's Algorithm\n",
    "# 06 - DP on Trees\n",
    "# 07 - DP on Grid\n",
    "# 08 - Fibonaci\n",
    "# 09 - Others"
   ]
  },
  {
   "cell_type": "markdown",
   "id": "6c39ace3",
   "metadata": {},
   "source": [
    "<h2 style=\"color: red\">01 - 0/1-Knapsack</h2>\n",
    "https://www.youtube.com/playlist?list=PL_z_8CaSLPWekqhdCPmFohncHwz8TY2Go\n"
   ]
  },
  {
   "cell_type": "code",
   "execution_count": 4,
   "id": "bf2f7205",
   "metadata": {},
   "outputs": [],
   "source": [
    "# profit = [60, 100, 120]\n",
    "# weight = [10, 20, 30]\n",
    "# W = 35\n",
    "# --------------------------------------\n",
    "# profit = [55, 10, 47, 5,4,50,8,61,85,87]\n",
    "# weight = [95,4,60,32,23,72,80,62,65,46]\n",
    "# W = 269\n",
    "# --------------------------------------\n",
    "# profit = [20, 5, 10, 40, 15, 25]\n",
    "# weight = [ 1, 2, 3, 8, 7, 4 ]\n",
    "# W = 10\n",
    "# --------------------------------------\n",
    "profit = [44,46,90,72,91,40,75,35,8,54,78,40,77,15,61,17,75,29,75,63] # output 1024\n",
    "weight = [92,4,43,83,84,68,92,82,6,44,32,18,56,83,25,96,70,48,14,58]\n",
    "W = 878\n",
    "# ======================================\n",
    "p, w = profit, weight\n",
    "n = len(p)"
   ]
  },
  {
   "cell_type": "code",
   "execution_count": 8,
   "id": "1952a286",
   "metadata": {},
   "outputs": [
    {
     "name": "stdout",
     "output_type": "stream",
     "text": [
      "1024\n"
     ]
    }
   ],
   "source": [
    "# 0-1 knapsack  (Recursive)\n",
    "def KS_r(n, W):\n",
    "    global p, w\n",
    "    # global w\n",
    "    if n==0 or W==0:\n",
    "        return 0 \n",
    "    else:\n",
    "        if w[n-1] <= W:\n",
    "            return max( p[n-1]+KS_r(n-1, W-w[n-1]), KS_r(n-1, W) )\n",
    "        else:\n",
    "            return KS_r(n-1, W)\n",
    "# -------------------------------------------------------------\n",
    "print(KS_r(n, W))"
   ]
  },
  {
   "cell_type": "code",
   "execution_count": 11,
   "id": "17c9f5a1",
   "metadata": {},
   "outputs": [
    {
     "name": "stdout",
     "output_type": "stream",
     "text": [
      "1024\n"
     ]
    }
   ],
   "source": [
    "# 0-1 knapsack with memoization  (Recursive + table) (Top Down)\n",
    "def KS_m(n, W):\n",
    "    global t, p, w\n",
    "    if n==0 or W==0:\n",
    "        return 0\n",
    "    if t[n][W] != -1:\n",
    "        return t[n][W]\n",
    "    else:\n",
    "        if w[n-1]<=W:\n",
    "            t[n][W] =  max( p[n-1]+KS_m(n-1, W-w[n-1]), KS_m(n-1, W) )\n",
    "            return t[n][W]\n",
    "        else:\n",
    "            t[n][W] = KS_m(n-1, W)\n",
    "            return t[n][W]\n",
    "# ------------------------------------------------------------- \n",
    "t = [[-1 for i in range(W + 1)] for j in range(n + 1)]\n",
    "print(KS_m(n, W))"
   ]
  },
  {
   "cell_type": "code",
   "execution_count": 12,
   "id": "f059787c",
   "metadata": {},
   "outputs": [
    {
     "name": "stdout",
     "output_type": "stream",
     "text": [
      "1024\n"
     ]
    }
   ],
   "source": [
    "# 0-1 knapsack DP (Bottom Up)\n",
    "def KS_dp(n, W):\n",
    "    global p, w\n",
    "    # dp table initialization\n",
    "    dp = [[0 for i in range(W + 1)] for j in range(n + 1)]\n",
    "\n",
    "    for i in range(1, n+1):\n",
    "        for j in range(1, W+1):\n",
    "            if w[i-1]<=j:\n",
    "                dp[i][j] = max( p[i-1]+dp[i-1][j-w[i-1]], dp[i-1][j] )\n",
    "            else:\n",
    "                dp[i][j] = dp[i-1][j]\n",
    "    return dp[-1][-1]\n",
    "# --------------------------------------------------------\n",
    "print(KS_dp(n, W))"
   ]
  },
  {
   "cell_type": "code",
   "execution_count": 23,
   "id": "2cd8a361",
   "metadata": {},
   "outputs": [
    {
     "name": "stdout",
     "output_type": "stream",
     "text": [
      "1024 1024 1024\n"
     ]
    }
   ],
   "source": [
    "k1 = KS_r(n, W)\n",
    "k2 = KSm(n, W)\n",
    "k3 = KS_dp(n, W)\n",
    "\n",
    "print(k1, k2, k3)"
   ]
  },
  {
   "cell_type": "markdown",
   "id": "422f3af7",
   "metadata": {},
   "source": [
    "### 1.1 - Subset Sum"
   ]
  },
  {
   "cell_type": "code",
   "execution_count": 16,
   "id": "a4678abb",
   "metadata": {},
   "outputs": [
    {
     "name": "stdout",
     "output_type": "stream",
     "text": [
      "True\n"
     ]
    }
   ],
   "source": [
    "# Subset sum Recursive\n",
    "def SS_r(i:int, S:int) -> bool:\n",
    "    global arr\n",
    "    if i == 0: return False\n",
    "    if S == 0: return True\n",
    "    if arr[i-1] <= S:\n",
    "        return SS_r(i-1, S-arr[i-1]) | SS_r(i-1, S)\n",
    "    else:\n",
    "        return SS_r(i-1, S)\n",
    "# -------------------------------------------------\n",
    "arr = [2,3,7,8,10]\n",
    "W = 13\n",
    "n = len(arr)\n",
    "print(SS_r(n, W))"
   ]
  },
  {
   "cell_type": "code",
   "execution_count": 57,
   "id": "cb1f749e",
   "metadata": {},
   "outputs": [
    {
     "name": "stdout",
     "output_type": "stream",
     "text": [
      "True\n"
     ]
    }
   ],
   "source": [
    "# Subset sum problem (DP)\n",
    "def SS_dp(n:int, S:int) -> bool:\n",
    "    global arr\n",
    "    # Table Initialization\n",
    "    table = [[False for i in range(S + 1)] for j in range(n + 1)]\n",
    "    for i in range(n+1):\n",
    "        table[i][0] = True\n",
    "    \n",
    "    for i in range(1, n+1):\n",
    "        for j in range(1, S+1):\n",
    "            if arr[i-1] <= j:\n",
    "                table[i][j] = table[i-1][j-arr[i-1]] | table[i-1][j]\n",
    "            else:\n",
    "                table[i][j] = table[i-1][j]\n",
    "    return table[-1][-1]\n",
    "# ==========================================================\n",
    "arr = [2,3,7,8,10]\n",
    "subset_sum = 13\n",
    "n = len(arr)\n",
    "print(SS_dp(n, subset_sum))\n"
   ]
  },
  {
   "cell_type": "code",
   "execution_count": 29,
   "id": "e0fb08d1-f313-4b1f-a3c5-34b21e113995",
   "metadata": {},
   "outputs": [
    {
     "name": "stdout",
     "output_type": "stream",
     "text": [
      "7\n",
      "5\n"
     ]
    }
   ],
   "source": [
    "print(0b111 or 0b100)\n",
    "print(0b101 | 0b100)\n"
   ]
  },
  {
   "cell_type": "markdown",
   "id": "29e0bf3b",
   "metadata": {},
   "source": [
    "### 1.2 - Equal Sum partition"
   ]
  },
  {
   "cell_type": "code",
   "execution_count": 40,
   "id": "4227eb80",
   "metadata": {},
   "outputs": [
    {
     "name": "stdout",
     "output_type": "stream",
     "text": [
      "True\n"
     ]
    }
   ],
   "source": [
    "def ESP(arr) -> bool:\n",
    "    if sum(arr)%2==1:\n",
    "        return False\n",
    "    W = sum(arr)//2\n",
    "    return SS_dp(len(arr), W)\n",
    "# ==========================================\n",
    "arr = [2,3,7,8,10]\n",
    "print(ESP(arr))"
   ]
  },
  {
   "cell_type": "markdown",
   "id": "d4d3aceb",
   "metadata": {},
   "source": [
    "### 1.3 - Count of subset sum"
   ]
  },
  {
   "cell_type": "code",
   "execution_count": 54,
   "id": "ae8c96f9",
   "metadata": {},
   "outputs": [
    {
     "name": "stdout",
     "output_type": "stream",
     "text": [
      "3\n"
     ]
    }
   ],
   "source": [
    "def CSS_dp(n, W):\n",
    "    global arr\n",
    "    # Table Initialization\n",
    "    table = [[0 for i in range(W+1)] for j in range(n+1)]\n",
    "    for i in range(n+1):\n",
    "        table[i][0] = 1\n",
    "\n",
    "    for i in range(1, n+1):\n",
    "        for j in range(1, W+1):\n",
    "            if arr[i-1]<=j:\n",
    "                table[i][j] = table[i-1][j-arr[i-1]] + table[i-1][j]\n",
    "            else:\n",
    "                table[i][j] = table[i-1][j]\n",
    "    return table[-1][-1]\n",
    "\n",
    "# ==========================================\n",
    "arr = [2,3,7,8,10]\n",
    "W = 10\n",
    "n = len(arr)\n",
    "print(CSS_dp(n, W))"
   ]
  },
  {
   "cell_type": "markdown",
   "id": "b0b67718",
   "metadata": {},
   "source": [
    "### 1.4 - Minimum Subset Sum Difference\n",
    "dividing the given subset into s1, s2 such that abs(s2-s1) is minimum_val <br>\n",
    "Solution:<br>\n",
    "since <br>\n",
    "s1 + s2 = W <br>\n",
    "s2 = W - s1  ----(1)<br>\n",
    "given  s2 - s1 = minimum_val   ----(2) <br>\n",
    "from (1) and (2) <br>\n",
    "W - 2 * s1 = minimum_val"
   ]
  },
  {
   "cell_type": "code",
   "execution_count": 52,
   "id": "d81840d1",
   "metadata": {},
   "outputs": [
    {
     "name": "stdout",
     "output_type": "stream",
     "text": [
      "1\n"
     ]
    }
   ],
   "source": [
    "def mSS(arr):\n",
    "    n, W = len(arr), sum(arr)\n",
    "    # Table Initialization\n",
    "    table = [[False for i in range(W + 1)] for j in range(n + 1)]\n",
    "    for i in range(n+1):\n",
    "        table[i][0] = True\n",
    "        \n",
    "    for i in range(1, n+1):\n",
    "        for j in range(1, W+1):\n",
    "            if arr[i-1]<=j:\n",
    "                table[i][j] = table[i-1][j-arr[i-1]] | table[i-1][j]\n",
    "            else:\n",
    "                table[i][j] = table[i-1][j]\n",
    "    mininum_val = W\n",
    "    for k in range(W//2+1):\n",
    "        if table[-1][k]:\n",
    "            mininum_val = min(mininum_val, W-2*k)\n",
    "    return mininum_val\n",
    "\n",
    "# ===========================================\n",
    "arr = [2,3,7,8,10,5]\n",
    "print(mSS(arr))"
   ]
  },
  {
   "cell_type": "markdown",
   "id": "d7f3a0a8",
   "metadata": {},
   "source": [
    "### 1.5 - Count the number of subset with a given difference"
   ]
  },
  {
   "cell_type": "code",
   "execution_count": 59,
   "id": "14a893ea",
   "metadata": {},
   "outputs": [
    {
     "name": "stdout",
     "output_type": "stream",
     "text": [
      "3\n"
     ]
    }
   ],
   "source": [
    "# arr = [2,3,7,8,10,5]\n",
    "arr = [1,1,2,3]\n",
    "diff = 1\n",
    "n = len(arr)\n",
    "sum1 = (sum(arr)+diff)//2\n",
    "print(CSS_dp(n, sum1))\n",
    "\n",
    "# S1 - S2 = diff  ------(1) and\n",
    "# S1 + S2 = sum(arr)  --(2)\n",
    "# solving (1)&(2)\n",
    "# S1 = (sum(arr)+diff)//2"
   ]
  },
  {
   "cell_type": "code",
   "execution_count": 47,
   "id": "73dc3cc2-31f3-4590-8129-5742c79659d1",
   "metadata": {},
   "outputs": [
    {
     "name": "stdout",
     "output_type": "stream",
     "text": [
      "[1, 4, 9]\n"
     ]
    }
   ],
   "source": [
    "n = 12\n",
    "arr = [i**2 for i in range(1, n) if i**2 <= n]\n",
    "print(arr)"
   ]
  },
  {
   "cell_type": "markdown",
   "id": "12e1164f",
   "metadata": {},
   "source": [
    "### 1.6 - Target Sum\n",
    "https://www.youtube.com/watch?v=Hw6Ygp3JBYw&list=PL_z_8CaSLPWekqhdCPmFohncHwz8TY2Go&index=12"
   ]
  },
  {
   "cell_type": "code",
   "execution_count": 60,
   "id": "8eeb9bab",
   "metadata": {},
   "outputs": [],
   "source": [
    "# it is nothing but count the number of subset with a given difference"
   ]
  },
  {
   "cell_type": "markdown",
   "id": "007b1d95",
   "metadata": {},
   "source": [
    "<h2 style=\"color: red\">02 - Unbounded Knapsack</h2>\n",
    "https://www.youtube.com/watch?v=aycn9KO8_Ls&list=PL_z_8CaSLPWekqhdCPmFohncHwz8TY2Go&index=13"
   ]
  },
  {
   "cell_type": "code",
   "execution_count": null,
   "id": "112a2b6e-3ba4-4885-b4d5-a087c522c9d0",
   "metadata": {},
   "outputs": [],
   "source": [
    "# Bounded Knapsack    dp[i][j] = max( p[i-1] + dp[i-1][j-w[i-1]], dp[i-1][j] )\n",
    "# Unbounded Knapsack  dp[i][j] = max( p[i-1] + dp[i][j-w[i-1]],   dp[i-1][j] )"
   ]
  },
  {
   "cell_type": "code",
   "execution_count": 64,
   "id": "3ac763d0-3e6b-4a75-aad8-1f061e8c68c5",
   "metadata": {},
   "outputs": [
    {
     "name": "stdout",
     "output_type": "stream",
     "text": [
      "1052\n"
     ]
    }
   ],
   "source": [
    "def Unbounded_KS_r(n, W):\n",
    "    global p, w\n",
    "    # global w\n",
    "    if n==0 or W==0:\n",
    "        return 0\n",
    "    else:\n",
    "        if w[n-1]<=W:\n",
    "            return max( p[n-1]+KS_r(n, W-w[n-1]), KS_r(n-1, W) )\n",
    "        else:\n",
    "            return KS_r(n-1, W)\n",
    "# -------------------------------------------------------------\n",
    "p = [44,46,90,72,91,40,75,35,8,54,78,40,77,15,61,17,75,29,75,63]\n",
    "w = [92,4,43,83,84,68,92,82,6,44,32,18,56,83,25,96,70,48,14,58]\n",
    "W = 878\n",
    "n = len(p)\n",
    "print(Unbounded_KS_r(n, W))"
   ]
  },
  {
   "cell_type": "code",
   "execution_count": 68,
   "id": "fca6cdbe",
   "metadata": {},
   "outputs": [
    {
     "data": {
      "text/plain": [
       "230"
      ]
     },
     "execution_count": 68,
     "metadata": {},
     "output_type": "execute_result"
    }
   ],
   "source": [
    "def unbounded_ks_dp(n, W):\n",
    "    global w\n",
    "    global p\n",
    "    table = [[0 for i in range(W+1)] for j in range(n+1)]\n",
    "    for i in range(1, n+1):\n",
    "        for j in range(1, W+1):\n",
    "            if w[i-1] <= j:\n",
    "                table[i][j] = max(p[i-1]+table[i][j-w[i-1]], table[i-1][j])\n",
    "            else:\n",
    "                table[i][j] = table[i-1][j]\n",
    "    return table[-1][-1]\n",
    "\n",
    "p = [44,46,90,72,91,40,75,35,8,54,78,40,77,15,61,17,75,29,75,63]\n",
    "w = [92,4,43,83,84,68,92,82,6,44,32,18,56,83,25,96,70,48,14,58]\n",
    "W = 20\n",
    "n = len(p)\n",
    "\n",
    "unbounded_ks_dp(n, W)"
   ]
  },
  {
   "cell_type": "markdown",
   "id": "4219f818",
   "metadata": {},
   "source": [
    "#### 2.1 - Rod Cutting problem\n",
    "it is same as unbounded knapsack problem asked in a different way <br> \n",
    "https://www.youtube.com/watch?v=SZqAQLjDsag&list=PL_z_8CaSLPWekqhdCPmFohncHwz8TY2Go&index=14"
   ]
  },
  {
   "cell_type": "markdown",
   "id": "400e6ce4-dd9e-494b-8e48-6f53b03c093e",
   "metadata": {},
   "source": [
    "Given a rod of length N inches and an array of prices, price[]. price[i] denotes the value of a piece of length i. Determine the maximum value obtainable by cutting up the rod and selling the pieces."
   ]
  },
  {
   "cell_type": "code",
   "execution_count": 69,
   "id": "16c2cf57",
   "metadata": {},
   "outputs": [
    {
     "data": {
      "text/plain": [
       "880"
      ]
     },
     "execution_count": 69,
     "metadata": {},
     "output_type": "execute_result"
    }
   ],
   "source": [
    "value = [44,46,90,72,91,40,75,35,8,54,78,40,77,15,61,17,75,29,75,63]\n",
    "N = 20\n",
    "# -------------\n",
    "length = list(range(1, N+1))\n",
    "w, p = length, value\n",
    "n, W = N, N\n",
    "unbounded_ks_dp(n, W)"
   ]
  },
  {
   "cell_type": "markdown",
   "id": "58fccffb",
   "metadata": {},
   "source": [
    "#### 2.2 - Coin change problem Maximum number of ways\n",
    "https://www.youtube.com/watch?v=I4UR2T6Ro3w&list=PL_z_8CaSLPWekqhdCPmFohncHwz8TY2Go&index=15"
   ]
  },
  {
   "cell_type": "code",
   "execution_count": 74,
   "id": "fa5bc8b7",
   "metadata": {},
   "outputs": [
    {
     "data": {
      "text/plain": [
       "5"
      ]
     },
     "execution_count": 74,
     "metadata": {},
     "output_type": "execute_result"
    }
   ],
   "source": [
    "def count_unbounded_ks_dp(n, W):\n",
    "    global w\n",
    "    # table initialization\n",
    "    table = [[0 for i in range(W+1)] for j in range(n+1)]\n",
    "    for i in range(n+1):\n",
    "        table[i][0] = 1\n",
    "        \n",
    "    for i in range(1, n+1):\n",
    "        for j in range(1, W+1):\n",
    "            if w[i-1]<=j:\n",
    "                table[i][j] = table[i][j-w[i-1]] + table[i-1][j]\n",
    "            else:\n",
    "                table[i][j] = table[i-1][j]\n",
    "    return table[-1][-1]\n",
    "\n",
    "# ----------------------------------\n",
    "coin = [1, 2, 3]\n",
    "summ = 5 \n",
    "\n",
    "w = coin\n",
    "count_unbounded_ks_dp(len(coin), summ)"
   ]
  },
  {
   "cell_type": "markdown",
   "id": "ec92964e",
   "metadata": {},
   "source": [
    "#### 2.3 - Coin change problem (minimum number of coins)\n",
    "https://www.youtube.com/watch?v=I-l6PBeERuc&list=PL_z_8CaSLPWekqhdCPmFohncHwz8TY2Go&index=16"
   ]
  },
  {
   "cell_type": "code",
   "execution_count": 77,
   "id": "b15f13a4",
   "metadata": {},
   "outputs": [
    {
     "data": {
      "text/plain": [
       "2"
      ]
     },
     "execution_count": 77,
     "metadata": {},
     "output_type": "execute_result"
    }
   ],
   "source": [
    "def min_coin_change(n, W):\n",
    "    global coin\n",
    "    table = [[0 for i in range(W+1)] for j in range(n+1)]\n",
    "    # filling first row\n",
    "    for j in range(W+1):\n",
    "        table[0][j] = float('inf')\n",
    "    # filling second row\n",
    "    for j in range(W+1):\n",
    "        if j%coin[0] == 0:\n",
    "            table[1][j] = j // coin[0]\n",
    "        else:\n",
    "            table[1][j] = float('inf')\n",
    "            \n",
    "        # if j%coin[0]==1:\n",
    "            # table[1][j] = float('inf')\n",
    "        \n",
    "    for i in range(1, n+1):\n",
    "        for j in range(1, W+1):\n",
    "            if coin[i-1] <= j:\n",
    "                table[i][j] = min(table[i][j-coin[i-1]]+1, table[i-1][j])\n",
    "            else:\n",
    "                table[i][j] = table[i-1][j]\n",
    "    return table[-1][-1]\n",
    "\n",
    "# -----------------------------------------\n",
    "coin = [1, 2, 3, 4]\n",
    "sums = 5\n",
    "min_coin_change(len(coin), sums)"
   ]
  },
  {
   "cell_type": "markdown",
   "id": "7e5c0c3d",
   "metadata": {},
   "source": [
    "<h2 style=\"color: red\">03 - Longest Common Subsequence (LCS)</h2>\n",
    "https://www.youtube.com/watch?v=4dMlCZTONj8&list=PL_z_8CaSLPWekqhdCPmFohncHwz8TY2Go&index=18 <br>\n",
    "Recursive, \n",
    "Bottomup (Memoization), \n",
    "Topdown (DP)"
   ]
  },
  {
   "cell_type": "code",
   "execution_count": 77,
   "id": "24ee5eb2",
   "metadata": {},
   "outputs": [
    {
     "name": "stdout",
     "output_type": "stream",
     "text": [
      "4\n",
      "4\n",
      "4\n"
     ]
    }
   ],
   "source": [
    "# length of longest common subsequence\n",
    "def LCS_r(x, y, m, n):\n",
    "    if m==0 or n==0:\n",
    "        return 0\n",
    "    if x[m-1]==y[n-1]:\n",
    "        return 1 + LCS_r(x, y, m-1, n-1)\n",
    "    else:\n",
    "        return max( LCS_r(x, y, m, n-1), LCS_r(x, y, m-1, n) )\n",
    "# ---------------------------------------------------------------------\n",
    "def LCS_m(x:str, y:str, m:int, n:int) -> int:\n",
    "    global t\n",
    "    if m==0 or n==0:\n",
    "        return 0\n",
    "    if t[m][n] != -1:\n",
    "        return t[m][n]\n",
    "    if x[m-1]==y[n-1]:\n",
    "        t[m][n] = 1 + LCS_m(x, y, m-1, n-1)\n",
    "        return t[m][n]\n",
    "    else:\n",
    "        t[m][n] = max(LCS_m(x, y, m-1, n), LCS_m(x, y, m, n-1))\n",
    "        return t[m][n]\n",
    "# --------------------------------------------------------------\n",
    "def LCS_dp(x, y, m, n)->int:\n",
    "    table = [[0 for i in range(n+1)] for j in range(m+1)]\n",
    "    for i in range(1, m+1):\n",
    "        for j in range(1, n+1):\n",
    "            if x[i-1]==y[j-1]:\n",
    "                table[i][j] = 1 + table[i-1][j-1]\n",
    "            else:\n",
    "                table[i][j] = max(table[i-1][j], table[i][j-1])\n",
    "    return table[-1][-1]\n",
    "# -----------------------------------------------------------\n",
    "x = 'nehalm'\n",
    "y = 'ehlkm'\n",
    "m, n = len(x), len(y)\n",
    "print(LCS_r(x, y, m, n))\n",
    "\n",
    "t = [[-1 for i in range(n+1)] for j in range(m+1)]\n",
    "print(LCS_m(x, y, m, n))\n",
    "\n",
    "print(LCS_dp(x, y, m, n))"
   ]
  },
  {
   "cell_type": "markdown",
   "id": "137faf31",
   "metadata": {},
   "source": [
    "### Longest Common Substring"
   ]
  },
  {
   "cell_type": "code",
   "execution_count": 78,
   "id": "b855e96b",
   "metadata": {},
   "outputs": [
    {
     "data": {
      "text/plain": [
       "4"
      ]
     },
     "execution_count": 78,
     "metadata": {},
     "output_type": "execute_result"
    }
   ],
   "source": [
    "def LCSubstring_dp(x:str, y:str, m:int, n:int) ->int:\n",
    "    table = [[0 for i in range(n+1)] for j in range(m+1)]\n",
    "    sub_str_len = 0\n",
    "    for i in range(1, m+1):\n",
    "        for j in range(1, n+1):\n",
    "            if x[i-1]==y[j-1]:\n",
    "                table[i][j] = 1 + table[i-1][j-1]\n",
    "            else:\n",
    "                table[i][j] = 0\n",
    "    return max([max(r) for r in table])\n",
    "        \n",
    "x = 'nehalmb'\n",
    "y = 'ehalkm'\n",
    "m, n = len(x), len(y)\n",
    "\n",
    "LCSubstring_dp(x, y, m, n)"
   ]
  },
  {
   "cell_type": "code",
   "execution_count": 79,
   "id": "1abc3cc3",
   "metadata": {},
   "outputs": [
    {
     "data": {
      "text/plain": [
       "'ehlm'"
      ]
     },
     "execution_count": 79,
     "metadata": {},
     "output_type": "execute_result"
    }
   ],
   "source": [
    "# printing shortest common subsequence\n",
    "def LCS_dp1(x, y, m, n) -> str:\n",
    "    table = [[0 for i in range(n+1)] for j in range(m+1)]\n",
    "    for i in range(1, m+1):\n",
    "        for j in range(1, n+1):\n",
    "            if x[i-1]==y[j-1]:\n",
    "                table[i][j] = 1 + table[i-1][j-1]\n",
    "            else:\n",
    "                table[i][j] = max(table[i-1][j], table[i][j-1])\n",
    "    i, j = m, n\n",
    "    subsequence = ''\n",
    "    while i>0 and j>0:\n",
    "        if x[i-1]==y[j-1]:\n",
    "            subsequence = x[i-1] + subsequence\n",
    "            i -= 1\n",
    "            j -= 1\n",
    "        elif table[i][j-1] > table[i-1][j]:\n",
    "                j -= 1\n",
    "        else:\n",
    "            i -= 1\n",
    "    return subsequence\n",
    "# ---------------------------------------------------\n",
    "x = 'nehalm'\n",
    "y = 'ehlkm'\n",
    "m, n = len(x), len(y)\n",
    "\n",
    "LCS_dp1(x, y, m, n)"
   ]
  },
  {
   "cell_type": "markdown",
   "id": "5999b2ce",
   "metadata": {},
   "source": [
    "### Shortest Common SuperSequence (SCS)"
   ]
  },
  {
   "cell_type": "code",
   "execution_count": 97,
   "id": "c492a5f7",
   "metadata": {},
   "outputs": [
    {
     "data": {
      "text/plain": [
       "7"
      ]
     },
     "execution_count": 97,
     "metadata": {},
     "output_type": "execute_result"
    }
   ],
   "source": [
    "def SCS_dp(x:str, y:str, m:int, n:int) -> int:\n",
    "    lcs = LCS_dp(x, y, m, n)\n",
    "    return m+n-lcs\n",
    "# -----------------------------------------\n",
    "x = 'nehalm'\n",
    "y = 'ehlkm'\n",
    "m, n = len(x), len(y)\n",
    "SCS_dp(x, y, m, n)"
   ]
  },
  {
   "cell_type": "markdown",
   "id": "1e11a5ca",
   "metadata": {},
   "source": [
    "### Minimum number of insertion and deletion to convert string a to b"
   ]
  },
  {
   "cell_type": "code",
   "execution_count": 85,
   "id": "300c7258",
   "metadata": {},
   "outputs": [
    {
     "data": {
      "text/plain": [
       "3"
      ]
     },
     "execution_count": 85,
     "metadata": {},
     "output_type": "execute_result"
    }
   ],
   "source": [
    "def min_num_of_ins_and_del_to_convert_a_to_b(x:str, y:str, m:int, n:int) -> int:\n",
    "    lcs = LCS_dp(x, y, m, n)\n",
    "    return m+n-2*lcs\n",
    "# -----------------------------------------\n",
    "x = 'nehalm'\n",
    "y = 'ehlkm'\n",
    "m, n = len(x), len(y)\n",
    "min_num_of_ins_and_del_to_convert_a_to_b(x, y, m, n)"
   ]
  },
  {
   "cell_type": "markdown",
   "id": "e9a07883",
   "metadata": {},
   "source": [
    "### Longest Palindromic Subsequence (LPS)"
   ]
  },
  {
   "cell_type": "code",
   "execution_count": 91,
   "id": "48227388",
   "metadata": {},
   "outputs": [
    {
     "data": {
      "text/plain": [
       "5"
      ]
     },
     "execution_count": 91,
     "metadata": {},
     "output_type": "execute_result"
    }
   ],
   "source": [
    "x = 'agbcba'\n",
    "y = x[::-1]\n",
    "m, n = len(x), len(y)\n",
    "LCS_dp(x, y, m, n)"
   ]
  },
  {
   "cell_type": "markdown",
   "id": "853a7a62",
   "metadata": {},
   "source": [
    "### Minimum number of deletion in a string to make it palindrom"
   ]
  },
  {
   "cell_type": "code",
   "execution_count": 92,
   "id": "64413e9c",
   "metadata": {},
   "outputs": [
    {
     "name": "stdout",
     "output_type": "stream",
     "text": [
      "1\n"
     ]
    }
   ],
   "source": [
    "x = 'agbcba'\n",
    "y = x[::-1]\n",
    "m, n = len(x), len(y)\n",
    "lcs = LCS_dp(x, y, m, n)\n",
    "min_del = m-lcs\n",
    "print(min_del)"
   ]
  },
  {
   "cell_type": "code",
   "execution_count": 100,
   "id": "60b4fb00",
   "metadata": {},
   "outputs": [
    {
     "data": {
      "text/plain": [
       "'nehalkm'"
      ]
     },
     "execution_count": 100,
     "metadata": {},
     "output_type": "execute_result"
    }
   ],
   "source": [
    "# print SCS (shortest common supersequence)\n",
    "def SCS_dp1(x, y, m, n) -> str:\n",
    "    table = [[0 for i in range(n+1)] for j in range(m+1)]\n",
    "    for i in range(1, m+1):\n",
    "        for j in range(1, n+1):\n",
    "            if x[i-1]==y[j-1]:\n",
    "                table[i][j] = 1 + table[i-1][j-1]\n",
    "            else:\n",
    "                table[i][j] = max(table[i-1][j], table[i][j-1])\n",
    "    i, j = m, n\n",
    "    subsequence = ''\n",
    "    while i>0 and j>0:\n",
    "        if x[i-1]==y[j-1]:\n",
    "            subsequence = x[i-1] + subsequence\n",
    "            i -= 1\n",
    "            j -= 1\n",
    "        elif table[i][j-1] > table[i-1][j]:\n",
    "            subsequence = y[j-1] + subsequence\n",
    "            j -= 1\n",
    "        else:\n",
    "            subsequence = x[i-1] + subsequence\n",
    "            i -= 1\n",
    "    while i>0:\n",
    "        subsequence = x[i-1] + subsequence\n",
    "        i -= 1\n",
    "    while j>0:\n",
    "        subsequence = y[j-1] + subsequence\n",
    "        j -= 1\n",
    "    return subsequence\n",
    "# ---------------------------------------------------\n",
    "x = 'nehalm'\n",
    "y = 'ehlkm'\n",
    "m, n = len(x), len(y)\n",
    "\n",
    "SCS_dp1(x, y, m, n)"
   ]
  },
  {
   "cell_type": "code",
   "execution_count": 105,
   "id": "74208d6e",
   "metadata": {},
   "outputs": [
    {
     "name": "stdout",
     "output_type": "stream",
     "text": [
      "2\n"
     ]
    }
   ],
   "source": [
    "def longest_repeating_subsequence(x, y, m, n) -> int:\n",
    "    table = [[0 for i in range(n+1)] for j in range(m+1)]\n",
    "    for i in range(1, m+1):\n",
    "        for j in range(1, n+1):\n",
    "            if x[i-1]==y[j-1] and i!=j:\n",
    "                table[i][j] = 1 + table[i-1][j-1]\n",
    "            else:\n",
    "                table[i][j] = max(table[i-1][j], table[i][j-1])\n",
    "    return table[-1][-1]\n",
    "# -----------------------------------------------------------\n",
    "x = 'neenhahlm'\n",
    "y = x\n",
    "m, n = len(x), len(y)\n",
    "print(longest_repeating_subsequence(x, y, m, n))"
   ]
  },
  {
   "cell_type": "markdown",
   "id": "5178a447",
   "metadata": {},
   "source": [
    "### Sequence Pattern Matching"
   ]
  },
  {
   "cell_type": "code",
   "execution_count": 123,
   "id": "25b3a3ba",
   "metadata": {},
   "outputs": [
    {
     "data": {
      "text/plain": [
       "True"
      ]
     },
     "execution_count": 123,
     "metadata": {},
     "output_type": "execute_result"
    }
   ],
   "source": [
    "def SPM(x, y, m, n):\n",
    "    lcs = LCS_dp(x, y, m, n)\n",
    "    return lcs == min(m, n)\n",
    "# -------------------------------------------\n",
    "x = 'neenhahlm'\n",
    "y = 'nhahl'\n",
    "m, n = len(x), len(y)\n",
    "SPM(x, y, m, n)"
   ]
  },
  {
   "cell_type": "markdown",
   "id": "3a2fb918",
   "metadata": {},
   "source": [
    "## Matrix Chain Multiplication (MCM)"
   ]
  },
  {
   "cell_type": "code",
   "execution_count": 3,
   "id": "93ed766c",
   "metadata": {},
   "outputs": [
    {
     "data": {
      "text/plain": [
       "26000"
      ]
     },
     "execution_count": 3,
     "metadata": {},
     "output_type": "execute_result"
    }
   ],
   "source": [
    "# Recursive MCM\n",
    "def mcm_r(arr, i, j):\n",
    "    if i >= j:\n",
    "        return 0\n",
    "    mn = float('inf')\n",
    "    for k in range(i, j):\n",
    "        temp = mcm_r(arr, i, k) + mcm_r(arr, k+1, j) + arr[i-1]*arr[k]*arr[j]\n",
    "        mn = min(mn, temp)\n",
    "    return mn\n",
    "\n",
    "# ------------------------------------------\n",
    "arr = [40, 20, 30, 10, 30]\n",
    "i, j = 1, len(arr)-1\n",
    "mcm_r(arr, i, j)"
   ]
  },
  {
   "cell_type": "code",
   "execution_count": 11,
   "id": "feacef47",
   "metadata": {},
   "outputs": [
    {
     "data": {
      "text/plain": [
       "26000"
      ]
     },
     "execution_count": 11,
     "metadata": {},
     "output_type": "execute_result"
    }
   ],
   "source": [
    "# MCM with Memoization (TopDpwn)\n",
    "def MCM_m(arr, i, j):\n",
    "    global t\n",
    "    if i >= j:\n",
    "        return 0\n",
    "    if t[i][j] != -1:\n",
    "        return t[i][j]\n",
    "    mn = float('inf')\n",
    "    for k in range(i, j):\n",
    "        temp = MCM_m(arr, i, k) + MCM_m(arr, k+1, j) + arr[i-1]*arr[k]*arr[j]\n",
    "        mn = min(mn, temp)\n",
    "    t[i][j] = mn\n",
    "    return mn\n",
    "\n",
    "# ------------------------------------------\n",
    "arr = [40, 20, 30, 10, 30]\n",
    "i, j = 1, len(arr)-1\n",
    "t = [[-1 for i in range(len(arr))] for j in range(len(arr))]\n",
    "MCM_m(arr, i, j)"
   ]
  },
  {
   "cell_type": "markdown",
   "id": "ba93c411",
   "metadata": {},
   "source": [
    "### Palindrom Partiotining Recursion"
   ]
  },
  {
   "cell_type": "code",
   "execution_count": 16,
   "id": "6d1080ec",
   "metadata": {},
   "outputs": [
    {
     "data": {
      "text/plain": [
       "10"
      ]
     },
     "execution_count": 16,
     "metadata": {},
     "output_type": "execute_result"
    }
   ],
   "source": [
    "def ispalindrom(s, i, j):\n",
    "    palindrom = True\n",
    "    while i<j:\n",
    "        if s[i] == s[j]:\n",
    "            i, j =  i+1, j-1\n",
    "        else:\n",
    "            palindrom = False\n",
    "            break\n",
    "    return palindrom\n",
    "\n",
    "def solve(s, i, j):\n",
    "    if i >= j or ispalindrom(s, i, j):\n",
    "        return 0\n",
    "    mn = float('inf')\n",
    "    for k in range(i, j):\n",
    "        temp = 1 + solve(s, i, k) + solve(s, k+1, j)\n",
    "        mn = min(mn, temp)\n",
    "    return mn\n",
    "\n",
    "# -----------------------------------------\n",
    "s = 'nehalahamadansari'\n",
    "i, j = 0, len(s)-1\n",
    "solve(s, i, j)"
   ]
  },
  {
   "cell_type": "code",
   "execution_count": 21,
   "id": "b192d0d8",
   "metadata": {},
   "outputs": [
    {
     "data": {
      "text/plain": [
       "10"
      ]
     },
     "execution_count": 21,
     "metadata": {},
     "output_type": "execute_result"
    }
   ],
   "source": [
    "# Palindrom Partition Memoization\n",
    "def ispalindrom(s, i, j):\n",
    "    palindrom = True\n",
    "    while i<j:\n",
    "        if s[i] == s[j]:\n",
    "            i, j =  i+1, j-1\n",
    "        else:\n",
    "            palindrom = False\n",
    "            break\n",
    "    return palindrom\n",
    "\n",
    "def solve(s, i, j):\n",
    "    if i >= j or ispalindrom(s, i, j):\n",
    "        return 0\n",
    "    mn = float('inf')\n",
    "    global t\n",
    "    if t[i][j] != -1:\n",
    "        return t[i][j]\n",
    "    for k in range(i, j):\n",
    "        sol1 = t[i][k] if t[i][k] != -1 else solve(s, i, k)\n",
    "        sol2 = t[k+1][j] if t[k+1][j] != -1 else solve(s, k+1, j)\n",
    "        temp = 1 + sol1 + sol2\n",
    "#         temp = 1 + solve(s, i, k) + solve(s, k+1, j)\n",
    "        mn = min(mn, temp)\n",
    "    t[i][j] = mn\n",
    "    return mn\n",
    "\n",
    "# -----------------------------------------\n",
    "s = 'nehalahamadansari'\n",
    "i, j = 0, len(s)-1\n",
    "t = [[-1 for i in range(len(s))] for j in range(len(s))]\n",
    "solve(s, i, j)"
   ]
  },
  {
   "cell_type": "code",
   "execution_count": 24,
   "id": "ee037e55",
   "metadata": {},
   "outputs": [
    {
     "data": {
      "text/plain": [
       "False"
      ]
     },
     "execution_count": 24,
     "metadata": {},
     "output_type": "execute_result"
    }
   ],
   "source": [
    "True & False"
   ]
  },
  {
   "cell_type": "code",
   "execution_count": null,
   "id": "5f862591",
   "metadata": {},
   "outputs": [],
   "source": []
  },
  {
   "cell_type": "code",
   "execution_count": null,
   "id": "ee9a258b",
   "metadata": {},
   "outputs": [],
   "source": []
  },
  {
   "cell_type": "code",
   "execution_count": null,
   "id": "1882e85f",
   "metadata": {},
   "outputs": [],
   "source": []
  },
  {
   "cell_type": "code",
   "execution_count": null,
   "id": "28716958",
   "metadata": {},
   "outputs": [],
   "source": []
  }
 ],
 "metadata": {
  "kernelspec": {
   "display_name": "Python 3 (ipykernel)",
   "language": "python",
   "name": "python3"
  },
  "language_info": {
   "codemirror_mode": {
    "name": "ipython",
    "version": 3
   },
   "file_extension": ".py",
   "mimetype": "text/x-python",
   "name": "python",
   "nbconvert_exporter": "python",
   "pygments_lexer": "ipython3",
   "version": "3.11.6"
  }
 },
 "nbformat": 4,
 "nbformat_minor": 5
}

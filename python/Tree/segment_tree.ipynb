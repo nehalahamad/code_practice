{
 "cells": [
  {
   "cell_type": "markdown",
   "id": "72a0dbf5",
   "metadata": {},
   "source": [
    "# [Setment Tree](https://www.youtube.com/playlist?list=PLpIkg8OmuX-K1qUIQToCllUO0UIKXt8dB)\n"
   ]
  },
  {
   "cell_type": "markdown",
   "id": "0bc0a133",
   "metadata": {},
   "source": [
    "##### Concept"
   ]
  },
  {
   "cell_type": "code",
   "execution_count": null,
   "id": "23012042",
   "metadata": {},
   "outputs": [
    {
     "name": "stdout",
     "output_type": "stream",
     "text": [
      "[0, 1, 3, 5, -2, 3]\n",
      "[10, 4, 6, 1, 3, 3, 3, 0, 1, 0, 0, 5, -2, 0, 0, 0, 0, 0, 0, 0, 0, 0, 0, 0]\n",
      "7\n",
      "[0, 101, 3, 5, -2, 3]\n",
      "[110, 104, 6, 101, 3, 3, 3, 0, 101, 0, 0, 5, -2, 0, 0, 0, 0, 0, 0, 0, 0, 0, 0, 0]\n"
     ]
    }
   ],
   "source": [
    "def build(node, l, r):\n",
    "    if l == r:\n",
    "        st[node] = arr[l]\n",
    "    else:\n",
    "        mid = l + (r-l)//2                          # find the middle to split the array into two halves\n",
    "        build(2*node+1, l, mid)                     # recursively travel the left half \n",
    "        build(2*node+2, mid+1, r)                   # recursively travel the right half\n",
    "        st[node] = st[2*node+1] + st[2*node+2]      # storing the sum of both the children into the parent\n",
    "# -----------------------------------------------\n",
    "def update(node, l, r, idx, val):\n",
    "    if l == r:\n",
    "        arr[idx] += val\n",
    "        st[node] += val\n",
    "    else:\n",
    "        mid = l + (r-l)//2\n",
    "        if idx <= mid:\n",
    "            update(2*node+1, l, mid, idx, val)\n",
    "        else:\n",
    "            update(2*node+2, mid+1, r, idx, val)\n",
    "        st[node] = st[2*node+1] + st[2*node+2]\n",
    "# -----------------------------------------------\n",
    "def query(node, l, r, start, end):\n",
    "    if (end < l or r < start):              # If it lies out of range then return 0\n",
    "        return 0\n",
    "    if (start <= l and r <= end):           # If the node contains the range then return the node value\n",
    "        return st[node]\n",
    "    mid = (l + r) // 2                      # Recursively traverse left and right and find the node\n",
    "    q_left = query(2*node+1, l, mid, start, end)\n",
    "    q_right = query(2*node+2, mid+1, r, start, end)\n",
    "    return q_left + q_right\n",
    "\n",
    "# ===============================================\n",
    "if __name__ == '__main__':\n",
    "    arr = [0, 1, 3, 5, -2, 3]\n",
    "    n = len(arr)\n",
    "    st = [0]*(4*n)\n",
    "    \n",
    "    build(0, 0, n-1)\n",
    "    print(arr)\n",
    "    print(st)\n",
    "    print(query(0, 0, n-1, 1, 4))\n",
    "\n",
    "    update(0, 0, n-1, 1, 100)\n",
    "    print(arr)\n",
    "    print(st)\n"
   ]
  },
  {
   "cell_type": "markdown",
   "id": "7bc81620",
   "metadata": {},
   "source": [
    "##### [3479. Fruits Into Baskets III - LeetCode](https://leetcode.com/problems/fruits-into-baskets-iii/description/)"
   ]
  },
  {
   "cell_type": "code",
   "execution_count": null,
   "id": "2d1b4c75",
   "metadata": {},
   "outputs": [],
   "source": []
  },
  {
   "cell_type": "markdown",
   "id": "9f76d766",
   "metadata": {},
   "source": [
    "##### [Sum of Query II - GFG](https://www.geeksforgeeks.org/problems/sum-of-query-ii5310/1) ----->[▶️](https://youtu.be/VJ67kQHYbv8?list=PLpIkg8OmuX-K1qUIQToCllUO0UIKXt8dB)"
   ]
  },
  {
   "cell_type": "code",
   "execution_count": 2,
   "id": "4a803abf",
   "metadata": {},
   "outputs": [
    {
     "name": "stdout",
     "output_type": "stream",
     "text": [
      "[29, 78]\n"
     ]
    }
   ],
   "source": [
    "class Solution:\n",
    "    def querySum(self, n, arr, q, queries):\n",
    "        # -------------------------------------------\n",
    "        def build(idx, l, r):\n",
    "            if l == r:\n",
    "                st[idx] = arr[l]\n",
    "                return\n",
    "            mid = l + (r-l)//2\n",
    "            build(2*idx+1, l, mid)\n",
    "            build(2*idx+2, mid+1, r)\n",
    "            st[idx] = st[2*idx+1] + st[2*idx+2]\n",
    "        # -------------------------------------------\n",
    "        def query(idx, l, r, start, end):\n",
    "            if end < l or r < start:\n",
    "                return 0\n",
    "            if start <= l and r <= end:\n",
    "                return st[idx]\n",
    "            mid = l + (r-l)//2\n",
    "            return query(2*idx+1, l, mid, start, end) + query(2*idx+2, mid+1, r, start, end)\n",
    "            \n",
    "                \n",
    "            \n",
    "        # ================================================\n",
    "        st = [0]*(4*n)  # segment tree\n",
    "        build(0, 0, n-1)\n",
    "        result = []\n",
    "        for i in range(0, len(queries), 2):\n",
    "            start, end = queries[i]-1, queries[i+1]-1\n",
    "            res = query(0, 0, n-1, start, end)\n",
    "            result.append(res)\n",
    "        return result\n",
    "            \n",
    "# ===========================\n",
    "n = 5\n",
    "arr = [26, 30, 48, 29, 8]\n",
    "q = 2\n",
    "queries = [4, 4, 2, 3]\n",
    "ss = Solution()\n",
    "res1 = ss.querySum(n, arr, q, queries)\n",
    "print(res1)"
   ]
  },
  {
   "cell_type": "markdown",
   "id": "bc2a5fcd",
   "metadata": {},
   "source": [
    "##### [Range Minimum Query (RMQ)](https://www.geeksforgeeks.org/problems/range-minimum-query/1) ----->[▶️](https://youtu.be/qU4DAnv3o7g?list=PLpIkg8OmuX-K1qUIQToCllUO0UIKXt8dB)"
   ]
  },
  {
   "cell_type": "code",
   "execution_count": null,
   "id": "37be4343",
   "metadata": {},
   "outputs": [
    {
     "name": "stdout",
     "output_type": "stream",
     "text": [
      "1\n",
      "3\n"
     ]
    }
   ],
   "source": [
    "def constructST(arr, n):\n",
    "    # ---------------------------\n",
    "    def build(idx, l, r):\n",
    "        if l == r:\n",
    "            st[idx] = arr[l]\n",
    "        else:\n",
    "            mid = l + (r-l)//2\n",
    "            build(2*idx+1, l, mid)\n",
    "            build(2*idx+2, mid+1, r)\n",
    "            st[idx] = min(st[2*idx+1], st[2*idx+2])\n",
    "    # ---------------------------\n",
    "    st = [None]*(4*n)\n",
    "    l, r = 0, n-1\n",
    "    build(0, l, r)\n",
    "    return st\n",
    "\n",
    "# ------------------------------------------------------------------\n",
    "def RMQ(st, n, qs, qe):\n",
    "    # ---------------------------\n",
    "    def query(idx, l, r, qs, qe):\n",
    "        if qe < l or r < qs:    # out of bound condition\n",
    "            return float(\"inf\")\n",
    "        if qs <=l and r <=qe:   # in the bound condition\n",
    "            return st[idx]\n",
    "        mid = l + (r-l)//2\n",
    "        # partially in and partially out condition\n",
    "        q_left = query(2*idx+1, l, mid, qs, qe)\n",
    "        q_right = query(2*idx+2, mid+1, r, qs, qe)\n",
    "        return min(q_left, q_right)\n",
    "    # ---------------------------\n",
    "    l, r = 0, n-1\n",
    "    return query(0, l, r, qs, qe)\n",
    "\n",
    "\n",
    "# =============================================================\n",
    "test_case = 1\n",
    "n = 4\n",
    "arr = [1, 2, 3, 4]\n",
    "q = 2\n",
    "queries = [0, 2, 2, 3]\n",
    "\n",
    "st = constructST(arr, n)\n",
    "for i in range(0, 2*q, 2):\n",
    "    qs, qe = queries[i], queries[i+1]\n",
    "    res = RMQ(st, n, qs, qe)        # Expected [1, 3]\n",
    "    print(res)"
   ]
  },
  {
   "cell_type": "markdown",
   "id": "338ad816",
   "metadata": {},
   "source": [
    "##### Range Update Query [▶️](https://youtu.be/FB_LjtTQwlw?list=PLpIkg8OmuX-K1qUIQToCllUO0UIKXt8dB)"
   ]
  },
  {
   "cell_type": "markdown",
   "id": "186ce1eb",
   "metadata": {},
   "source": [
    "##### [307. Range Sum Query - Mutable - LeetCode](https://leetcode.com/problems/range-sum-query-mutable/description/) -----> [▶️](https://youtu.be/82HaBghHuDU?list=PLpIkg8OmuX-K1qUIQToCllUO0UIKXt8dB)"
   ]
  },
  {
   "cell_type": "code",
   "execution_count": null,
   "id": "47a448ec",
   "metadata": {},
   "outputs": [
    {
     "name": "stdout",
     "output_type": "stream",
     "text": [
      "9\n",
      "8\n"
     ]
    }
   ],
   "source": [
    "from typing import List\n",
    "\n",
    "class NumArray:\n",
    "\n",
    "    def __init__(self, nums: List[int]):\n",
    "        self.nums = nums\n",
    "        self.n = len(nums)\n",
    "        self.st = [0]*(4*self.n)\n",
    "        self._build(0, 0, self.n-1)\n",
    "        \n",
    "\n",
    "    def update(self, index: int, val: int) -> None:\n",
    "        self._update(0, 0, self.n-1, index, val)\n",
    "        \n",
    "\n",
    "    def sumRange(self, left: int, right: int) -> int:\n",
    "        return self._query(0, 0, self.n-1, left, right)\n",
    "\n",
    "\n",
    "    \n",
    "    def _build(self, node, l, r):\n",
    "        if l == r:\n",
    "            self.st[node] = self.nums[l]\n",
    "            return\n",
    "        mid = l + (r-l)//2\n",
    "        self._build(2*node+1, l, mid)\n",
    "        self._build(2*node+2, mid+1, r)\n",
    "        self.st[node] = self.st[2*node+1] + self.st[2*node+2]\n",
    "\n",
    "    def _update(self, node, l, r, index, val):\n",
    "        if l == r:\n",
    "            self.st[node] = val\n",
    "            return\n",
    "\n",
    "        mid = l + (r-l)//2\n",
    "        if index <= mid:\n",
    "            self._update(2*node+1, l, mid, index, val)\n",
    "        else:\n",
    "            self._update(2*node+2, mid+1, r, index, val)\n",
    "        self.st[node] = self.st[2*node+1] + self.st[2*node+2]\n",
    "\n",
    "    def _query(self, node, l, r, start, end):\n",
    "        if end < l or r < start: # out of range\n",
    "            return 0\n",
    "        if start <= l and r <= end:\n",
    "            return self.st[node]\n",
    "        mid = l + (r-l)//2\n",
    "        return self._query(2*node+1, l, mid, start, end) + self._query(2*node+2, mid+1, r, start, end)\n",
    "\n",
    "\n",
    "# =====================================================================================================\n",
    "# [\"NumArray\",\"sumRange\",\"update\",\"sumRange\"]\n",
    "# [[[1,3,5]],[0,2],[1,2],[0,2]]\n",
    "\n",
    "# Your NumArray object will be instantiated and called as such:\n",
    "obj = NumArray([1,3,5])\n",
    "param_1 = obj.sumRange(0,2)\n",
    "print(param_1)                  # Expected 9\n",
    "obj.update(1,2)\n",
    "param_2 = obj.sumRange(0,2)\n",
    "print(param_2)                  # Expected 9"
   ]
  },
  {
   "cell_type": "markdown",
   "id": "1c20b1bc",
   "metadata": {},
   "source": [
    "##### [2438. Range Product Queries of Powers - Leetcode](https://leetcode.com/problems/range-product-queries-of-powers/description/?envType=daily-question&envId=2025-08-11)"
   ]
  },
  {
   "cell_type": "code",
   "execution_count": null,
   "id": "025bcb2e",
   "metadata": {},
   "outputs": [
    {
     "name": "stdout",
     "output_type": "stream",
     "text": [
      "[2, 4, 64]\n"
     ]
    }
   ],
   "source": [
    "from typing import List\n",
    "\n",
    "class Solution:\n",
    "    def productQueries(self, n: int, queries: List[List[int]]) -> List[int]:\n",
    "        MOD = 10**9 + 7\n",
    "        # ------------------------------------------\n",
    "        def build(idx, l, r):\n",
    "            if l == r:\n",
    "                st[idx] = powers[l]\n",
    "                return\n",
    "            mid = l + (r-l)//2\n",
    "            build(2*idx+1, l, mid)\n",
    "            build(2*idx+2, mid+1, r)\n",
    "            st[idx] = (st[2*idx+1] * st[2*idx+2]) % MOD\n",
    "        # ------------------------------------------\n",
    "        def query(idx, l, r, start, end):\n",
    "            if end < l or r < start:\n",
    "                return 1\n",
    "            if start <= l and r <= end:\n",
    "                return st[idx]\n",
    "            mid = l + (r-l)//2\n",
    "            return (query(2*idx+1, l, mid, start, end) * query(2*idx+2, mid+1, r, start, end)) % MOD\n",
    "        # ------------------------------------------\n",
    "        powers = []\n",
    "        for i, n in enumerate(bin(n)[2:][::-1]):\n",
    "            if n == '1':\n",
    "                powers.append(2**i)\n",
    "        n = len(powers)\n",
    "        # ------------------------------------------\n",
    "        st = [1]*(4*n)\n",
    "        build(0, 0, n-1)\n",
    "        # ------------------------------------------\n",
    "\n",
    "        result = []\n",
    "        for start, end in queries:\n",
    "            res = query(0, 0, n-1, start, end)\n",
    "            result.append(res)\n",
    "        return result\n",
    "\n",
    "\n",
    "\n",
    "# =====================================================================\n",
    "n = 15\n",
    "queries = [[0,1],[2,2],[0,3]]\n",
    "ss = Solution()\n",
    "result = ss.productQueries(n, queries)\n",
    "print(result)\n",
    "        "
   ]
  },
  {
   "cell_type": "markdown",
   "id": "d1dc4434",
   "metadata": {},
   "source": [
    "##### Lazy approach"
   ]
  },
  {
   "cell_type": "code",
   "execution_count": null,
   "id": "792c913d",
   "metadata": {},
   "outputs": [],
   "source": []
  },
  {
   "cell_type": "markdown",
   "id": "3dc15f4b",
   "metadata": {},
   "source": [
    "##### Range Maximum Index Query (RMIQ) [▶️](https://youtu.be/5n2zzL8EqNY?list=PLpIkg8OmuX-K1qUIQToCllUO0UIKXt8dB)"
   ]
  },
  {
   "cell_type": "code",
   "execution_count": 5,
   "id": "24ce2815",
   "metadata": {},
   "outputs": [
    {
     "name": "stdout",
     "output_type": "stream",
     "text": [
      "4\n"
     ]
    }
   ],
   "source": [
    "def build(idx, l, r):\n",
    "    if l == r:\n",
    "        st[idx] = l  # arr[l]\n",
    "        return\n",
    "    # -------------\n",
    "    mid = l + (r-l)//2\n",
    "    # -------------\n",
    "    build(2*idx+1, l, mid)\n",
    "    build(2*idx+2, mid+1, r)\n",
    "    # -------------\n",
    "    left_max_idx = st[2*idx+1]\n",
    "    right_max_idx = st[2*idx+2]\n",
    "    # -------------\n",
    "    if arr[left_max_idx] >= arr[right_max_idx]:\n",
    "        st[idx] = left_max_idx\n",
    "    else:\n",
    "        st[idx] = right_max_idx\n",
    "    # -------------\n",
    "\n",
    "# -------------------------------\n",
    "def query(idx, l, r, start, end):\n",
    "    if r < start or end < l:\n",
    "        return -1\n",
    "    if start <= l and r <= end:\n",
    "        return st[idx]  # return index of max element\n",
    "    # -------------\n",
    "    mid = l + (r-l)//2\n",
    "    # -------------\n",
    "    left_max_idx  = query(2*idx+1, l, mid, start, end)\n",
    "    right_max_idx = query(2*idx+2, mid+1, r, start, end)\n",
    "    # -------------\n",
    "    if left_max_idx == -1: return right_max_idx\n",
    "    if right_max_idx == -1: return left_max_idx\n",
    "    # -------------\n",
    "    if arr[left_max_idx] >= arr[right_max_idx]:\n",
    "        return left_max_idx\n",
    "    else:\n",
    "        return right_max_idx\n",
    "    # -------------\n",
    "\n",
    "\n",
    "# ===============================================\n",
    "arr = [1, 5, 2, 3, 7, 4, 1]\n",
    "n = len(arr)\n",
    "st = [0]*(4*n)\n",
    "\n",
    "build(0, 0, n-1)\n",
    "res = query(0, 0, n-1, 0, 6)\n",
    "print(res)"
   ]
  },
  {
   "cell_type": "markdown",
   "id": "ee3f048d",
   "metadata": {},
   "source": [
    "##### [2940. Find Building Where Alice and Bob Can Meet - LeetCode](https://leetcode.com/problems/find-building-where-alice-and-bob-can-meet/description/) -----> [▶️](https://youtu.be/Eh2UHBHxqvc?list=PLpIkg8OmuX-K1qUIQToCllUO0UIKXt8dB)"
   ]
  },
  {
   "cell_type": "code",
   "execution_count": null,
   "id": "b8d24ab5",
   "metadata": {},
   "outputs": [
    {
     "name": "stdout",
     "output_type": "stream",
     "text": [
      "[7, 6, -1, 4, 6]\n"
     ]
    }
   ],
   "source": [
    "from typing import List\n",
    "class Solution:\n",
    "    def leftmostBuildingQueries(self, heights: List[int], queries: List[List[int]]) -> List[int]:\n",
    "        def build(idx, l, r):\n",
    "            if l == r:\n",
    "                st[idx] = l\n",
    "                return\n",
    "            # -------------\n",
    "            mid = l + (r-l)//2\n",
    "            # -------------\n",
    "            build(2*idx+1, l, mid)\n",
    "            build(2*idx+2, mid+1, r)\n",
    "            # -------------\n",
    "            left_max_idx = st[2*idx+1]\n",
    "            right_max_idx = st[2*idx+2]\n",
    "            # -------------\n",
    "            if heights[left_max_idx] >= heights[right_max_idx]:\n",
    "                st[idx] = left_max_idx\n",
    "            else:\n",
    "                st[idx] = right_max_idx\n",
    "            \n",
    "        # ------------------------------------\n",
    "        def query(idx, l, r, start, end):\n",
    "            if r < start or end < l:\n",
    "                return -1\n",
    "            if start <= l and r <= end:\n",
    "                return st[idx]  # return index of max element\n",
    "            # -------------\n",
    "            mid = l + (r-l)//2\n",
    "            # -------------\n",
    "            left_max_idx  = query(2*idx+1, l, mid, start, end)\n",
    "            right_max_idx = query(2*idx+2, mid+1, r, start, end)\n",
    "            # -------------\n",
    "            if left_max_idx == -1: return right_max_idx\n",
    "            if right_max_idx == -1: return left_max_idx\n",
    "            # -------------\n",
    "            if heights[left_max_idx] >= heights[right_max_idx]:\n",
    "                return left_max_idx\n",
    "            else:\n",
    "                return right_max_idx\n",
    "        # ------------------------------------\n",
    "        def RMIQ(start, end):     # range maximum index query\n",
    "            return query(0, 0, n-1, start, end)\n",
    "\n",
    "        \n",
    "        # ============================================================\n",
    "        n = len(heights)\n",
    "        st = [0]*(4*n)\n",
    "        build(0, 0, n-1)\n",
    "\n",
    "        result = []\n",
    "        for a, b in queries:\n",
    "            if a > b:\n",
    "                a, b = b, a   # a <= b\n",
    "            if a == b or heights[b] > heights[a]:\n",
    "                result.append(b)\n",
    "                continue\n",
    "            \n",
    "            l = b+1\n",
    "            r = n-1\n",
    "            result_idx = float(\"inf\")\n",
    "            while l <= r:\n",
    "                mid = l + (r-l)//2\n",
    "                idx = RMIQ(l, mid) # return max element index in range (l, mid)\n",
    "                if heights[idx] > max(heights[a], heights[b]):\n",
    "                    result_idx = min(result_idx, idx)\n",
    "                    r = mid - 1\n",
    "                else:\n",
    "                    l = mid + 1\n",
    "            if result_idx == float(\"inf\"):\n",
    "                result.append(-1)\n",
    "            else:\n",
    "                result.append(result_idx)\n",
    "\n",
    "        return result\n",
    "\n",
    "# =====================================================\n",
    "heights = [5,3,8,2,6,1,4,6]\n",
    "queries = [[0,7],[3,5],[5,2],[3,0],[1,6]]    # Expected [7,6,-1,4,6]\n",
    "\n",
    "ss = Solution()\n",
    "res = ss.leftmostBuildingQueries(heights, queries)\n",
    "print(res)"
   ]
  },
  {
   "cell_type": "code",
   "execution_count": 17,
   "id": "b63c5491",
   "metadata": {},
   "outputs": [
    {
     "name": "stdout",
     "output_type": "stream",
     "text": [
      "[7, 6, -1, 4, 6]\n"
     ]
    }
   ],
   "source": [
    "     \n",
    "import math\n",
    "\n",
    "class Solution:\n",
    "    def leftmostBuildingQueries(self, heights: List[int], queries: List[List[int]]) -> List[int]:\n",
    "        n = len(heights)\n",
    "        logn = math.floor(math.log2(n)) + 1 if n > 0 else 0\n",
    "        st = [[-1] * n for _ in range(logn)]\n",
    "        \n",
    "        # Initialize sparse table for RMQ\n",
    "        for i in range(n):\n",
    "            st[0][i] = i\n",
    "        \n",
    "        for j in range(1, logn):\n",
    "            for i in range(n - (1 << j) + 1):\n",
    "                left = st[j-1][i]\n",
    "                right = st[j-1][i + (1 << (j-1))]\n",
    "                if heights[left] >= heights[right]:\n",
    "                    st[j][i] = left\n",
    "                else:\n",
    "                    st[j][i] = right\n",
    "        \n",
    "        def query_max(l, r):\n",
    "            length = r - l + 1\n",
    "            k = math.floor(math.log2(length))\n",
    "            left_max = st[k][l]\n",
    "            right_max = st[k][r - (1 << k) + 1]\n",
    "            return left_max if heights[left_max] >= heights[right_max] else right_max\n",
    "        \n",
    "        result = []\n",
    "        for a, b in queries:\n",
    "            min_idx = min(a, b)\n",
    "            max_idx = max(a, b)\n",
    "            if (min_idx == max_idx) or (heights[max_idx] > heights[min_idx]):\n",
    "                result.append(max_idx)\n",
    "                continue\n",
    "            \n",
    "            l = max_idx + 1\n",
    "            r = n - 1\n",
    "            answer = -1\n",
    "            while l <= r:\n",
    "                mid = (l + r) // 2\n",
    "                current_max_idx = query_max(l, mid)\n",
    "                if heights[current_max_idx] > max(heights[min_idx], heights[max_idx]):\n",
    "                    answer = current_max_idx\n",
    "                    r = mid - 1\n",
    "                else:\n",
    "                    l = mid + 1\n",
    "            result.append(answer)\n",
    "        \n",
    "        return result\n",
    "    \n",
    "# =====================================================\n",
    "heights = [5,3,8,2,6,1,4,6]\n",
    "queries = [[0,7],[3,5],[5,2],[3,0],[1,6]]    # Expected [7,6,-1,4,6]\n",
    "\n",
    "ss = Solution()\n",
    "res = ss.leftmostBuildingQueries(heights, queries)\n",
    "print(res)"
   ]
  },
  {
   "cell_type": "code",
   "execution_count": null,
   "id": "e3434327",
   "metadata": {},
   "outputs": [],
   "source": []
  },
  {
   "cell_type": "code",
   "execution_count": null,
   "id": "04b2f68b",
   "metadata": {},
   "outputs": [],
   "source": []
  }
 ],
 "metadata": {
  "kernelspec": {
   "display_name": "Python 3",
   "language": "python",
   "name": "python3"
  },
  "language_info": {
   "codemirror_mode": {
    "name": "ipython",
    "version": 3
   },
   "file_extension": ".py",
   "mimetype": "text/x-python",
   "name": "python",
   "nbconvert_exporter": "python",
   "pygments_lexer": "ipython3",
   "version": "3.11.1"
  }
 },
 "nbformat": 4,
 "nbformat_minor": 5
}
